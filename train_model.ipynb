{
 "cells": [
  {
   "cell_type": "markdown",
   "id": "829327dc",
   "metadata": {},
   "source": [
    "CLINICAL METADATA PREPROCESSING"
   ]
  },
  {
   "cell_type": "code",
   "execution_count": null,
   "id": "a1843202",
   "metadata": {},
   "outputs": [
    {
     "name": "stderr",
     "output_type": "stream",
     "text": [
      "C:\\Users\\HP\\AppData\\Local\\Temp\\ipykernel_16224\\3805284833.py:22: SettingWithCopyWarning: \n",
      "A value is trying to be set on a copy of a slice from a DataFrame.\n",
      "Try using .loc[row_indexer,col_indexer] = value instead\n",
      "\n",
      "See the caveats in the documentation: https://pandas.pydata.org/pandas-docs/stable/user_guide/indexing.html#returning-a-view-versus-a-copy\n",
      "  clinical_data[col] = clinical_data[col].fillna(clinical_data[col].mean())\n"
     ]
    },
    {
     "data": {
      "text/html": [
       "<div>\n",
       "<style scoped>\n",
       "    .dataframe tbody tr th:only-of-type {\n",
       "        vertical-align: middle;\n",
       "    }\n",
       "\n",
       "    .dataframe tbody tr th {\n",
       "        vertical-align: top;\n",
       "    }\n",
       "\n",
       "    .dataframe thead th {\n",
       "        text-align: right;\n",
       "    }\n",
       "</style>\n",
       "<table border=\"1\" class=\"dataframe\">\n",
       "  <thead>\n",
       "    <tr style=\"text-align: right;\">\n",
       "      <th></th>\n",
       "      <th>Image Data ID</th>\n",
       "      <th>Subject</th>\n",
       "      <th>Age</th>\n",
       "      <th>Visit</th>\n",
       "      <th>Sex_F</th>\n",
       "      <th>Sex_M</th>\n",
       "      <th>label</th>\n",
       "    </tr>\n",
       "  </thead>\n",
       "  <tbody>\n",
       "    <tr>\n",
       "      <th>0</th>\n",
       "      <td>I118772</td>\n",
       "      <td>018_S_0369</td>\n",
       "      <td>0.600000</td>\n",
       "      <td>sc</td>\n",
       "      <td>False</td>\n",
       "      <td>True</td>\n",
       "      <td>2</td>\n",
       "    </tr>\n",
       "    <tr>\n",
       "      <th>1</th>\n",
       "      <td>I119180</td>\n",
       "      <td>067_S_0029</td>\n",
       "      <td>0.257143</td>\n",
       "      <td>sc</td>\n",
       "      <td>False</td>\n",
       "      <td>True</td>\n",
       "      <td>0</td>\n",
       "    </tr>\n",
       "    <tr>\n",
       "      <th>3</th>\n",
       "      <td>I119175</td>\n",
       "      <td>053_S_1044</td>\n",
       "      <td>0.314286</td>\n",
       "      <td>sc</td>\n",
       "      <td>False</td>\n",
       "      <td>True</td>\n",
       "      <td>0</td>\n",
       "    </tr>\n",
       "    <tr>\n",
       "      <th>4</th>\n",
       "      <td>I118779</td>\n",
       "      <td>018_S_0286</td>\n",
       "      <td>0.314286</td>\n",
       "      <td>sc</td>\n",
       "      <td>False</td>\n",
       "      <td>True</td>\n",
       "      <td>0</td>\n",
       "    </tr>\n",
       "    <tr>\n",
       "      <th>7</th>\n",
       "      <td>I81972</td>\n",
       "      <td>131_S_1389</td>\n",
       "      <td>0.600000</td>\n",
       "      <td>sc</td>\n",
       "      <td>False</td>\n",
       "      <td>True</td>\n",
       "      <td>1</td>\n",
       "    </tr>\n",
       "  </tbody>\n",
       "</table>\n",
       "</div>"
      ],
      "text/plain": [
       "  Image Data ID     Subject       Age Visit  Sex_F  Sex_M  label\n",
       "0       I118772  018_S_0369  0.600000    sc  False   True      2\n",
       "1       I119180  067_S_0029  0.257143    sc  False   True      0\n",
       "3       I119175  053_S_1044  0.314286    sc  False   True      0\n",
       "4       I118779  018_S_0286  0.314286    sc  False   True      0\n",
       "7        I81972  131_S_1389  0.600000    sc  False   True      1"
      ]
     },
     "execution_count": 37,
     "metadata": {},
     "output_type": "execute_result"
    }
   ],
   "source": [
    "import pandas as pd\n",
    "from sklearn.preprocessing import MinMaxScaler\n",
    "\n",
    "df = pd.read_csv(\"C:/Users/HP/Downloads/archive/ADNI1_Complete_1Yr_1.5T.csv\")\n",
    "df = df[df['Visit'] == 'sc']\n",
    "features = [\"Image Data ID\",\"Subject\",\"Group\",\"Sex\",\"Age\",\"Visit\"]\n",
    "clinical_data = df[features]\n",
    "numerical_cols = ['Age']  \n",
    "for col in numerical_cols:\n",
    "    clinical_data[col] = clinical_data[col].fillna(clinical_data[col].mean())\n",
    "clinical_data = clinical_data.dropna(subset=['Sex', 'Group'])\n",
    "scaler = MinMaxScaler()\n",
    "clinical_data[numerical_cols] = scaler.fit_transform(clinical_data[numerical_cols])\n",
    "clinical_data = pd.get_dummies(clinical_data, columns=['Sex'], prefix='Sex')\n",
    "label_map = {'AD': 0, 'MCI': 1, 'CN': 2}\n",
    "clinical_data['label'] = clinical_data['Group'].map(label_map)\n",
    "clinical_data = clinical_data.drop(columns=['Group'])\n",
    "clinical_data.to_csv(\"preprocessed_clinical.csv\", index=False)\n",
    "clinical_data.head()"
   ]
  },
  {
   "cell_type": "markdown",
   "id": "06713d25",
   "metadata": {},
   "source": [
    "PROCESS ALIGNED MRI IMAGES (CONVERT 3D MRI TO 2D PNG)"
   ]
  },
  {
   "cell_type": "code",
   "execution_count": null,
   "id": "b6305182",
   "metadata": {},
   "outputs": [
    {
     "name": "stdout",
     "output_type": "stream",
     "text": [
      "Processed I118772\n",
      "Processed I119180\n",
      "Processed I119175\n",
      "Processed I118779\n",
      "Processed I81972\n",
      "Processed I118875\n",
      "Processed I119137\n",
      "Processed I119130\n",
      "Processed I119300\n",
      "Processed I119123\n",
      "Processed I138912\n",
      "Processed I73357\n",
      "Processed I79948\n",
      "Processed I119277\n",
      "Processed I80718\n",
      "Processed I79838\n",
      "Processed I118792\n",
      "Processed I130237\n",
      "Processed I69113\n",
      "Processed I79796\n",
      "Processed I118716\n",
      "Processed I119264\n",
      "Processed I119610\n",
      "Processed I119235\n",
      "Processed I119087\n",
      "Processed I118711\n",
      "Processed I119229\n",
      "Processed I119510\n",
      "Processed I119480\n",
      "Processed I118704\n",
      "Processed I120057\n",
      "Processed I119076\n",
      "Processed I119221\n",
      "Processed I119067\n",
      "Processed I119199\n",
      "Processed I118994\n",
      "Processed I119737\n",
      "Processed I119328\n",
      "Processed I119728\n",
      "Processed I119192\n",
      "Processed I118976\n",
      "Processed I118970\n",
      "Processed I74591\n",
      "Processed I118907\n",
      "Processed I119711\n",
      "Processed I118686\n",
      "Processed I118678\n",
      "Processed I67341\n",
      "Processed I118671\n",
      "Processed I67201\n",
      "Processed I118693\n",
      "Processed I118687\n",
      "Processed I121228\n",
      "Processed I130231\n",
      "Processed I118680\n",
      "Processed I140334\n",
      "Processed I118672\n",
      "Processed I124897\n",
      "Processed I112292\n",
      "Processed I67223\n",
      "Processed I119730\n",
      "Processed I119720\n",
      "Processed I66462\n",
      "Processed I102040\n",
      "Processed I66413\n",
      "Processed I119634\n",
      "Processed I66305\n",
      "Processed I101528\n",
      "Processed I124879\n",
      "Processed I119527\n",
      "Processed I98875\n",
      "Processed I97200\n",
      "Processed I66167\n",
      "Processed I119334\n",
      "Processed I66078\n",
      "Processed I66373\n",
      "Processed I121435\n",
      "Processed I67441\n",
      "Processed I65752\n",
      "Processed I80760\n",
      "Processed I94824\n",
      "Processed I120056\n",
      "Processed I119310\n",
      "Processed I118669\n",
      "Processed I96321\n",
      "Processed I119736\n",
      "Processed I79803\n",
      "Processed I65257\n",
      "Processed I96234\n",
      "Processed I119726\n",
      "Processed I66997\n",
      "Processed I79755\n",
      "Processed I92529\n",
      "Processed I119717\n",
      "Processed I66158\n",
      "Processed I79934\n",
      "Processed I65130\n",
      "Processed I96178\n",
      "Processed I92398\n",
      "Processed I119265\n",
      "Processed I66069\n",
      "Processed I119246\n",
      "Processed I79831\n",
      "Processed I119230\n",
      "Processed I119651\n",
      "Processed I79792\n",
      "Processed I64907\n",
      "Processed I119200\n",
      "Processed I119188\n",
      "Processed I79732\n",
      "Processed I79102\n",
      "Processed I64631\n",
      "Processed I65739\n",
      "Processed I119534\n",
      "Processed I65689\n",
      "Processed I64417\n",
      "Processed I119145\n",
      "Processed I79342\n",
      "Processed I66356\n",
      "Processed I119138\n",
      "Processed I119410\n",
      "Processed I64390\n",
      "Processed I119132\n",
      "Processed I119125\n",
      "Processed I90848\n",
      "Processed I97327\n",
      "Processed I92669\n",
      "Processed I64189\n",
      "Processed I119118\n",
      "Processed I64037\n",
      "Processed I65383\n",
      "Processed I89952\n",
      "Processed I92429\n",
      "Processed I63819\n",
      "Processed I63766\n",
      "Processed I66051\n",
      "Processed I96221\n",
      "Processed I65248\n",
      "Processed I119322\n",
      "Processed I92286\n",
      "Processed I63637\n",
      "Processed I89495\n",
      "Processed I119102\n",
      "Processed I65118\n",
      "Processed I89390\n",
      "Processed I65676\n",
      "Processed I63479\n",
      "Processed I65611\n",
      "Processed I119270\n",
      "Processed I119068\n",
      "Processed I64898\n",
      "Processed I119263\n",
      "Processed I75485\n",
      "Processed I63357\n",
      "Processed I119234\n",
      "Processed I65239\n",
      "Processed I63170\n",
      "Processed I119209\n",
      "Processed I64672\n",
      "Processed I118990\n",
      "Processed I119198\n",
      "Processed I65109\n",
      "Processed I63111\n",
      "Processed I63008\n",
      "Processed I118984\n",
      "Processed I119186\n",
      "Processed I62943\n",
      "Processed I118971\n",
      "Processed I118892\n",
      "Processed I62630\n",
      "Processed I64410\n",
      "Processed I119162\n",
      "Processed I118869\n",
      "Processed I72219\n",
      "Processed I119136\n",
      "Processed I62299\n",
      "Processed I64717\n",
      "Processed I118838\n",
      "Processed I119128\n",
      "Processed I118828\n",
      "Processed I91253\n",
      "Processed I60664\n",
      "Processed I119122\n",
      "Processed I64170\n",
      "Processed I73656\n",
      "Processed I64430\n",
      "Processed I89429\n",
      "Processed I119116\n",
      "Processed I60417\n",
      "Processed I64405\n",
      "Processed I60003\n",
      "Processed I64374\n",
      "Processed I119105\n",
      "Processed I69612\n",
      "Processed I118763\n",
      "Processed I63757\n",
      "Processed I64161\n",
      "Processed I69492\n",
      "Processed I63632\n",
      "Processed I69073\n",
      "Processed I118750\n",
      "Processed I63874\n",
      "Processed I59725\n",
      "Processed I89417\n",
      "Processed I68545\n",
      "Processed I63793\n",
      "Processed I118745\n",
      "Processed I59690\n",
      "Processed I63752\n",
      "Processed I119080\n",
      "Processed I68120\n",
      "Processed I59647\n",
      "Processed I59552\n",
      "Processed I119071\n",
      "Processed I118717\n",
      "Processed I63468\n",
      "Processed I119062\n",
      "Processed I118712\n",
      "Processed I118988\n",
      "Processed I63454\n",
      "Processed I63392\n",
      "Processed I118975\n",
      "Processed I118923\n",
      "Processed I63349\n",
      "Processed I63424\n",
      "Processed I118879\n",
      "Processed I118874\n",
      "Processed I86438\n",
      "Processed I63383\n",
      "Processed I63155\n",
      "Processed I62998\n",
      "Processed I63332\n",
      "Processed I118832\n",
      "Processed I63147\n",
      "Processed I86206\n",
      "Processed I62984\n",
      "Processed I62695\n",
      "Processed I67266\n",
      "Processed I62433\n",
      "Processed I62666\n",
      "Processed I67434\n",
      "Processed I62589\n",
      "Processed I62282\n",
      "Processed I67110\n",
      "Processed I118766\n",
      "Processed I69733\n",
      "Processed I62240\n",
      "Processed I60760\n",
      "Processed I60618\n",
      "Processed I119802\n",
      "Processed I69390\n",
      "Processed I69104\n",
      "Processed I60406\n",
      "Processed I130234\n",
      "Processed I59981\n",
      "Processed I119734\n",
      "Processed I128366\n",
      "Processed I60056\n",
      "Processed I68581\n",
      "Processed I119724\n",
      "Processed I82738\n",
      "Processed I119701\n",
      "Processed I59753\n",
      "Processed I118715\n",
      "Processed I59798\n",
      "Processed I119626\n",
      "Processed I59718\n",
      "Processed I108505\n",
      "Processed I118703\n",
      "Processed I59686\n",
      "Processed I118698\n",
      "Processed I59711\n",
      "Processed I119520\n",
      "Processed I119486\n",
      "Processed I80199\n",
      "Processed I118691\n",
      "Processed I119409\n",
      "Processed I59637\n",
      "Processed I59666\n",
      "Processed I118685\n",
      "Processed I66428\n",
      "Processed I59524\n",
      "Processed I59615\n",
      "Processed I118677\n",
      "Processed I59456\n",
      "Processed I119331\n",
      "Processed I59446\n",
      "Processed I79824\n",
      "Processed I79773\n",
      "Processed I66185\n",
      "Processed I119307\n",
      "Processed I95688\n",
      "Processed I66310\n",
      "Processed I108504\n",
      "Processed I107934\n",
      "Processed I65727\n",
      "Processed I67531\n",
      "Processed I65667\n",
      "Processed I65597\n",
      "Processed I92401\n",
      "Processed I67423\n",
      "Processed I66176\n",
      "Processed I65478\n",
      "Processed I119139\n",
      "Processed I119268\n",
      "Processed I119261\n",
      "Processed I65230\n",
      "Processed I119233\n",
      "Processed I73642\n",
      "Processed I119134\n",
      "Processed I65104\n",
      "Processed I119227\n",
      "Processed I65757\n",
      "Processed I119203\n",
      "Processed I65022\n",
      "Processed I119126\n",
      "Processed I119196\n",
      "Processed I119190\n",
      "Processed I95705\n",
      "Processed I98888\n",
      "Processed I64922\n",
      "Processed I95662\n",
      "Processed I119178\n",
      "Processed I64876\n",
      "Processed I65401\n",
      "Processed I119140\n",
      "Processed I119112\n",
      "Processed I96284\n",
      "Processed I119135\n",
      "Processed I65271\n",
      "Processed I96211\n",
      "Processed I65220\n",
      "Processed I140335\n",
      "Processed I64711\n",
      "Processed I134505\n",
      "Processed I119127\n",
      "Processed I65148\n",
      "Processed I91126\n",
      "Processed I65091\n",
      "Processed I119121\n",
      "Processed I92406\n",
      "Processed I130241\n",
      "Processed I92305\n",
      "Processed I65052\n",
      "Processed I64427\n",
      "Processed I74557\n",
      "Processed I119084\n",
      "Processed I65013\n",
      "Processed I89957\n",
      "Processed I64400\n",
      "Processed I64867\n",
      "Processed I119069\n",
      "Processed I73647\n",
      "Processed I119090\n",
      "Processed I89575\n",
      "Processed I119028\n",
      "Processed I80629\n",
      "Processed I89404\n",
      "Processed I64585\n",
      "Processed I64152\n",
      "Processed I118985\n",
      "Processed I119079\n",
      "Processed I63838\n",
      "Processed I64422\n",
      "Processed I91135\n",
      "Processed I118973\n",
      "Processed I119070\n",
      "Processed I63784\n",
      "Processed I119030\n",
      "Processed I64395\n",
      "Processed I119801\n",
      "Processed I89979\n",
      "Processed I118861\n",
      "Processed I118974\n",
      "Processed I64203\n",
      "Processed I118850\n",
      "Processed I118919\n",
      "Processed I63551\n",
      "Processed I64046\n",
      "Processed I119732\n",
      "Processed I118903\n",
      "Processed I89408\n",
      "Processed I63775\n",
      "Processed I119715\n",
      "Processed I118853\n",
      "Processed I72232\n",
      "Processed I118843\n",
      "Processed I63415\n",
      "Processed I119678\n",
      "Processed I88356\n",
      "Processed I118831\n",
      "Processed I63489\n",
      "Processed I72128\n",
      "Processed I118825\n",
      "Processed I63227\n",
      "Processed I86354\n",
      "Processed I63442\n",
      "Processed I63122\n",
      "Processed I118789\n",
      "Processed I63406\n",
      "Processed I119602\n",
      "Processed I118769\n",
      "Processed I70924\n",
      "Processed I63367\n",
      "Processed I63320\n",
      "Processed I62908\n",
      "Processed I63176\n",
      "Processed I119408\n",
      "Processed I62656\n",
      "Processed I63114\n",
      "Processed I63014\n",
      "Processed I62395\n",
      "Processed I62715\n",
      "Processed I62636\n",
      "Processed I62377\n",
      "Processed I69091\n",
      "Processed I119325\n",
      "Processed I62319\n",
      "Processed I62234\n",
      "Processed I118741\n",
      "Processed I118746\n",
      "Processed I60746\n",
      "Processed I60741\n",
      "Processed I75279\n",
      "Processed I60673\n",
      "Processed I118729\n",
      "Processed I60600\n",
      "Processed I69289\n",
      "Processed I118714\n",
      "Processed I118718\n",
      "Processed I119288\n",
      "Processed I118707\n",
      "Processed I118713\n",
      "Processed I119274\n",
      "Processed I119266\n",
      "Processed I59777\n",
      "Processed I119260\n",
      "Processed I118702\n",
      "Processed I119231\n",
      "Processed I68082\n",
      "Processed I83166\n",
      "Processed I59739\n",
      "Processed I118701\n",
      "Processed I59735\n",
      "Processed I119202\n",
      "Processed I118690\n",
      "Processed I119195\n",
      "Processed I118682\n",
      "Processed I59697\n",
      "Processed I119182\n",
      "Processed I118688\n",
      "Processed I118674\n",
      "Processed I59652\n",
      "Processed I59601\n",
      "Processed I118681\n",
      "Processed I119172\n",
      "Processed I59484\n",
      "Processed I118673\n",
      "Processed I118683\n",
      "Processed I59375\n",
      "Processed I59229\n",
      "Processed I56319\n",
      "Processed I54799\n",
      "Processed I54651\n",
      "Processed I51542\n",
      "Processed I51160\n",
      "Processed I50584\n",
      "Processed I50468\n",
      "Processed I49910\n",
      "Processed I48599\n",
      "Processed I48029\n",
      "Processed I47732\n",
      "Processed I47314\n",
      "Processed I47223\n",
      "Processed I46647\n",
      "Processed I46396\n",
      "Processed I45183\n",
      "Processed I43071\n",
      "Processed I43009\n",
      "Processed I42832\n",
      "Processed I42481\n",
      "Processed I42425\n",
      "Processed I42370\n",
      "Processed I42258\n",
      "Processed I40954\n",
      "Processed I40817\n",
      "Processed I40744\n",
      "Processed I40452\n",
      "Processed I40410\n",
      "Processed I40201\n",
      "Processed I39980\n",
      "Processed I39868\n",
      "Processed I39824\n",
      "Processed I39692\n",
      "Processed I39647\n",
      "Processed I39569\n",
      "Processed I39486\n",
      "Processed I39185\n",
      "Processed I39142\n",
      "Processed I39054\n",
      "Processed I38926\n",
      "Processed I37557\n",
      "Processed I39137\n",
      "Processed I37217\n",
      "Processed I39542\n",
      "Processed I39171\n",
      "Processed I37007\n",
      "Processed I39028\n",
      "Processed I36959\n",
      "Processed I36903\n",
      "Processed I38918\n",
      "Processed I36640\n",
      "Processed I37548\n",
      "Processed I59224\n",
      "Processed I36530\n",
      "Processed I58043\n",
      "Processed I37210\n",
      "Processed I36485\n",
      "Processed I55972\n",
      "Processed I36999\n",
      "Processed I36949\n",
      "Processed I54785\n",
      "Processed I35893\n",
      "Processed I36892\n",
      "Processed I35825\n",
      "Processed I52821\n",
      "Processed I35666\n",
      "Processed I36573\n",
      "Processed I35044\n",
      "Processed I51629\n",
      "Processed I51533\n",
      "Processed I51151\n",
      "Processed I50566\n",
      "Processed I50506\n",
      "Processed I34846\n",
      "Processed I36474\n",
      "Processed I50459\n",
      "Processed I35938\n",
      "Processed I35875\n",
      "Processed I34725\n",
      "Processed I35819\n",
      "Processed I49527\n",
      "Processed I34672\n",
      "Processed I34570\n",
      "Processed I48976\n",
      "Processed I35513\n",
      "Processed I35009\n",
      "Processed I39533\n",
      "Processed I37238\n",
      "Processed I35036\n",
      "Processed I34471\n",
      "Processed I37206\n",
      "Processed I48590\n",
      "Processed I34824\n",
      "Processed I39460\n",
      "Processed I39132\n",
      "Processed I36993\n",
      "Processed I34393\n",
      "Processed I48002\n",
      "Processed I36938\n",
      "Processed I34707\n",
      "Processed I35799\n",
      "Processed I39005\n",
      "Processed I34837\n",
      "Processed I34607\n",
      "Processed I36469\n",
      "Processed I34325\n",
      "Processed I36886\n",
      "Processed I35734\n",
      "Processed I47722\n",
      "Processed I34537\n",
      "Processed I38861\n",
      "Processed I35920\n",
      "Processed I34204\n",
      "Processed I36628\n",
      "Processed I47306\n",
      "Processed I34720\n",
      "Processed I38670\n",
      "Processed I35849\n",
      "Processed I47210\n",
      "Processed I34136\n",
      "Processed I34452\n",
      "Processed I34549\n",
      "Processed I34806\n",
      "Processed I39152\n",
      "Processed I34362\n",
      "Processed I34747\n",
      "Processed I34698\n",
      "Processed I34443\n",
      "Processed I34586\n",
      "Processed I46622\n",
      "Processed I46668\n",
      "Processed I39122\n",
      "Processed I34240\n",
      "Processed I34458\n",
      "Processed I39665\n",
      "Processed I59255\n",
      "Processed I38964\n",
      "Processed I46629\n",
      "Processed I34159\n",
      "Processed I45943\n",
      "Processed I46384\n",
      "Processed I34384\n",
      "Processed I59219\n",
      "Processed I38785\n",
      "Processed I34231\n",
      "Processed I46608\n",
      "Processed I39275\n",
      "Processed I58038\n",
      "Processed I38661\n",
      "Processed I34114\n",
      "Processed I45881\n",
      "Processed I56031\n",
      "Processed I34316\n",
      "Processed I45228\n",
      "Processed I34150\n",
      "Processed I55943\n",
      "Processed I34181\n",
      "Processed I45933\n",
      "Processed I37228\n",
      "Processed I45117\n",
      "Processed I45166\n",
      "Processed I59250\n",
      "Processed I54780\n",
      "Processed I33599\n",
      "Processed I33457\n",
      "Processed I37199\n",
      "Processed I45872\n",
      "Processed I58022\n",
      "Processed I52799\n",
      "Processed I43048\n",
      "Processed I36979\n",
      "Processed I45213\n",
      "Processed I33493\n",
      "Processed I43060\n",
      "Processed I33644\n",
      "Processed I51999\n",
      "Processed I36924\n",
      "Processed I45108\n",
      "Processed I54757\n",
      "Processed I51605\n",
      "Processed I43001\n",
      "Processed I33428\n",
      "Processed I33476\n",
      "Processed I51494\n",
      "Processed I54686\n",
      "Processed I43035\n",
      "Processed I36613\n",
      "Processed I42785\n",
      "Processed I52781\n",
      "Processed I51138\n",
      "Processed I42772\n",
      "Processed I42468\n",
      "Processed I33444\n",
      "Processed I50557\n",
      "Processed I42450\n",
      "Processed I33452\n",
      "Processed I36549\n",
      "Processed I33105\n",
      "Processed I42409\n",
      "Processed I51588\n",
      "Processed I33437\n",
      "Processed I42400\n",
      "Processed I42509\n",
      "Processed I49680\n",
      "Processed I36504\n",
      "Processed I33396\n",
      "Processed I33074\n",
      "Processed I42308\n",
      "Processed I33121\n",
      "Processed I42441\n",
      "Processed I42240\n",
      "Processed I49510\n",
      "Processed I50487\n",
      "Processed I33086\n",
      "Processed I40799\n",
      "Processed I40858\n",
      "Processed I48959\n",
      "Processed I42384\n",
      "Processed I40794\n",
      "Processed I48857\n",
      "Processed I40731\n",
      "Processed I49768\n",
      "Processed I48581\n",
      "Processed I32672\n",
      "Processed I49675\n",
      "Processed I33066\n",
      "Processed I35911\n",
      "Processed I40445\n",
      "Processed I40717\n",
      "Processed I32875\n",
      "Processed I35841\n",
      "Processed I32891\n",
      "Processed I40980\n",
      "Processed I32332\n",
      "Processed I40387\n",
      "Processed I32855\n",
      "Processed I35790\n",
      "Processed I32667\n",
      "Processed I32020\n",
      "Processed I40845\n",
      "Processed I47870\n",
      "Processed I32409\n",
      "Processed I32644\n",
      "Processed I40356\n",
      "Processed I32306\n",
      "Processed I40781\n",
      "Processed I47703\n",
      "Processed I32270\n",
      "Processed I48617\n",
      "Processed I32246\n",
      "Processed I40179\n",
      "Processed I48563\n",
      "Processed I40708\n",
      "Processed I40260\n",
      "Processed I47295\n",
      "Processed I32003\n",
      "Processed I35591\n",
      "Processed I39937\n",
      "Processed I47953\n",
      "Processed I40433\n",
      "Processed I31547\n",
      "Processed I40046\n",
      "Processed I39859\n",
      "Processed I35499\n",
      "Processed I47204\n",
      "Processed I39919\n",
      "Processed I31455\n",
      "Processed I39817\n",
      "Processed I47765\n",
      "Processed I40328\n",
      "Processed I31533\n",
      "Processed I39850\n",
      "Processed I31346\n",
      "Processed I31526\n",
      "Processed I39810\n",
      "Processed I47574\n",
      "Processed I31437\n",
      "Processed I39683\n",
      "Processed I40239\n",
      "Processed I31300\n",
      "Processed I31384\n",
      "Processed I31509\n",
      "Processed I39674\n",
      "Processed I47278\n",
      "Processed I39620\n",
      "Processed I40037\n",
      "Processed I31369\n",
      "Processed I39614\n",
      "Processed I39909\n",
      "Processed I47168\n",
      "Processed I31102\n",
      "Processed I31271\n",
      "Processed I31143\n",
      "Processed I39845\n",
      "Processed I39805\n",
      "Processed I31084\n",
      "Processed I46655\n",
      "Processed I63847\n",
      "Processed I39506\n",
      "Processed I46417\n",
      "Processed I34680\n",
      "Processed I58011\n",
      "Processed I34578\n",
      "Processed I59243\n",
      "Processed I34524\n",
      "Processed I39108\n",
      "Processed I55044\n",
      "Processed I38944\n",
      "Processed I45740\n",
      "Processed I54752\n",
      "Processed I38717\n",
      "Processed I34398\n",
      "Processed I38652\n",
      "Processed I54665\n",
      "Processed I52776\n",
      "Processed I34332\n",
      "Processed I37224\n",
      "Processed I33489\n",
      "Processed I43022\n",
      "Processed I34226\n",
      "Processed I37194\n",
      "Processed I42844\n",
      "Processed I36969\n",
      "Processed I51165\n",
      "Processed I42493\n",
      "Processed I36914\n",
      "Processed I33461\n",
      "Processed I42434\n",
      "Processed I36726\n",
      "Processed I50524\n",
      "Processed I36599\n",
      "Processed I33433\n",
      "Processed I50426\n",
      "Processed I42276\n",
      "Processed I49757\n",
      "Processed I33109\n",
      "Processed I36501\n",
      "Processed I49666\n",
      "Processed I40831\n",
      "Processed I40772\n",
      "Processed I48996\n",
      "Processed I36459\n",
      "Processed I40683\n",
      "Processed I33025\n",
      "Processed I35902\n",
      "Processed I35833\n",
      "Processed I48608\n",
      "Processed I40419\n",
      "Processed I32681\n",
      "Processed I40312\n",
      "Processed I48038\n",
      "Processed I32389\n",
      "Processed I35671\n",
      "Processed I32237\n",
      "Processed I40000\n",
      "Processed I35486\n",
      "Processed I39881\n",
      "Processed I47744\n",
      "Processed I39836\n",
      "Processed I31631\n",
      "Processed I31495\n",
      "Processed I34857\n",
      "Processed I39701\n",
      "Processed I47228\n",
      "Processed I34797\n",
      "Processed I31205\n",
      "Processed I39660\n",
      "Processed I34734\n",
      "Processed I31125\n"
     ]
    }
   ],
   "source": [
    "import nibabel as nib\n",
    "import numpy as np\n",
    "import cv2\n",
    "import os\n",
    "from pathlib import Path\n",
    "\n",
    "mri_dir = \"C:/Users/HP/Downloads/archive/Aligned Image\"\n",
    "output_dir = \"mri_png\"\n",
    "os.makedirs(output_dir, exist_ok=True)\n",
    "clinical_data = pd.read_csv(\"preprocessed_clinical.csv\")\n",
    "image_ids = clinical_data['Image Data ID'].tolist()\n",
    "\n",
    "#slice_idx=90: Specifies which 2D slice to extract from the 3D MRI volume (default is the 90th slice along the z-axis)\n",
    "def process_nii_to_png(nii_path, output_path, slice_idx=90, size=(176, 208)):\n",
    "    img = nib.load(nii_path).get_fdata()\n",
    "    if slice_idx >= img.shape[2]:\n",
    "        slice_idx = img.shape[2] // 2 \n",
    "    #Selects a 2D slice (img[:, :, slice_idx]) from the 3D volume \n",
    "    slice_data = img[:, :, slice_idx]\n",
    "    slice_data = (slice_data - slice_data.min()) / (slice_data.max() - slice_data.min() + 1e-8)\n",
    "    slice_data = cv2.resize(slice_data, size)\n",
    "    slice_data = (slice_data * 255).astype(np.uint8)\n",
    "    cv2.imwrite(output_path, slice_data)\n",
    "\n",
    "for image_id in image_ids:\n",
    "    nii_files = list(Path(mri_dir).glob(f\"**/{image_id}*.nii*\")) \n",
    "    if nii_files:\n",
    "        nii_path = nii_files[0]\n",
    "        output_path = os.path.join(output_dir, f\"{image_id}.png\")\n",
    "        process_nii_to_png(nii_path, output_path)\n",
    "        print(f\"Processed {image_id}\")\n",
    "    else:\n",
    "        print(f\"Missing MRI for {image_id}\")"
   ]
  },
  {
   "cell_type": "markdown",
   "id": "851506da",
   "metadata": {},
   "source": [
    "INTEGRATING PREPROCESSED METADATA WITH PROCESSED MRI IMAGES"
   ]
  },
  {
   "cell_type": "code",
   "execution_count": null,
   "id": "f6ca9e2b",
   "metadata": {},
   "outputs": [
    {
     "name": "stdout",
     "output_type": "stream",
     "text": [
      "Paired 830 samples\n",
      "  Image Data ID     Subject             mri_path  \\\n",
      "0       I118772  018_S_0369  mri_png\\I118772.png   \n",
      "1       I119180  067_S_0029  mri_png\\I119180.png   \n",
      "2       I119175  053_S_1044  mri_png\\I119175.png   \n",
      "3       I118779  018_S_0286  mri_png\\I118779.png   \n",
      "4        I81972  131_S_1389   mri_png\\I81972.png   \n",
      "\n",
      "                            clinical  label  \n",
      "0  [0.5999999999999999, True, False]      2  \n",
      "1  [0.2571428571428571, True, False]      0  \n",
      "2  [0.3142857142857143, True, False]      0  \n",
      "3  [0.3142857142857143, True, False]      0  \n",
      "4  [0.5999999999999999, True, False]      1  \n"
     ]
    }
   ],
   "source": [
    "import pandas as pd\n",
    "import os\n",
    "\n",
    "clinical_data = pd.read_csv(\"preprocessed_clinical.csv\")\n",
    "mri_dir = \"mri_png\"\n",
    "mri_files = [f for f in os.listdir(mri_dir) if f.endswith('.png')]\n",
    "\n",
    "paired_data = []\n",
    "for _, row in clinical_data.iterrows():\n",
    "    image_id = row['Image Data ID']\n",
    "    mri_path = os.path.join(mri_dir, f\"{image_id}.png\")\n",
    "    if os.path.exists(mri_path):\n",
    "        clin_features = ['Age', 'Sex_M', 'Sex_F']\n",
    "        clinical = row[clin_features].values.tolist()\n",
    "        paired_data.append({\n",
    "            'Image Data ID': image_id,\n",
    "            'Subject': row['Subject'],\n",
    "            'mri_path': mri_path,\n",
    "            'clinical': clinical,\n",
    "            'label': row['label']\n",
    "        })\n",
    "paired_df = pd.DataFrame(paired_data)\n",
    "paired_df.to_csv(\"paired_dataset.csv\", index=False)\n",
    "print(f\"Paired {len(paired_df)} samples\")\n",
    "print(paired_df.head())"
   ]
  },
  {
   "cell_type": "markdown",
   "id": "a1e71806",
   "metadata": {},
   "source": [
    "TRAIN TEST SPLIT AND CHECK BALANCE"
   ]
  },
  {
   "cell_type": "code",
   "execution_count": null,
   "id": "9c6d1200",
   "metadata": {},
   "outputs": [
    {
     "name": "stdout",
     "output_type": "stream",
     "text": [
      "Train: label\n",
      "1    0.485944\n",
      "2    0.305221\n",
      "0    0.208835\n",
      "Name: proportion, dtype: float64\n",
      "Val: label\n",
      "1    0.481928\n",
      "2    0.307229\n",
      "0    0.210843\n",
      "Name: proportion, dtype: float64\n",
      "Test: label\n",
      "1    0.487952\n",
      "2    0.307229\n",
      "0    0.204819\n",
      "Name: proportion, dtype: float64\n"
     ]
    }
   ],
   "source": [
    "from sklearn.model_selection import train_test_split\n",
    "\n",
    "paired_df = pd.read_csv(\"paired_dataset.csv\")\n",
    "train_val, test = train_test_split(paired_df, test_size=0.2, stratify=paired_df['label'], random_state=42)\n",
    "train, val = train_test_split(train_val, test_size=0.25, stratify=train_val['label'], random_state=42)\n",
    "\n",
    "train.to_csv(\"train.csv\", index=False)\n",
    "val.to_csv(\"val.csv\", index=False)\n",
    "test.to_csv(\"test.csv\", index=False)\n",
    "\n",
    "print(\"Train:\", train['label'].value_counts(normalize=True))\n",
    "print(\"Val:\", val['label'].value_counts(normalize=True))\n",
    "print(\"Test:\", test['label'].value_counts(normalize=True))"
   ]
  },
  {
   "cell_type": "markdown",
   "id": "95bd30d3",
   "metadata": {},
   "source": [
    "ResNet50 CNN + MLP "
   ]
  },
  {
   "cell_type": "code",
   "execution_count": null,
   "id": "8db17f8b",
   "metadata": {},
   "outputs": [],
   "source": [
    "import torch\n",
    "import torch.nn as nn\n",
    "import torchvision.models as models\n",
    "\n",
    "class MultimodalMRIModel(nn.Module):\n",
    "    def __init__(self, num_classes=3, clinical_dim=3):\n",
    "        super(MultimodalMRIModel, self).__init__()\n",
    "        self.resnet = models.resnet50(pretrained=True)\n",
    "        self.resnet.conv1 = nn.Conv2d(1, 64, kernel_size=7, stride=2, padding=3, bias=False)\n",
    "        # Reinitialize weights (for better adaptation)\n",
    "        nn.init.kaiming_normal_(self.resnet.conv1.weight, mode='fan_out', nonlinearity='relu')\n",
    "        self.resnet.fc = nn.Identity()  # Output: 2048D\n",
    "\n",
    "        self.clinical_mlp = nn.Sequential(\n",
    "            nn.Linear(clinical_dim, 64),\n",
    "            nn.ReLU(),\n",
    "            nn.Dropout(0.3),\n",
    "            nn.Linear(64, 64),\n",
    "            nn.ReLU()\n",
    "        )\n",
    "        \n",
    "        # Fusion and classifier\n",
    "        self.fc = nn.Sequential(\n",
    "            nn.Linear(2048 + 64, 128),\n",
    "            nn.ReLU(),\n",
    "            nn.Dropout(0.3),\n",
    "            nn.Linear(128, num_classes)\n",
    "        )\n",
    "    \n",
    "    def forward(self, images, clinical):s\n",
    "        img_features = self.resnet(images) \n",
    "        clin_features = self.clinical_mlp(clinical) \n",
    "        combined = torch.cat((img_features, clin_features), dim=1)  \n",
    "        output = self.fc(combined)  \n",
    "        return output"
   ]
  },
  {
   "cell_type": "markdown",
   "id": "4c048f0e",
   "metadata": {},
   "source": [
    "DATA LOADING AND AUGMENTATION PIPELINE"
   ]
  },
  {
   "cell_type": "code",
   "execution_count": null,
   "id": "9a6bfda6",
   "metadata": {},
   "outputs": [],
   "source": [
    "import torch\n",
    "from torch.utils.data import Dataset, DataLoader\n",
    "import torch.nn as nn\n",
    "import torch.optim as optim\n",
    "from torchmetrics import Accuracy, F1Score, AUROC\n",
    "import pandas as pd\n",
    "import cv2\n",
    "import albumentations as A\n",
    "import numpy as np\n",
    "from tqdm import tqdm\n",
    "import copy\n",
    "from pathlib import Path\n",
    "\n",
    "# custom PyTorch Dataset class to load and preprocess data from CSV files\n",
    "class ADNIDataset(Dataset):\n",
    "    def __init__(self, data_df, transform=None):\n",
    "        self.data_df = data_df\n",
    "        self.transform = transform\n",
    "    \n",
    "    def __len__(self):\n",
    "        return len(self.data_df)\n",
    "    \n",
    "    def __getitem__(self, idx):\n",
    "        img_path = self.data_df.iloc[idx]['mri_path']\n",
    "        img = cv2.imread(img_path, cv2.IMREAD_GRAYSCALE)\n",
    "        img = img / 255.0\n",
    "        if self.transform:\n",
    "            augmented = self.transform(image=img)\n",
    "            img = augmented['image']\n",
    "        img = torch.tensor(img, dtype=torch.float32).unsqueeze(0)  \n",
    "        clinical_str = self.data_df.iloc[idx]['clinical']\n",
    "        clinical = np.array(eval(clinical_str)) \n",
    "        clinical = torch.tensor(clinical, dtype=torch.float32)\n",
    "        label = torch.tensor(self.data_df.iloc[idx]['label'], dtype=torch.long)\n",
    "        return img, clinical, label\n",
    "\n",
    "augment = A.Compose([\n",
    "    A.Rotate(limit=10, p=0.5),\n",
    "    A.HorizontalFlip(p=0.5),\n",
    "    A.RandomBrightnessContrast(p=0.3),\n",
    "])\n",
    "\n",
    "train_dataset = ADNIDataset(pd.read_csv(\"train.csv\"), transform=augment)\n",
    "val_dataset = ADNIDataset(pd.read_csv(\"val.csv\"), transform=None)\n",
    "test_dataset = ADNIDataset(pd.read_csv(\"test.csv\"), transform=None)\n",
    "\n",
    "batch_size = 8\n",
    "train_loader = DataLoader(\n",
    "    train_dataset,\n",
    "    batch_size=batch_size,\n",
    "    shuffle=True,\n",
    "    num_workers=0,\n",
    "    pin_memory=torch.cuda.is_available()\n",
    ")\n",
    "val_loader = DataLoader(\n",
    "    val_dataset,\n",
    "    batch_size=batch_size,\n",
    "    shuffle=False,\n",
    "    num_workers=0,\n",
    "    pin_memory=torch.cuda.is_available()\n",
    ")\n",
    "test_loader = DataLoader(\n",
    "    test_dataset,\n",
    "    batch_size=batch_size,\n",
    "    shuffle=False,\n",
    "    num_workers=0,\n",
    "    pin_memory=torch.cuda.is_available()\n",
    ")\n"
   ]
  },
  {
   "cell_type": "markdown",
   "id": "fd29036d",
   "metadata": {},
   "source": [
    "TRAINING PIPELINE"
   ]
  },
  {
   "cell_type": "code",
   "execution_count": null,
   "id": "03545c4b",
   "metadata": {},
   "outputs": [
    {
     "name": "stderr",
     "output_type": "stream",
     "text": [
      "C:\\Users\\HP\\AppData\\Local\\Packages\\PythonSoftwareFoundation.Python.3.10_qbz5n2kfra8p0\\LocalCache\\local-packages\\Python310\\site-packages\\torchvision\\models\\_utils.py:208: UserWarning: The parameter 'pretrained' is deprecated since 0.13 and may be removed in the future, please use 'weights' instead.\n",
      "  warnings.warn(\n",
      "C:\\Users\\HP\\AppData\\Local\\Packages\\PythonSoftwareFoundation.Python.3.10_qbz5n2kfra8p0\\LocalCache\\local-packages\\Python310\\site-packages\\torchvision\\models\\_utils.py:223: UserWarning: Arguments other than a weight enum or `None` for 'weights' are deprecated since 0.13 and may be removed in the future. The current behavior is equivalent to passing `weights=ResNet50_Weights.IMAGENET1K_V1`. You can also use `weights=ResNet50_Weights.DEFAULT` to get the most up-to-date weights.\n",
      "  warnings.warn(msg)\n"
     ]
    },
    {
     "name": "stdout",
     "output_type": "stream",
     "text": [
      "Class weights: tensor([1.4215, 0.6102, 0.9682])\n",
      "\n",
      "Epoch 1/50 - Training\n"
     ]
    },
    {
     "name": "stderr",
     "output_type": "stream",
     "text": [
      "Training Batches:   0%|          | 0/63 [00:00<?, ?it/s]C:\\Users\\HP\\AppData\\Local\\Packages\\PythonSoftwareFoundation.Python.3.10_qbz5n2kfra8p0\\LocalCache\\local-packages\\Python310\\site-packages\\torchmetrics\\utilities\\prints.py:43: UserWarning: No positive samples in targets, true positive value should be meaningless. Returning zero tensor in true positive score\n",
      "  warnings.warn(*args, **kwargs)\n",
      "Training Batches: 100%|██████████| 63/63 [01:47<00:00,  1.71s/it]\n"
     ]
    },
    {
     "name": "stdout",
     "output_type": "stream",
     "text": [
      "\n",
      "Epoch 1/50 - Validation\n"
     ]
    },
    {
     "name": "stderr",
     "output_type": "stream",
     "text": [
      "Validation Batches: 100%|██████████| 21/21 [00:09<00:00,  2.19it/s]\n"
     ]
    },
    {
     "name": "stdout",
     "output_type": "stream",
     "text": [
      "\n",
      "Epoch 1 Summary:\n",
      "Train - Loss: 1.0952, Acc: 0.4016, F1: 0.3336, AUC: 0.5264\n",
      "Val   - Loss: 1.0994, Acc: 0.4217, F1: 0.2583, AUC: 0.5065\n",
      "Saved model: epoch_1_multimodal_mri.pth\n",
      "New best model saved with Val F1: 0.2583\n",
      "Current learning rate: 0.000100\n",
      "\n",
      "Epoch 2/50 - Training\n"
     ]
    },
    {
     "name": "stderr",
     "output_type": "stream",
     "text": [
      "Training Batches:  25%|██▌       | 16/63 [00:22<01:07,  1.43s/it]C:\\Users\\HP\\AppData\\Local\\Packages\\PythonSoftwareFoundation.Python.3.10_qbz5n2kfra8p0\\LocalCache\\local-packages\\Python310\\site-packages\\torchmetrics\\utilities\\prints.py:43: UserWarning: No negative samples in targets, false positive value should be meaningless. Returning zero tensor in false positive score\n",
      "  warnings.warn(*args, **kwargs)\n",
      "Training Batches: 100%|██████████| 63/63 [01:31<00:00,  1.45s/it]\n"
     ]
    },
    {
     "name": "stdout",
     "output_type": "stream",
     "text": [
      "\n",
      "Epoch 2/50 - Validation\n"
     ]
    },
    {
     "name": "stderr",
     "output_type": "stream",
     "text": [
      "Validation Batches: 100%|██████████| 21/21 [00:08<00:00,  2.62it/s]\n"
     ]
    },
    {
     "name": "stdout",
     "output_type": "stream",
     "text": [
      "\n",
      "Epoch 2 Summary:\n",
      "Train - Loss: 1.0994, Acc: 0.3755, F1: 0.2982, AUC: 0.5297\n",
      "Val   - Loss: 1.1055, Acc: 0.4277, F1: 0.3516, AUC: 0.5368\n",
      "Saved model: epoch_2_multimodal_mri.pth\n",
      "New best model saved with Val F1: 0.3516\n",
      "Current learning rate: 0.000100\n",
      "\n",
      "Epoch 3/50 - Training\n"
     ]
    },
    {
     "name": "stderr",
     "output_type": "stream",
     "text": [
      "Training Batches: 100%|██████████| 63/63 [02:14<00:00,  2.14s/it]\n"
     ]
    },
    {
     "name": "stdout",
     "output_type": "stream",
     "text": [
      "\n",
      "Epoch 3/50 - Validation\n"
     ]
    },
    {
     "name": "stderr",
     "output_type": "stream",
     "text": [
      "Validation Batches: 100%|██████████| 21/21 [00:17<00:00,  1.22it/s]\n"
     ]
    },
    {
     "name": "stdout",
     "output_type": "stream",
     "text": [
      "\n",
      "Epoch 3 Summary:\n",
      "Train - Loss: 1.0898, Acc: 0.3876, F1: 0.3264, AUC: 0.5789\n",
      "Val   - Loss: 1.0872, Acc: 0.4819, F1: 0.3160, AUC: 0.5460\n",
      "Saved model: epoch_3_multimodal_mri.pth\n",
      "Current learning rate: 0.000100\n",
      "\n",
      "Epoch 4/50 - Training\n"
     ]
    },
    {
     "name": "stderr",
     "output_type": "stream",
     "text": [
      "Training Batches: 100%|██████████| 63/63 [02:35<00:00,  2.47s/it]\n"
     ]
    },
    {
     "name": "stdout",
     "output_type": "stream",
     "text": [
      "\n",
      "Epoch 4/50 - Validation\n"
     ]
    },
    {
     "name": "stderr",
     "output_type": "stream",
     "text": [
      "Validation Batches: 100%|██████████| 21/21 [00:09<00:00,  2.17it/s]\n"
     ]
    },
    {
     "name": "stdout",
     "output_type": "stream",
     "text": [
      "\n",
      "Epoch 4 Summary:\n",
      "Train - Loss: 1.0560, Acc: 0.4558, F1: 0.3783, AUC: 0.5759\n",
      "Val   - Loss: 1.0755, Acc: 0.3795, F1: 0.2905, AUC: 0.5965\n",
      "Saved model: epoch_4_multimodal_mri.pth\n",
      "Current learning rate: 0.000100\n",
      "\n",
      "Epoch 5/50 - Training\n"
     ]
    },
    {
     "name": "stderr",
     "output_type": "stream",
     "text": [
      "Training Batches: 100%|██████████| 63/63 [02:27<00:00,  2.35s/it]\n"
     ]
    },
    {
     "name": "stdout",
     "output_type": "stream",
     "text": [
      "\n",
      "Epoch 5/50 - Validation\n"
     ]
    },
    {
     "name": "stderr",
     "output_type": "stream",
     "text": [
      "Validation Batches: 100%|██████████| 21/21 [00:08<00:00,  2.34it/s]\n"
     ]
    },
    {
     "name": "stdout",
     "output_type": "stream",
     "text": [
      "\n",
      "Epoch 5 Summary:\n",
      "Train - Loss: 1.0242, Acc: 0.4659, F1: 0.4340, AUC: 0.6176\n",
      "Val   - Loss: 1.0840, Acc: 0.3855, F1: 0.3182, AUC: 0.5392\n",
      "Saved model: epoch_5_multimodal_mri.pth\n",
      "Current learning rate: 0.000100\n",
      "\n",
      "Epoch 6/50 - Training\n"
     ]
    },
    {
     "name": "stderr",
     "output_type": "stream",
     "text": [
      "Training Batches: 100%|██████████| 63/63 [01:31<00:00,  1.46s/it]\n"
     ]
    },
    {
     "name": "stdout",
     "output_type": "stream",
     "text": [
      "\n",
      "Epoch 6/50 - Validation\n"
     ]
    },
    {
     "name": "stderr",
     "output_type": "stream",
     "text": [
      "Validation Batches: 100%|██████████| 21/21 [00:08<00:00,  2.47it/s]\n"
     ]
    },
    {
     "name": "stdout",
     "output_type": "stream",
     "text": [
      "\n",
      "Epoch 6 Summary:\n",
      "Train - Loss: 1.0194, Acc: 0.4357, F1: 0.3727, AUC: 0.5821\n",
      "Val   - Loss: 1.0962, Acc: 0.3735, F1: 0.2620, AUC: 0.6259\n",
      "Saved model: epoch_6_multimodal_mri.pth\n",
      "Current learning rate: 0.000100\n",
      "\n",
      "Epoch 7/50 - Training\n"
     ]
    },
    {
     "name": "stderr",
     "output_type": "stream",
     "text": [
      "Training Batches: 100%|██████████| 63/63 [01:27<00:00,  1.39s/it]\n"
     ]
    },
    {
     "name": "stdout",
     "output_type": "stream",
     "text": [
      "\n",
      "Epoch 7/50 - Validation\n"
     ]
    },
    {
     "name": "stderr",
     "output_type": "stream",
     "text": [
      "Validation Batches: 100%|██████████| 21/21 [00:08<00:00,  2.42it/s]\n"
     ]
    },
    {
     "name": "stdout",
     "output_type": "stream",
     "text": [
      "\n",
      "Epoch 7 Summary:\n",
      "Train - Loss: 1.0252, Acc: 0.4960, F1: 0.4424, AUC: 0.6391\n",
      "Val   - Loss: 1.0408, Acc: 0.3735, F1: 0.3484, AUC: 0.5870\n",
      "Saved model: epoch_7_multimodal_mri.pth\n",
      "Current learning rate: 0.000100\n",
      "\n",
      "Epoch 8/50 - Training\n"
     ]
    },
    {
     "name": "stderr",
     "output_type": "stream",
     "text": [
      "Training Batches: 100%|██████████| 63/63 [01:35<00:00,  1.51s/it]\n"
     ]
    },
    {
     "name": "stdout",
     "output_type": "stream",
     "text": [
      "\n",
      "Epoch 8/50 - Validation\n"
     ]
    },
    {
     "name": "stderr",
     "output_type": "stream",
     "text": [
      "Validation Batches: 100%|██████████| 21/21 [00:08<00:00,  2.34it/s]\n"
     ]
    },
    {
     "name": "stdout",
     "output_type": "stream",
     "text": [
      "\n",
      "Epoch 8 Summary:\n",
      "Train - Loss: 0.9504, Acc: 0.5382, F1: 0.4988, AUC: 0.6856\n",
      "Val   - Loss: 1.2255, Acc: 0.2590, F1: 0.1859, AUC: 0.5964\n",
      "Saved model: epoch_8_multimodal_mri.pth\n",
      "Current learning rate: 0.000010\n",
      "\n",
      "Epoch 9/50 - Training\n"
     ]
    },
    {
     "name": "stderr",
     "output_type": "stream",
     "text": [
      "Training Batches: 100%|██████████| 63/63 [01:37<00:00,  1.55s/it]\n"
     ]
    },
    {
     "name": "stdout",
     "output_type": "stream",
     "text": [
      "\n",
      "Epoch 9/50 - Validation\n"
     ]
    },
    {
     "name": "stderr",
     "output_type": "stream",
     "text": [
      "Validation Batches: 100%|██████████| 21/21 [00:09<00:00,  2.27it/s]\n"
     ]
    },
    {
     "name": "stdout",
     "output_type": "stream",
     "text": [
      "\n",
      "Epoch 9 Summary:\n",
      "Train - Loss: 0.9584, Acc: 0.4337, F1: 0.3990, AUC: 0.6621\n",
      "Val   - Loss: 0.9782, Acc: 0.4337, F1: 0.3815, AUC: 0.6365\n",
      "Saved model: epoch_9_multimodal_mri.pth\n",
      "New best model saved with Val F1: 0.3815\n",
      "Current learning rate: 0.000010\n",
      "\n",
      "Epoch 10/50 - Training\n"
     ]
    },
    {
     "name": "stderr",
     "output_type": "stream",
     "text": [
      "Training Batches: 100%|██████████| 63/63 [01:40<00:00,  1.60s/it]\n"
     ]
    },
    {
     "name": "stdout",
     "output_type": "stream",
     "text": [
      "\n",
      "Epoch 10/50 - Validation\n"
     ]
    },
    {
     "name": "stderr",
     "output_type": "stream",
     "text": [
      "Validation Batches: 100%|██████████| 21/21 [00:08<00:00,  2.45it/s]\n"
     ]
    },
    {
     "name": "stdout",
     "output_type": "stream",
     "text": [
      "\n",
      "Epoch 10 Summary:\n",
      "Train - Loss: 0.8776, Acc: 0.5382, F1: 0.4984, AUC: 0.7240\n",
      "Val   - Loss: 0.9699, Acc: 0.4398, F1: 0.4006, AUC: 0.6365\n",
      "Saved model: epoch_10_multimodal_mri.pth\n",
      "New best model saved with Val F1: 0.4006\n",
      "Current learning rate: 0.000010\n",
      "\n",
      "Epoch 11/50 - Training\n"
     ]
    },
    {
     "name": "stderr",
     "output_type": "stream",
     "text": [
      "Training Batches: 100%|██████████| 63/63 [02:02<00:00,  1.94s/it]\n"
     ]
    },
    {
     "name": "stdout",
     "output_type": "stream",
     "text": [
      "\n",
      "Epoch 11/50 - Validation\n"
     ]
    },
    {
     "name": "stderr",
     "output_type": "stream",
     "text": [
      "Validation Batches: 100%|██████████| 21/21 [00:09<00:00,  2.29it/s]\n"
     ]
    },
    {
     "name": "stdout",
     "output_type": "stream",
     "text": [
      "\n",
      "Epoch 11 Summary:\n",
      "Train - Loss: 0.8348, Acc: 0.5823, F1: 0.5577, AUC: 0.7707\n",
      "Val   - Loss: 0.9332, Acc: 0.4518, F1: 0.4056, AUC: 0.6566\n",
      "Saved model: epoch_11_multimodal_mri.pth\n",
      "New best model saved with Val F1: 0.4056\n",
      "Current learning rate: 0.000010\n",
      "\n",
      "Epoch 12/50 - Training\n"
     ]
    },
    {
     "name": "stderr",
     "output_type": "stream",
     "text": [
      "Training Batches: 100%|██████████| 63/63 [01:26<00:00,  1.38s/it]\n"
     ]
    },
    {
     "name": "stdout",
     "output_type": "stream",
     "text": [
      "\n",
      "Epoch 12/50 - Validation\n"
     ]
    },
    {
     "name": "stderr",
     "output_type": "stream",
     "text": [
      "Validation Batches: 100%|██████████| 21/21 [00:08<00:00,  2.42it/s]\n"
     ]
    },
    {
     "name": "stdout",
     "output_type": "stream",
     "text": [
      "\n",
      "Epoch 12 Summary:\n",
      "Train - Loss: 0.8154, Acc: 0.5944, F1: 0.5627, AUC: 0.7478\n",
      "Val   - Loss: 0.9529, Acc: 0.5120, F1: 0.4471, AUC: 0.6631\n",
      "Saved model: epoch_12_multimodal_mri.pth\n",
      "New best model saved with Val F1: 0.4471\n",
      "Current learning rate: 0.000010\n",
      "\n",
      "Epoch 13/50 - Training\n"
     ]
    },
    {
     "name": "stderr",
     "output_type": "stream",
     "text": [
      "Training Batches: 100%|██████████| 63/63 [01:27<00:00,  1.39s/it]\n"
     ]
    },
    {
     "name": "stdout",
     "output_type": "stream",
     "text": [
      "\n",
      "Epoch 13/50 - Validation\n"
     ]
    },
    {
     "name": "stderr",
     "output_type": "stream",
     "text": [
      "Validation Batches: 100%|██████████| 21/21 [00:08<00:00,  2.39it/s]\n"
     ]
    },
    {
     "name": "stdout",
     "output_type": "stream",
     "text": [
      "\n",
      "Epoch 13 Summary:\n",
      "Train - Loss: 0.7959, Acc: 0.6084, F1: 0.5657, AUC: 0.7864\n",
      "Val   - Loss: 0.9349, Acc: 0.4699, F1: 0.4346, AUC: 0.6813\n",
      "Saved model: epoch_13_multimodal_mri.pth\n",
      "Current learning rate: 0.000010\n",
      "\n",
      "Epoch 14/50 - Training\n"
     ]
    },
    {
     "name": "stderr",
     "output_type": "stream",
     "text": [
      "Training Batches: 100%|██████████| 63/63 [01:27<00:00,  1.38s/it]\n"
     ]
    },
    {
     "name": "stdout",
     "output_type": "stream",
     "text": [
      "\n",
      "Epoch 14/50 - Validation\n"
     ]
    },
    {
     "name": "stderr",
     "output_type": "stream",
     "text": [
      "Validation Batches: 100%|██████████| 21/21 [00:08<00:00,  2.36it/s]\n"
     ]
    },
    {
     "name": "stdout",
     "output_type": "stream",
     "text": [
      "\n",
      "Epoch 14 Summary:\n",
      "Train - Loss: 0.7502, Acc: 0.6345, F1: 0.6067, AUC: 0.7922\n",
      "Val   - Loss: 0.9399, Acc: 0.4819, F1: 0.4416, AUC: 0.6654\n",
      "Saved model: epoch_14_multimodal_mri.pth\n",
      "Current learning rate: 0.000010\n",
      "\n",
      "Epoch 15/50 - Training\n"
     ]
    },
    {
     "name": "stderr",
     "output_type": "stream",
     "text": [
      "Training Batches: 100%|██████████| 63/63 [01:26<00:00,  1.37s/it]\n"
     ]
    },
    {
     "name": "stdout",
     "output_type": "stream",
     "text": [
      "\n",
      "Epoch 15/50 - Validation\n"
     ]
    },
    {
     "name": "stderr",
     "output_type": "stream",
     "text": [
      "Validation Batches: 100%|██████████| 21/21 [00:08<00:00,  2.34it/s]\n"
     ]
    },
    {
     "name": "stdout",
     "output_type": "stream",
     "text": [
      "\n",
      "Epoch 15 Summary:\n",
      "Train - Loss: 0.7073, Acc: 0.7068, F1: 0.6710, AUC: 0.8175\n",
      "Val   - Loss: 0.9353, Acc: 0.5120, F1: 0.4576, AUC: 0.6737\n",
      "Saved model: epoch_15_multimodal_mri.pth\n",
      "New best model saved with Val F1: 0.4576\n",
      "Current learning rate: 0.000010\n",
      "\n",
      "Epoch 16/50 - Training\n"
     ]
    },
    {
     "name": "stderr",
     "output_type": "stream",
     "text": [
      "Training Batches: 100%|██████████| 63/63 [01:35<00:00,  1.52s/it]\n"
     ]
    },
    {
     "name": "stdout",
     "output_type": "stream",
     "text": [
      "\n",
      "Epoch 16/50 - Validation\n"
     ]
    },
    {
     "name": "stderr",
     "output_type": "stream",
     "text": [
      "Validation Batches: 100%|██████████| 21/21 [00:08<00:00,  2.42it/s]\n"
     ]
    },
    {
     "name": "stdout",
     "output_type": "stream",
     "text": [
      "\n",
      "Epoch 16 Summary:\n",
      "Train - Loss: 0.6826, Acc: 0.7108, F1: 0.6742, AUC: 0.8276\n",
      "Val   - Loss: 0.9519, Acc: 0.4699, F1: 0.4410, AUC: 0.6732\n",
      "Saved model: epoch_16_multimodal_mri.pth\n",
      "Current learning rate: 0.000010\n",
      "\n",
      "Epoch 17/50 - Training\n"
     ]
    },
    {
     "name": "stderr",
     "output_type": "stream",
     "text": [
      "Training Batches: 100%|██████████| 63/63 [01:25<00:00,  1.36s/it]\n"
     ]
    },
    {
     "name": "stdout",
     "output_type": "stream",
     "text": [
      "\n",
      "Epoch 17/50 - Validation\n"
     ]
    },
    {
     "name": "stderr",
     "output_type": "stream",
     "text": [
      "Validation Batches: 100%|██████████| 21/21 [00:10<00:00,  2.09it/s]\n"
     ]
    },
    {
     "name": "stdout",
     "output_type": "stream",
     "text": [
      "\n",
      "Epoch 17 Summary:\n",
      "Train - Loss: 0.6244, Acc: 0.7390, F1: 0.6929, AUC: 0.8469\n",
      "Val   - Loss: 0.9684, Acc: 0.5120, F1: 0.4267, AUC: 0.6901\n",
      "Saved model: epoch_17_multimodal_mri.pth\n",
      "Current learning rate: 0.000010\n",
      "\n",
      "Epoch 18/50 - Training\n"
     ]
    },
    {
     "name": "stderr",
     "output_type": "stream",
     "text": [
      "Training Batches: 100%|██████████| 63/63 [01:30<00:00,  1.43s/it]\n"
     ]
    },
    {
     "name": "stdout",
     "output_type": "stream",
     "text": [
      "\n",
      "Epoch 18/50 - Validation\n"
     ]
    },
    {
     "name": "stderr",
     "output_type": "stream",
     "text": [
      "Validation Batches: 100%|██████████| 21/21 [00:08<00:00,  2.45it/s]\n"
     ]
    },
    {
     "name": "stdout",
     "output_type": "stream",
     "text": [
      "\n",
      "Epoch 18 Summary:\n",
      "Train - Loss: 0.6339, Acc: 0.7309, F1: 0.6978, AUC: 0.8378\n",
      "Val   - Loss: 0.9593, Acc: 0.5361, F1: 0.4519, AUC: 0.7076\n",
      "Saved model: epoch_18_multimodal_mri.pth\n",
      "Current learning rate: 0.000010\n",
      "\n",
      "Epoch 19/50 - Training\n"
     ]
    },
    {
     "name": "stderr",
     "output_type": "stream",
     "text": [
      "Training Batches: 100%|██████████| 63/63 [01:44<00:00,  1.66s/it]\n"
     ]
    },
    {
     "name": "stdout",
     "output_type": "stream",
     "text": [
      "\n",
      "Epoch 19/50 - Validation\n"
     ]
    },
    {
     "name": "stderr",
     "output_type": "stream",
     "text": [
      "Validation Batches: 100%|██████████| 21/21 [00:09<00:00,  2.13it/s]\n"
     ]
    },
    {
     "name": "stdout",
     "output_type": "stream",
     "text": [
      "\n",
      "Epoch 19 Summary:\n",
      "Train - Loss: 0.5955, Acc: 0.7369, F1: 0.7069, AUC: 0.8717\n",
      "Val   - Loss: 0.9508, Acc: 0.5542, F1: 0.5114, AUC: 0.7042\n",
      "Saved model: epoch_19_multimodal_mri.pth\n",
      "New best model saved with Val F1: 0.5114\n",
      "Current learning rate: 0.000010\n",
      "\n",
      "Epoch 20/50 - Training\n"
     ]
    },
    {
     "name": "stderr",
     "output_type": "stream",
     "text": [
      "Training Batches: 100%|██████████| 63/63 [01:56<00:00,  1.84s/it]\n"
     ]
    },
    {
     "name": "stdout",
     "output_type": "stream",
     "text": [
      "\n",
      "Epoch 20/50 - Validation\n"
     ]
    },
    {
     "name": "stderr",
     "output_type": "stream",
     "text": [
      "Validation Batches: 100%|██████████| 21/21 [00:09<00:00,  2.27it/s]\n"
     ]
    },
    {
     "name": "stdout",
     "output_type": "stream",
     "text": [
      "\n",
      "Epoch 20 Summary:\n",
      "Train - Loss: 0.5665, Acc: 0.7751, F1: 0.7360, AUC: 0.8729\n",
      "Val   - Loss: 0.9370, Acc: 0.5542, F1: 0.5040, AUC: 0.6948\n",
      "Saved model: epoch_20_multimodal_mri.pth\n",
      "Current learning rate: 0.000010\n",
      "\n",
      "Epoch 21/50 - Training\n"
     ]
    },
    {
     "name": "stderr",
     "output_type": "stream",
     "text": [
      "Training Batches: 100%|██████████| 63/63 [02:02<00:00,  1.95s/it]\n"
     ]
    },
    {
     "name": "stdout",
     "output_type": "stream",
     "text": [
      "\n",
      "Epoch 21/50 - Validation\n"
     ]
    },
    {
     "name": "stderr",
     "output_type": "stream",
     "text": [
      "Validation Batches: 100%|██████████| 21/21 [00:09<00:00,  2.23it/s]\n"
     ]
    },
    {
     "name": "stdout",
     "output_type": "stream",
     "text": [
      "\n",
      "Epoch 21 Summary:\n",
      "Train - Loss: 0.5578, Acc: 0.7771, F1: 0.7235, AUC: 0.8731\n",
      "Val   - Loss: 0.9549, Acc: 0.5482, F1: 0.5009, AUC: 0.7123\n",
      "Saved model: epoch_21_multimodal_mri.pth\n",
      "Current learning rate: 0.000010\n",
      "\n",
      "Epoch 22/50 - Training\n"
     ]
    },
    {
     "name": "stderr",
     "output_type": "stream",
     "text": [
      "Training Batches: 100%|██████████| 63/63 [02:16<00:00,  2.17s/it]\n"
     ]
    },
    {
     "name": "stdout",
     "output_type": "stream",
     "text": [
      "\n",
      "Epoch 22/50 - Validation\n"
     ]
    },
    {
     "name": "stderr",
     "output_type": "stream",
     "text": [
      "Validation Batches: 100%|██████████| 21/21 [00:09<00:00,  2.31it/s]\n"
     ]
    },
    {
     "name": "stdout",
     "output_type": "stream",
     "text": [
      "\n",
      "Epoch 22 Summary:\n",
      "Train - Loss: 0.5190, Acc: 0.7912, F1: 0.7474, AUC: 0.8715\n",
      "Val   - Loss: 0.9580, Acc: 0.5843, F1: 0.5137, AUC: 0.7112\n",
      "Saved model: epoch_22_multimodal_mri.pth\n",
      "New best model saved with Val F1: 0.5137\n",
      "Current learning rate: 0.000010\n",
      "\n",
      "Epoch 23/50 - Training\n"
     ]
    },
    {
     "name": "stderr",
     "output_type": "stream",
     "text": [
      "Training Batches: 100%|██████████| 63/63 [02:23<00:00,  2.28s/it]\n"
     ]
    },
    {
     "name": "stdout",
     "output_type": "stream",
     "text": [
      "\n",
      "Epoch 23/50 - Validation\n"
     ]
    },
    {
     "name": "stderr",
     "output_type": "stream",
     "text": [
      "Validation Batches: 100%|██████████| 21/21 [00:09<00:00,  2.12it/s]\n"
     ]
    },
    {
     "name": "stdout",
     "output_type": "stream",
     "text": [
      "\n",
      "Epoch 23 Summary:\n",
      "Train - Loss: 0.5481, Acc: 0.7691, F1: 0.7159, AUC: 0.8514\n",
      "Val   - Loss: 1.1097, Acc: 0.5723, F1: 0.4674, AUC: 0.7115\n",
      "Saved model: epoch_23_multimodal_mri.pth\n",
      "Current learning rate: 0.000010\n",
      "\n",
      "Epoch 24/50 - Training\n"
     ]
    },
    {
     "name": "stderr",
     "output_type": "stream",
     "text": [
      "Training Batches: 100%|██████████| 63/63 [02:28<00:00,  2.35s/it]\n"
     ]
    },
    {
     "name": "stdout",
     "output_type": "stream",
     "text": [
      "\n",
      "Epoch 24/50 - Validation\n"
     ]
    },
    {
     "name": "stderr",
     "output_type": "stream",
     "text": [
      "Validation Batches: 100%|██████████| 21/21 [00:10<00:00,  2.05it/s]\n"
     ]
    },
    {
     "name": "stdout",
     "output_type": "stream",
     "text": [
      "\n",
      "Epoch 24 Summary:\n",
      "Train - Loss: 0.4736, Acc: 0.8313, F1: 0.7807, AUC: 0.8741\n",
      "Val   - Loss: 0.9904, Acc: 0.6024, F1: 0.5269, AUC: 0.7164\n",
      "Saved model: epoch_24_multimodal_mri.pth\n",
      "New best model saved with Val F1: 0.5269\n",
      "Current learning rate: 0.000010\n",
      "\n",
      "Epoch 25/50 - Training\n"
     ]
    },
    {
     "name": "stderr",
     "output_type": "stream",
     "text": [
      "Training Batches: 100%|██████████| 63/63 [02:29<00:00,  2.38s/it]\n"
     ]
    },
    {
     "name": "stdout",
     "output_type": "stream",
     "text": [
      "\n",
      "Epoch 25/50 - Validation\n"
     ]
    },
    {
     "name": "stderr",
     "output_type": "stream",
     "text": [
      "Validation Batches: 100%|██████████| 21/21 [00:10<00:00,  2.08it/s]\n"
     ]
    },
    {
     "name": "stdout",
     "output_type": "stream",
     "text": [
      "\n",
      "Epoch 25 Summary:\n",
      "Train - Loss: 0.4512, Acc: 0.8193, F1: 0.7766, AUC: 0.8976\n",
      "Val   - Loss: 0.9692, Acc: 0.5843, F1: 0.5012, AUC: 0.7239\n",
      "Saved model: epoch_25_multimodal_mri.pth\n",
      "Current learning rate: 0.000010\n",
      "\n",
      "Epoch 26/50 - Training\n"
     ]
    },
    {
     "name": "stderr",
     "output_type": "stream",
     "text": [
      "Training Batches: 100%|██████████| 63/63 [02:31<00:00,  2.41s/it]\n"
     ]
    },
    {
     "name": "stdout",
     "output_type": "stream",
     "text": [
      "\n",
      "Epoch 26/50 - Validation\n"
     ]
    },
    {
     "name": "stderr",
     "output_type": "stream",
     "text": [
      "Validation Batches: 100%|██████████| 21/21 [00:10<00:00,  2.05it/s]\n"
     ]
    },
    {
     "name": "stdout",
     "output_type": "stream",
     "text": [
      "\n",
      "Epoch 26 Summary:\n",
      "Train - Loss: 0.5001, Acc: 0.8193, F1: 0.7701, AUC: 0.8726\n",
      "Val   - Loss: 0.9746, Acc: 0.5663, F1: 0.4764, AUC: 0.7344\n",
      "Saved model: epoch_26_multimodal_mri.pth\n",
      "Current learning rate: 0.000010\n",
      "\n",
      "Epoch 27/50 - Training\n"
     ]
    },
    {
     "name": "stderr",
     "output_type": "stream",
     "text": [
      "Training Batches: 100%|██████████| 63/63 [02:33<00:00,  2.44s/it]\n"
     ]
    },
    {
     "name": "stdout",
     "output_type": "stream",
     "text": [
      "\n",
      "Epoch 27/50 - Validation\n"
     ]
    },
    {
     "name": "stderr",
     "output_type": "stream",
     "text": [
      "Validation Batches: 100%|██████████| 21/21 [00:10<00:00,  2.03it/s]\n"
     ]
    },
    {
     "name": "stdout",
     "output_type": "stream",
     "text": [
      "\n",
      "Epoch 27 Summary:\n",
      "Train - Loss: 0.3980, Acc: 0.8333, F1: 0.8038, AUC: 0.9243\n",
      "Val   - Loss: 0.9576, Acc: 0.5904, F1: 0.5098, AUC: 0.7446\n",
      "Saved model: epoch_27_multimodal_mri.pth\n",
      "Current learning rate: 0.000010\n",
      "\n",
      "Epoch 28/50 - Training\n"
     ]
    },
    {
     "name": "stderr",
     "output_type": "stream",
     "text": [
      "Training Batches: 100%|██████████| 63/63 [02:34<00:00,  2.45s/it]\n"
     ]
    },
    {
     "name": "stdout",
     "output_type": "stream",
     "text": [
      "\n",
      "Epoch 28/50 - Validation\n"
     ]
    },
    {
     "name": "stderr",
     "output_type": "stream",
     "text": [
      "Validation Batches: 100%|██████████| 21/21 [00:10<00:00,  2.03it/s]\n"
     ]
    },
    {
     "name": "stdout",
     "output_type": "stream",
     "text": [
      "\n",
      "Epoch 28 Summary:\n",
      "Train - Loss: 0.4248, Acc: 0.8554, F1: 0.8084, AUC: 0.8869\n",
      "Val   - Loss: 0.9504, Acc: 0.5663, F1: 0.5248, AUC: 0.7297\n",
      "Saved model: epoch_28_multimodal_mri.pth\n",
      "Current learning rate: 0.000010\n",
      "\n",
      "Epoch 29/50 - Training\n"
     ]
    },
    {
     "name": "stderr",
     "output_type": "stream",
     "text": [
      "Training Batches: 100%|██████████| 63/63 [02:35<00:00,  2.46s/it]\n"
     ]
    },
    {
     "name": "stdout",
     "output_type": "stream",
     "text": [
      "\n",
      "Epoch 29/50 - Validation\n"
     ]
    },
    {
     "name": "stderr",
     "output_type": "stream",
     "text": [
      "Validation Batches: 100%|██████████| 21/21 [00:10<00:00,  2.01it/s]\n"
     ]
    },
    {
     "name": "stdout",
     "output_type": "stream",
     "text": [
      "\n",
      "Epoch 29 Summary:\n",
      "Train - Loss: 0.3426, Acc: 0.8775, F1: 0.8484, AUC: 0.9163\n",
      "Val   - Loss: 1.0804, Acc: 0.5783, F1: 0.4737, AUC: 0.7445\n",
      "Saved model: epoch_29_multimodal_mri.pth\n",
      "Current learning rate: 0.000010\n",
      "\n",
      "Epoch 30/50 - Training\n"
     ]
    },
    {
     "name": "stderr",
     "output_type": "stream",
     "text": [
      "Training Batches: 100%|██████████| 63/63 [02:36<00:00,  2.48s/it]\n"
     ]
    },
    {
     "name": "stdout",
     "output_type": "stream",
     "text": [
      "\n",
      "Epoch 30/50 - Validation\n"
     ]
    },
    {
     "name": "stderr",
     "output_type": "stream",
     "text": [
      "Validation Batches: 100%|██████████| 21/21 [00:10<00:00,  2.01it/s]\n"
     ]
    },
    {
     "name": "stdout",
     "output_type": "stream",
     "text": [
      "\n",
      "Epoch 30 Summary:\n",
      "Train - Loss: 0.3857, Acc: 0.8715, F1: 0.8266, AUC: 0.8933\n",
      "Val   - Loss: 0.9747, Acc: 0.5663, F1: 0.5200, AUC: 0.7420\n",
      "Saved model: epoch_30_multimodal_mri.pth\n",
      "Current learning rate: 0.000001\n",
      "\n",
      "Epoch 31/50 - Training\n"
     ]
    },
    {
     "name": "stderr",
     "output_type": "stream",
     "text": [
      "Training Batches: 100%|██████████| 63/63 [02:37<00:00,  2.49s/it]\n"
     ]
    },
    {
     "name": "stdout",
     "output_type": "stream",
     "text": [
      "\n",
      "Epoch 31/50 - Validation\n"
     ]
    },
    {
     "name": "stderr",
     "output_type": "stream",
     "text": [
      "Validation Batches: 100%|██████████| 21/21 [00:10<00:00,  2.02it/s]\n"
     ]
    },
    {
     "name": "stdout",
     "output_type": "stream",
     "text": [
      "\n",
      "Epoch 31 Summary:\n",
      "Train - Loss: 0.3702, Acc: 0.8494, F1: 0.8094, AUC: 0.9125\n",
      "Val   - Loss: 0.9930, Acc: 0.5783, F1: 0.5164, AUC: 0.7414\n",
      "Saved model: epoch_31_multimodal_mri.pth\n",
      "Current learning rate: 0.000001\n",
      "\n",
      "Epoch 32/50 - Training\n"
     ]
    },
    {
     "name": "stderr",
     "output_type": "stream",
     "text": [
      "Training Batches: 100%|██████████| 63/63 [02:37<00:00,  2.49s/it]\n"
     ]
    },
    {
     "name": "stdout",
     "output_type": "stream",
     "text": [
      "\n",
      "Epoch 32/50 - Validation\n"
     ]
    },
    {
     "name": "stderr",
     "output_type": "stream",
     "text": [
      "Validation Batches: 100%|██████████| 21/21 [00:10<00:00,  1.98it/s]\n"
     ]
    },
    {
     "name": "stdout",
     "output_type": "stream",
     "text": [
      "\n",
      "Epoch 32 Summary:\n",
      "Train - Loss: 0.3232, Acc: 0.8896, F1: 0.8600, AUC: 0.9340\n",
      "Val   - Loss: 0.9892, Acc: 0.5663, F1: 0.5075, AUC: 0.7470\n",
      "Saved model: epoch_32_multimodal_mri.pth\n",
      "Current learning rate: 0.000001\n",
      "\n",
      "Epoch 33/50 - Training\n"
     ]
    },
    {
     "name": "stderr",
     "output_type": "stream",
     "text": [
      "Training Batches: 100%|██████████| 63/63 [02:37<00:00,  2.49s/it]\n"
     ]
    },
    {
     "name": "stdout",
     "output_type": "stream",
     "text": [
      "\n",
      "Epoch 33/50 - Validation\n"
     ]
    },
    {
     "name": "stderr",
     "output_type": "stream",
     "text": [
      "Validation Batches: 100%|██████████| 21/21 [00:10<00:00,  2.01it/s]\n"
     ]
    },
    {
     "name": "stdout",
     "output_type": "stream",
     "text": [
      "\n",
      "Epoch 33 Summary:\n",
      "Train - Loss: 0.3352, Acc: 0.8695, F1: 0.8263, AUC: 0.9138\n",
      "Val   - Loss: 0.9837, Acc: 0.5783, F1: 0.5095, AUC: 0.7494\n",
      "Saved model: epoch_33_multimodal_mri.pth\n",
      "Current learning rate: 0.000001\n",
      "\n",
      "Epoch 34/50 - Training\n"
     ]
    },
    {
     "name": "stderr",
     "output_type": "stream",
     "text": [
      "Training Batches: 100%|██████████| 63/63 [02:36<00:00,  2.49s/it]\n"
     ]
    },
    {
     "name": "stdout",
     "output_type": "stream",
     "text": [
      "\n",
      "Epoch 34/50 - Validation\n"
     ]
    },
    {
     "name": "stderr",
     "output_type": "stream",
     "text": [
      "Validation Batches: 100%|██████████| 21/21 [00:10<00:00,  1.98it/s]\n"
     ]
    },
    {
     "name": "stdout",
     "output_type": "stream",
     "text": [
      "\n",
      "Epoch 34 Summary:\n",
      "Train - Loss: 0.3807, Acc: 0.8534, F1: 0.8084, AUC: 0.9098\n",
      "Val   - Loss: 0.9648, Acc: 0.5904, F1: 0.5385, AUC: 0.7546\n",
      "Saved model: epoch_34_multimodal_mri.pth\n",
      "New best model saved with Val F1: 0.5385\n",
      "Current learning rate: 0.000001\n",
      "\n",
      "Epoch 35/50 - Training\n"
     ]
    },
    {
     "name": "stderr",
     "output_type": "stream",
     "text": [
      "Training Batches: 100%|██████████| 63/63 [02:37<00:00,  2.49s/it]\n"
     ]
    },
    {
     "name": "stdout",
     "output_type": "stream",
     "text": [
      "\n",
      "Epoch 35/50 - Validation\n"
     ]
    },
    {
     "name": "stderr",
     "output_type": "stream",
     "text": [
      "Validation Batches: 100%|██████████| 21/21 [00:10<00:00,  1.99it/s]\n"
     ]
    },
    {
     "name": "stdout",
     "output_type": "stream",
     "text": [
      "\n",
      "Epoch 35 Summary:\n",
      "Train - Loss: 0.3251, Acc: 0.8855, F1: 0.8445, AUC: 0.9195\n",
      "Val   - Loss: 0.9754, Acc: 0.5783, F1: 0.5196, AUC: 0.7484\n",
      "Saved model: epoch_35_multimodal_mri.pth\n",
      "Current learning rate: 0.000001\n",
      "\n",
      "Epoch 36/50 - Training\n"
     ]
    },
    {
     "name": "stderr",
     "output_type": "stream",
     "text": [
      "Training Batches: 100%|██████████| 63/63 [02:37<00:00,  2.49s/it]\n"
     ]
    },
    {
     "name": "stdout",
     "output_type": "stream",
     "text": [
      "\n",
      "Epoch 36/50 - Validation\n"
     ]
    },
    {
     "name": "stderr",
     "output_type": "stream",
     "text": [
      "Validation Batches: 100%|██████████| 21/21 [00:10<00:00,  1.98it/s]\n"
     ]
    },
    {
     "name": "stdout",
     "output_type": "stream",
     "text": [
      "\n",
      "Epoch 36 Summary:\n",
      "Train - Loss: 0.3481, Acc: 0.8916, F1: 0.8575, AUC: 0.9046\n",
      "Val   - Loss: 0.9936, Acc: 0.5783, F1: 0.5102, AUC: 0.7485\n",
      "Saved model: epoch_36_multimodal_mri.pth\n",
      "Current learning rate: 0.000001\n",
      "\n",
      "Epoch 37/50 - Training\n"
     ]
    },
    {
     "name": "stderr",
     "output_type": "stream",
     "text": [
      "Training Batches: 100%|██████████| 63/63 [02:37<00:00,  2.50s/it]\n"
     ]
    },
    {
     "name": "stdout",
     "output_type": "stream",
     "text": [
      "\n",
      "Epoch 37/50 - Validation\n"
     ]
    },
    {
     "name": "stderr",
     "output_type": "stream",
     "text": [
      "Validation Batches: 100%|██████████| 21/21 [00:10<00:00,  1.99it/s]\n"
     ]
    },
    {
     "name": "stdout",
     "output_type": "stream",
     "text": [
      "\n",
      "Epoch 37 Summary:\n",
      "Train - Loss: 0.3865, Acc: 0.8635, F1: 0.8188, AUC: 0.8919\n",
      "Val   - Loss: 0.9721, Acc: 0.5663, F1: 0.5141, AUC: 0.7474\n",
      "Saved model: epoch_37_multimodal_mri.pth\n",
      "Current learning rate: 0.000001\n",
      "\n",
      "Epoch 38/50 - Training\n"
     ]
    },
    {
     "name": "stderr",
     "output_type": "stream",
     "text": [
      "Training Batches: 100%|██████████| 63/63 [02:38<00:00,  2.52s/it]\n"
     ]
    },
    {
     "name": "stdout",
     "output_type": "stream",
     "text": [
      "\n",
      "Epoch 38/50 - Validation\n"
     ]
    },
    {
     "name": "stderr",
     "output_type": "stream",
     "text": [
      "Validation Batches: 100%|██████████| 21/21 [00:10<00:00,  1.97it/s]\n"
     ]
    },
    {
     "name": "stdout",
     "output_type": "stream",
     "text": [
      "\n",
      "Epoch 38 Summary:\n",
      "Train - Loss: 0.3504, Acc: 0.8695, F1: 0.8300, AUC: 0.9242\n",
      "Val   - Loss: 0.9876, Acc: 0.5783, F1: 0.5196, AUC: 0.7527\n",
      "Saved model: epoch_38_multimodal_mri.pth\n",
      "Current learning rate: 0.000001\n",
      "\n",
      "Epoch 39/50 - Training\n"
     ]
    },
    {
     "name": "stderr",
     "output_type": "stream",
     "text": [
      "Training Batches: 100%|██████████| 63/63 [02:37<00:00,  2.49s/it]\n"
     ]
    },
    {
     "name": "stdout",
     "output_type": "stream",
     "text": [
      "\n",
      "Epoch 39/50 - Validation\n"
     ]
    },
    {
     "name": "stderr",
     "output_type": "stream",
     "text": [
      "Validation Batches: 100%|██████████| 21/21 [00:10<00:00,  2.01it/s]\n"
     ]
    },
    {
     "name": "stdout",
     "output_type": "stream",
     "text": [
      "\n",
      "Epoch 39 Summary:\n",
      "Train - Loss: 0.3131, Acc: 0.8876, F1: 0.8380, AUC: 0.9143\n",
      "Val   - Loss: 0.9932, Acc: 0.5964, F1: 0.5283, AUC: 0.7472\n",
      "Saved model: epoch_39_multimodal_mri.pth\n",
      "Current learning rate: 0.000001\n",
      "\n",
      "Epoch 40/50 - Training\n"
     ]
    },
    {
     "name": "stderr",
     "output_type": "stream",
     "text": [
      "Training Batches: 100%|██████████| 63/63 [02:35<00:00,  2.47s/it]\n"
     ]
    },
    {
     "name": "stdout",
     "output_type": "stream",
     "text": [
      "\n",
      "Epoch 40/50 - Validation\n"
     ]
    },
    {
     "name": "stderr",
     "output_type": "stream",
     "text": [
      "Validation Batches: 100%|██████████| 21/21 [00:10<00:00,  2.02it/s]\n"
     ]
    },
    {
     "name": "stdout",
     "output_type": "stream",
     "text": [
      "\n",
      "Epoch 40 Summary:\n",
      "Train - Loss: 0.3452, Acc: 0.8835, F1: 0.8297, AUC: 0.8910\n",
      "Val   - Loss: 1.0002, Acc: 0.5542, F1: 0.5067, AUC: 0.7448\n",
      "Saved model: epoch_40_multimodal_mri.pth\n",
      "Current learning rate: 0.000000\n",
      "\n",
      "Epoch 41/50 - Training\n"
     ]
    },
    {
     "name": "stderr",
     "output_type": "stream",
     "text": [
      "Training Batches: 100%|██████████| 63/63 [02:36<00:00,  2.48s/it]\n"
     ]
    },
    {
     "name": "stdout",
     "output_type": "stream",
     "text": [
      "\n",
      "Epoch 41/50 - Validation\n"
     ]
    },
    {
     "name": "stderr",
     "output_type": "stream",
     "text": [
      "Validation Batches: 100%|██████████| 21/21 [00:10<00:00,  1.98it/s]\n"
     ]
    },
    {
     "name": "stdout",
     "output_type": "stream",
     "text": [
      "\n",
      "Epoch 41 Summary:\n",
      "Train - Loss: 0.3383, Acc: 0.8876, F1: 0.8535, AUC: 0.9195\n",
      "Val   - Loss: 1.0243, Acc: 0.6084, F1: 0.5433, AUC: 0.7421\n",
      "Saved model: epoch_41_multimodal_mri.pth\n",
      "New best model saved with Val F1: 0.5433\n",
      "Current learning rate: 0.000000\n",
      "\n",
      "Epoch 42/50 - Training\n"
     ]
    },
    {
     "name": "stderr",
     "output_type": "stream",
     "text": [
      "Training Batches: 100%|██████████| 63/63 [02:35<00:00,  2.47s/it]\n"
     ]
    },
    {
     "name": "stdout",
     "output_type": "stream",
     "text": [
      "\n",
      "Epoch 42/50 - Validation\n"
     ]
    },
    {
     "name": "stderr",
     "output_type": "stream",
     "text": [
      "Validation Batches: 100%|██████████| 21/21 [00:10<00:00,  1.99it/s]\n"
     ]
    },
    {
     "name": "stdout",
     "output_type": "stream",
     "text": [
      "\n",
      "Epoch 42 Summary:\n",
      "Train - Loss: 0.3530, Acc: 0.8876, F1: 0.8421, AUC: 0.9052\n",
      "Val   - Loss: 0.9701, Acc: 0.6145, F1: 0.5711, AUC: 0.7534\n",
      "Saved model: epoch_42_multimodal_mri.pth\n",
      "New best model saved with Val F1: 0.5711\n",
      "Current learning rate: 0.000000\n",
      "\n",
      "Epoch 43/50 - Training\n"
     ]
    },
    {
     "name": "stderr",
     "output_type": "stream",
     "text": [
      "Training Batches: 100%|██████████| 63/63 [02:36<00:00,  2.48s/it]\n"
     ]
    },
    {
     "name": "stdout",
     "output_type": "stream",
     "text": [
      "\n",
      "Epoch 43/50 - Validation\n"
     ]
    },
    {
     "name": "stderr",
     "output_type": "stream",
     "text": [
      "Validation Batches: 100%|██████████| 21/21 [00:10<00:00,  1.98it/s]\n"
     ]
    },
    {
     "name": "stdout",
     "output_type": "stream",
     "text": [
      "\n",
      "Epoch 43 Summary:\n",
      "Train - Loss: 0.3180, Acc: 0.8855, F1: 0.8369, AUC: 0.9037\n",
      "Val   - Loss: 1.0339, Acc: 0.5783, F1: 0.4862, AUC: 0.7436\n",
      "Saved model: epoch_43_multimodal_mri.pth\n",
      "Current learning rate: 0.000000\n",
      "\n",
      "Epoch 44/50 - Training\n"
     ]
    },
    {
     "name": "stderr",
     "output_type": "stream",
     "text": [
      "Training Batches: 100%|██████████| 63/63 [02:36<00:00,  2.48s/it]\n"
     ]
    },
    {
     "name": "stdout",
     "output_type": "stream",
     "text": [
      "\n",
      "Epoch 44/50 - Validation\n"
     ]
    },
    {
     "name": "stderr",
     "output_type": "stream",
     "text": [
      "Validation Batches: 100%|██████████| 21/21 [00:10<00:00,  2.00it/s]\n"
     ]
    },
    {
     "name": "stdout",
     "output_type": "stream",
     "text": [
      "\n",
      "Epoch 44 Summary:\n",
      "Train - Loss: 0.3059, Acc: 0.9016, F1: 0.8641, AUC: 0.9019\n",
      "Val   - Loss: 0.9968, Acc: 0.5723, F1: 0.5251, AUC: 0.7443\n",
      "Saved model: epoch_44_multimodal_mri.pth\n",
      "Current learning rate: 0.000000\n",
      "\n",
      "Epoch 45/50 - Training\n"
     ]
    },
    {
     "name": "stderr",
     "output_type": "stream",
     "text": [
      "Training Batches: 100%|██████████| 63/63 [02:35<00:00,  2.47s/it]\n"
     ]
    },
    {
     "name": "stdout",
     "output_type": "stream",
     "text": [
      "\n",
      "Epoch 45/50 - Validation\n"
     ]
    },
    {
     "name": "stderr",
     "output_type": "stream",
     "text": [
      "Validation Batches: 100%|██████████| 21/21 [00:10<00:00,  1.96it/s]\n"
     ]
    },
    {
     "name": "stdout",
     "output_type": "stream",
     "text": [
      "\n",
      "Epoch 45 Summary:\n",
      "Train - Loss: 0.2848, Acc: 0.8996, F1: 0.8691, AUC: 0.9341\n",
      "Val   - Loss: 1.0145, Acc: 0.5904, F1: 0.5258, AUC: 0.7439\n",
      "Saved model: epoch_45_multimodal_mri.pth\n",
      "Current learning rate: 0.000000\n",
      "\n",
      "Epoch 46/50 - Training\n"
     ]
    },
    {
     "name": "stderr",
     "output_type": "stream",
     "text": [
      "Training Batches: 100%|██████████| 63/63 [02:36<00:00,  2.48s/it]\n"
     ]
    },
    {
     "name": "stdout",
     "output_type": "stream",
     "text": [
      "\n",
      "Epoch 46/50 - Validation\n"
     ]
    },
    {
     "name": "stderr",
     "output_type": "stream",
     "text": [
      "Validation Batches: 100%|██████████| 21/21 [00:10<00:00,  1.99it/s]\n"
     ]
    },
    {
     "name": "stdout",
     "output_type": "stream",
     "text": [
      "\n",
      "Epoch 46 Summary:\n",
      "Train - Loss: 0.3476, Acc: 0.8755, F1: 0.8491, AUC: 0.9325\n",
      "Val   - Loss: 0.9697, Acc: 0.5904, F1: 0.5324, AUC: 0.7497\n",
      "Saved model: epoch_46_multimodal_mri.pth\n",
      "Current learning rate: 0.000000\n",
      "\n",
      "Epoch 47/50 - Training\n"
     ]
    },
    {
     "name": "stderr",
     "output_type": "stream",
     "text": [
      "Training Batches: 100%|██████████| 63/63 [02:36<00:00,  2.48s/it]\n"
     ]
    },
    {
     "name": "stdout",
     "output_type": "stream",
     "text": [
      "\n",
      "Epoch 47/50 - Validation\n"
     ]
    },
    {
     "name": "stderr",
     "output_type": "stream",
     "text": [
      "Validation Batches: 100%|██████████| 21/21 [00:10<00:00,  1.98it/s]\n"
     ]
    },
    {
     "name": "stdout",
     "output_type": "stream",
     "text": [
      "\n",
      "Epoch 47 Summary:\n",
      "Train - Loss: 0.3633, Acc: 0.8594, F1: 0.8072, AUC: 0.8774\n",
      "Val   - Loss: 0.9741, Acc: 0.6084, F1: 0.5348, AUC: 0.7489\n",
      "Saved model: epoch_47_multimodal_mri.pth\n",
      "Current learning rate: 0.000000\n",
      "\n",
      "Epoch 48/50 - Training\n"
     ]
    },
    {
     "name": "stderr",
     "output_type": "stream",
     "text": [
      "Training Batches: 100%|██████████| 63/63 [02:36<00:00,  2.49s/it]\n"
     ]
    },
    {
     "name": "stdout",
     "output_type": "stream",
     "text": [
      "\n",
      "Epoch 48/50 - Validation\n"
     ]
    },
    {
     "name": "stderr",
     "output_type": "stream",
     "text": [
      "Validation Batches: 100%|██████████| 21/21 [00:10<00:00,  1.98it/s]\n"
     ]
    },
    {
     "name": "stdout",
     "output_type": "stream",
     "text": [
      "\n",
      "Epoch 48 Summary:\n",
      "Train - Loss: 0.3947, Acc: 0.8675, F1: 0.8177, AUC: 0.8832\n",
      "Val   - Loss: 1.0020, Acc: 0.6084, F1: 0.5332, AUC: 0.7458\n",
      "Saved model: epoch_48_multimodal_mri.pth\n",
      "Current learning rate: 0.000000\n",
      "\n",
      "Epoch 49/50 - Training\n"
     ]
    },
    {
     "name": "stderr",
     "output_type": "stream",
     "text": [
      "Training Batches: 100%|██████████| 63/63 [02:36<00:00,  2.48s/it]\n"
     ]
    },
    {
     "name": "stdout",
     "output_type": "stream",
     "text": [
      "\n",
      "Epoch 49/50 - Validation\n"
     ]
    },
    {
     "name": "stderr",
     "output_type": "stream",
     "text": [
      "Validation Batches: 100%|██████████| 21/21 [00:10<00:00,  1.98it/s]\n"
     ]
    },
    {
     "name": "stdout",
     "output_type": "stream",
     "text": [
      "\n",
      "Epoch 49 Summary:\n",
      "Train - Loss: 0.3186, Acc: 0.8976, F1: 0.8501, AUC: 0.9053\n",
      "Val   - Loss: 0.9683, Acc: 0.5783, F1: 0.5336, AUC: 0.7456\n",
      "Saved model: epoch_49_multimodal_mri.pth\n",
      "Current learning rate: 0.000000\n",
      "\n",
      "Epoch 50/50 - Training\n"
     ]
    },
    {
     "name": "stderr",
     "output_type": "stream",
     "text": [
      "Training Batches: 100%|██████████| 63/63 [02:35<00:00,  2.48s/it]\n"
     ]
    },
    {
     "name": "stdout",
     "output_type": "stream",
     "text": [
      "\n",
      "Epoch 50/50 - Validation\n"
     ]
    },
    {
     "name": "stderr",
     "output_type": "stream",
     "text": [
      "Validation Batches: 100%|██████████| 21/21 [00:10<00:00,  1.95it/s]"
     ]
    },
    {
     "name": "stdout",
     "output_type": "stream",
     "text": [
      "\n",
      "Epoch 50 Summary:\n",
      "Train - Loss: 0.3351, Acc: 0.8976, F1: 0.8553, AUC: 0.9044\n",
      "Val   - Loss: 0.9577, Acc: 0.6084, F1: 0.5495, AUC: 0.7460\n",
      "Saved model: epoch_50_multimodal_mri.pth\n",
      "Current learning rate: 0.000000\n",
      "Loaded best model weights\n"
     ]
    },
    {
     "name": "stderr",
     "output_type": "stream",
     "text": [
      "\n"
     ]
    }
   ],
   "source": [
    "import torch\n",
    "from torch.utils.data import DataLoader\n",
    "import torch.nn as nn\n",
    "import torch.optim as optim\n",
    "from torchmetrics import Accuracy, F1Score, AUROC\n",
    "from tqdm import tqdm\n",
    "import copy\n",
    "\n",
    "device = torch.device(\"cuda\" if torch.cuda.is_available() else \"cpu\")\n",
    "model = MultimodalMRIModel(num_classes=3, clinical_dim=3).to(device)\n",
    "\n",
    "#assigning higher weights to the minority class (AD) in the loss function\n",
    "paired_df = pd.read_csv(\"paired_dataset.csv\")\n",
    "class_counts = paired_df['label'].value_counts().sort_index() \n",
    "class_weights = torch.tensor(1.0 / class_counts, dtype=torch.float32).to(device)\n",
    "class_weights = class_weights / class_weights.sum() * 3\n",
    "print(\"Class weights:\", class_weights)\n",
    "\n",
    "criterion = nn.CrossEntropyLoss(weight=class_weights)\n",
    "optimizer = optim.Adam(model.parameters(), lr=1e-4, weight_decay=1e-4)\n",
    "\n",
    "accuracy = Accuracy(task=\"multiclass\", num_classes=3).to(device)\n",
    "f1_score = F1Score(task=\"multiclass\", num_classes=3, average=\"macro\").to(device)\n",
    "auroc = AUROC(task=\"multiclass\", num_classes=3, average=\"macro\").to(device)\n",
    "\n",
    "def train_model(model, train_loader, val_loader, criterion, optimizer, num_epochs=50, patience=10):\n",
    "    best_f1 = 0.0\n",
    "    best_model_wts = copy.deepcopy(model.state_dict())\n",
    "    patience_counter = 0\n",
    "    #Uses ReduceLROnPlateau to reduce the learning rate by a factor of 0.1 if validation F1-score doesn’t improve for 5 epochs\n",
    "    scheduler = optim.lr_scheduler.ReduceLROnPlateau(optimizer, mode='max', factor=0.1, patience=5)\n",
    "    for epoch in range(num_epochs):\n",
    "        model.train()\n",
    "        train_loss, train_acc, train_f1, train_auc = 0.0, 0.0, 0.0, 0.0\n",
    "        train_samples = 0\n",
    "        print(f\"\\nEpoch {epoch+1}/{num_epochs} - Training\")\n",
    "        for batch_idx, (img, clin, label) in enumerate(tqdm(train_loader, desc=\"Training Batches\")):\n",
    "            img, clin, label = img.to(device), clin.to(device), label.to(device)\n",
    "            optimizer.zero_grad()\n",
    "            pred = model(img, clin)\n",
    "            loss = criterion(pred, label)\n",
    "            loss.backward()\n",
    "            optimizer.step()\n",
    "            batch_size = img.size(0)\n",
    "            batch_loss = loss.item()\n",
    "            batch_acc = accuracy(pred, label).item()\n",
    "            batch_f1 = f1_score(pred, label).item()\n",
    "            batch_auc = auroc(pred, label).item()\n",
    "            train_loss += batch_loss * batch_size\n",
    "            train_acc += batch_acc * batch_size\n",
    "            train_f1 += batch_f1 * batch_size\n",
    "            train_auc += batch_auc * batch_size\n",
    "            train_samples += batch_size\n",
    "            \n",
    "        train_loss /= train_samples\n",
    "        train_acc /= train_samples\n",
    "        train_f1 /= train_samples\n",
    "        train_auc /= train_samples\n",
    "        \n",
    "        # Validation\n",
    "        model.eval()\n",
    "        val_loss, val_acc, val_f1, val_auc = 0.0, 0.0, 0.0, 0.0\n",
    "        val_samples = 0\n",
    "        print(f\"\\nEpoch {epoch+1}/{num_epochs} - Validation\")\n",
    "        with torch.no_grad():\n",
    "            for batch_idx, (img, clin, label) in enumerate(tqdm(val_loader, desc=\"Validation Batches\")):\n",
    "                img, clin, label = img.to(device), clin.to(device), label.to(device)\n",
    "                pred = model(img, clin)\n",
    "                loss = criterion(pred, label)\n",
    "                \n",
    "                batch_size = img.size(0)\n",
    "                batch_loss = loss.item()\n",
    "                batch_acc = accuracy(pred, label).item()\n",
    "                batch_f1 = f1_score(pred, label).item()\n",
    "                batch_auc = auroc(pred, label).item()\n",
    "                \n",
    "                val_loss += batch_loss * batch_size\n",
    "                val_acc += batch_acc * batch_size\n",
    "                val_f1 += batch_f1 * batch_size\n",
    "                val_auc += batch_auc * batch_size\n",
    "                val_samples += batch_size\n",
    "                \n",
    "              \n",
    "        \n",
    "        val_loss /= val_samples\n",
    "        val_acc /= val_samples\n",
    "        val_f1 /= val_samples\n",
    "        val_auc /= val_samples\n",
    "        \n",
    "        print(f\"\\nEpoch {epoch+1} Summary:\")\n",
    "        print(f\"Train - Loss: {train_loss:.4f}, Acc: {train_acc:.4f}, F1: {train_f1:.4f}, AUC: {train_auc:.4f}\")\n",
    "        print(f\"Val   - Loss: {val_loss:.4f}, Acc: {val_acc:.4f}, F1: {val_f1:.4f}, AUC: {val_auc:.4f}\")\n",
    "        \n",
    "        # Save epoch model\n",
    "        epoch_save_path = f\"epoch_{epoch+1}_multimodal_mri.pth\"\n",
    "        torch.save(model.state_dict(), epoch_save_path)\n",
    "        print(f\"Saved model: {epoch_save_path}\")\n",
    "        \n",
    "        # Save best model\n",
    "        if val_f1 > best_f1:\n",
    "            best_f1 = val_f1\n",
    "            best_model_wts = copy.deepcopy(model.state_dict())\n",
    "            torch.save(best_model_wts, \"best_multimodal_mri.pth\")\n",
    "            print(f\"New best model saved with Val F1: {best_f1:.4f}\")\n",
    "            patience_counter = 0\n",
    "        else:\n",
    "            patience_counter += 1\n",
    "        \n",
    "        scheduler.step(val_f1)\n",
    "        print(f\"Current learning rate: {optimizer.param_groups[0]['lr']:.6f}\")\n",
    "        \n",
    "        #Stops training if validation F1-score doesn’t improve for patience=10 epochs\n",
    "        if patience_counter >= patience:\n",
    "            print(\"Early stopping triggered\")\n",
    "            break\n",
    "    \n",
    "    model.load_state_dict(best_model_wts)\n",
    "    print(\"Loaded best model weights\")\n",
    "    return model\n",
    "\n",
    "model = train_model(model, train_loader, val_loader, criterion, optimizer, num_epochs=50, patience=10)"
   ]
  },
  {
   "cell_type": "markdown",
   "id": "ef2efa16",
   "metadata": {},
   "source": [
    "TEST EVALUATION "
   ]
  },
  {
   "cell_type": "code",
   "execution_count": null,
   "id": "e7d16ab7",
   "metadata": {},
   "outputs": [
    {
     "name": "stdout",
     "output_type": "stream",
     "text": [
      "Classification Report:\n",
      "              precision    recall  f1-score   support\n",
      "\n",
      "          AD     0.4750    0.5588    0.5135        34\n",
      "         MCI     0.7059    0.5926    0.6443        81\n",
      "          CN     0.5862    0.6667    0.6239        51\n",
      "\n",
      "    accuracy                         0.6084       166\n",
      "   macro avg     0.5890    0.6060    0.5939       166\n",
      "weighted avg     0.6218    0.6084    0.6112       166\n",
      "\n"
     ]
    },
    {
     "data": {
      "text/plain": [
       "'              precision    recall  f1-score   support\\n\\n          AD     0.4750    0.5588    0.5135        34\\n         MCI     0.7059    0.5926    0.6443        81\\n          CN     0.5862    0.6667    0.6239        51\\n\\n    accuracy                         0.6084       166\\n   macro avg     0.5890    0.6060    0.5939       166\\nweighted avg     0.6218    0.6084    0.6112       166\\n'"
      ]
     },
     "execution_count": 74,
     "metadata": {},
     "output_type": "execute_result"
    }
   ],
   "source": [
    "from sklearn.metrics import classification_report\n",
    "\n",
    "def generate_classification_report(model, test_loader, device, weights_path=\"best_multimodal_mri.pth\"):\n",
    "    model.load_state_dict(torch.load(weights_path))\n",
    "    model.to(device)\n",
    "    model.eval()\n",
    "    all_preds = []\n",
    "    all_labels = [] \n",
    "    with torch.no_grad():\n",
    "        for img, clin, label in test_loader:\n",
    "            img, clin, label = img.to(device), clin.to(device), label.to(device)\n",
    "            pred = model(img, clin)\n",
    "            pred_classes = torch.argmax(pred, dim=1)\n",
    "            all_preds.extend(pred_classes.cpu().numpy())\n",
    "            all_labels.extend(label.cpu().numpy())\n",
    "    \n",
    "    report = classification_report(all_labels, all_preds, target_names=['AD', 'MCI', 'CN'], digits=4)\n",
    "    print(\"Classification Report:\")\n",
    "    print(report)\n",
    "    \n",
    "    return report\n",
    "\n",
    "generate_classification_report(model, test_loader, device, weights_path=\"best_multimodal_mri.pth\")"
   ]
  },
  {
   "cell_type": "markdown",
   "id": "f6dc9370",
   "metadata": {},
   "source": [
    "SMOTE (Synthetic Minority Oversampling Technique) to address the class imbalance"
   ]
  },
  {
   "cell_type": "code",
   "execution_count": null,
   "id": "1f519809",
   "metadata": {},
   "outputs": [
    {
     "name": "stdout",
     "output_type": "stream",
     "text": [
      "Paired 1209 samples after SMOTE\n",
      "label\n",
      "2    0.333333\n",
      "0    0.333333\n",
      "1    0.333333\n",
      "Name: proportion, dtype: float64\n",
      "  Image Data ID     Subject             mri_path  \\\n",
      "0       I118772  007_S_1222   mri_png\\I60003.png   \n",
      "1       I119180  002_S_0816   mri_png\\I40731.png   \n",
      "2       I119175  123_S_0091  mri_png\\I119288.png   \n",
      "3       I118779  141_S_0852   mri_png\\I47744.png   \n",
      "4        I81972  023_S_0217   mri_png\\I31346.png   \n",
      "\n",
      "                         clinical  label  \n",
      "0  [0.5999999999999999, 1.0, 0.0]      2  \n",
      "1  [0.2571428571428571, 1.0, 0.0]      0  \n",
      "2  [0.3142857142857143, 1.0, 0.0]      0  \n",
      "3  [0.3142857142857143, 1.0, 0.0]      0  \n",
      "4  [0.5999999999999999, 1.0, 0.0]      1  \n",
      "Train: label\n",
      "2    0.333793\n",
      "0    0.333793\n",
      "1    0.332414\n",
      "Name: proportion, dtype: float64\n",
      "Val: label\n",
      "1    0.334711\n",
      "0    0.334711\n",
      "2    0.330579\n",
      "Name: proportion, dtype: float64\n",
      "Test: label\n",
      "2    0.334711\n",
      "1    0.334711\n",
      "0    0.330579\n",
      "Name: proportion, dtype: float64\n"
     ]
    },
    {
     "name": "stderr",
     "output_type": "stream",
     "text": [
      "C:\\Users\\HP\\AppData\\Local\\Temp\\ipykernel_27504\\1565746625.py:55: DeprecationWarning: DataFrameGroupBy.apply operated on the grouping columns. This behavior is deprecated, and in a future version of pandas the grouping columns will be excluded from the operation. Either pass `include_groups=False` to exclude the groupings or explicitly select the grouping columns after groupby to silence this warning.\n",
      "  label_to_rows = paired_df.groupby('label').apply(lambda x: x.to_dict('records')).to_dict()\n"
     ]
    }
   ],
   "source": [
    "from imblearn.over_sampling import SMOTE\n",
    "\n",
    "# Augmentation for synthetic AD MRIs\n",
    "augment_ad = A.Compose([\n",
    "    A.Resize(224, 224, interpolation=cv2.INTER_AREA),\n",
    "    A.Rotate(limit=15, p=0.8),\n",
    "    A.HorizontalFlip(p=0.8),\n",
    "    A.RandomBrightnessContrast(p=0.6),\n",
    "    A.GaussianNoise(p=0.4),\n",
    "    A.RandomCrop(height=200, width=200, p=0.3)\n",
    "])\n",
    "\n",
    "output_dir = \"synthetic_mri_ad\"\n",
    "Path(output_dir).mkdir(exist_ok=True)\n",
    "paired_df = pd.read_csv(\"paired_dataset.csv\")\n",
    "\n",
    "X_clinical = np.array([eval(row['clinical']) for row in paired_df.itertuples()])\n",
    "y_labels = paired_df['label'].values\n",
    "\n",
    "#SMOTE strategy\n",
    "class_counts = paired_df['label'].value_counts()\n",
    "max_count = class_counts.max()\n",
    "sampling_strategy = {\n",
    "    0: max_count,  \n",
    "    1: max_count,  \n",
    "    2: max_count  \n",
    "}\n",
    "\n",
    "# Apply SMOTE\n",
    "smote = SMOTE(sampling_strategy=sampling_strategy, random_state=42)\n",
    "X_smote, y_smote = smote.fit_resample(X_clinical, y_labels)\n",
    "\n",
    "# Generate synthetic MRIs for AD\n",
    "ad_mri_paths = paired_df[paired_df['label'] == 0]['mri_path'].tolist()\n",
    "synthetic_mri_paths = []\n",
    "num_synthetic_ad = max_count - class_counts[0]\n",
    "for i in range(num_synthetic_ad):\n",
    "    base_img_path = ad_mri_paths[np.random.randint(len(ad_mri_paths))]\n",
    "    img = cv2.imread(base_img_path, cv2.IMREAD_GRAYSCALE)\n",
    "    if img is None:\n",
    "        continue\n",
    "    img = img / 255.0\n",
    "    augmented = augment_ad(image=img)['image']\n",
    "    new_path = os.path.join(output_dir, f\"synthetic_ad_{i}.png\")\n",
    "    cv2.imwrite(new_path, augmented * 255.0)\n",
    "    synthetic_mri_paths.append(new_path)\n",
    "\n",
    "smote_paired_data = []\n",
    "label_to_rows = paired_df.groupby('label').apply(lambda x: x.to_dict('records')).to_dict()\n",
    "smote_idx = 0\n",
    "synthetic_ad_idx = 0\n",
    "\n",
    "while smote_idx < len(y_smote):\n",
    "    label = y_smote[smote_idx]\n",
    "    class_rows = label_to_rows.get(label, [])\n",
    "    if not class_rows:\n",
    "        smote_idx += 1\n",
    "        continue\n",
    "    row = class_rows[np.random.randint(len(class_rows))]\n",
    "    \n",
    "    clinical_data = X_smote[smote_idx]\n",
    "    if len(clinical_data) >= 3:  \n",
    "        clinical_data[1] = 1 if clinical_data[1] > 0.5 else 0\n",
    "        clinical_data[2] = 1 if clinical_data[2] > 0.5 else 0\n",
    "    clinical_data = clinical_data.tolist()\n",
    "    \n",
    "    if smote_idx < len(y_labels):\n",
    "        image_id = paired_df.iloc[smote_idx]['Image Data ID']\n",
    "        mri_path = paired_df.iloc[smote_idx]['mri_path']\n",
    "        label_data = y_labels[smote_idx]\n",
    "    else:\n",
    "        # Synthetic sample\n",
    "        image_id = f\"synthetic_{smote_idx}_{row['Image Data ID']}\"\n",
    "        if label == 0 and synthetic_ad_idx < len(synthetic_mri_paths):\n",
    "            mri_path = synthetic_mri_paths[synthetic_ad_idx]\n",
    "            synthetic_ad_idx += 1\n",
    "        else:\n",
    "            # Reuse MRI for non-AD synthetic samples\n",
    "            mri_path = row['mri_path']\n",
    "        label_data = y_smote[smote_idx]\n",
    "    \n",
    "    smote_paired_data.append({\n",
    "        'Image Data ID': image_id,\n",
    "        'Subject': row['Subject'],\n",
    "        'mri_path': mri_path,\n",
    "        'clinical': clinical_data,\n",
    "        'label': label_data\n",
    "    })\n",
    "    smote_idx += 1\n",
    "\n",
    "paired_df_smote = pd.DataFrame(smote_paired_data)\n",
    "paired_df_smote.to_csv(\"paired_dataset_smote.csv\", index=False)\n",
    "print(f\"Paired {len(paired_df_smote)} samples after SMOTE\")\n",
    "print(paired_df_smote['label'].value_counts(normalize=True))\n",
    "print(paired_df_smote.head())\n",
    "\n",
    "train_val, test = train_test_split(\n",
    "    paired_df_smote, test_size=0.2, stratify=paired_df_smote['label'], random_state=42\n",
    ")\n",
    "train, val = train_test_split(\n",
    "    train_val, test_size=0.25, stratify=train_val['label'], random_state=42\n",
    ")\n",
    "\n",
    "train.to_csv(\"train_smote.csv\", index=False)\n",
    "val.to_csv(\"val_smote.csv\", index=False)\n",
    "test.to_csv(\"test_smote.csv\", index=False)\n",
    "\n",
    "print(\"Train:\", train['label'].value_counts(normalize=True))\n",
    "print(\"Val:\", val['label'].value_counts(normalize=True))\n",
    "print(\"Test:\", test['label'].value_counts(normalize=True))"
   ]
  },
  {
   "cell_type": "code",
   "execution_count": 26,
   "id": "1bb42edc",
   "metadata": {},
   "outputs": [],
   "source": [
    "train_dataset = ADNIDataset(pd.read_csv(\"train_smote.csv\"), transform=augment)\n",
    "val_dataset = ADNIDataset(pd.read_csv(\"val_smote.csv\"), transform=None)\n",
    "test_dataset = ADNIDataset(pd.read_csv(\"test_smote.csv\"), transform=None)"
   ]
  },
  {
   "cell_type": "markdown",
   "id": "7187cb6b",
   "metadata": {},
   "source": [
    "TRAINING PIPELINE AFTER SMOTE"
   ]
  },
  {
   "cell_type": "code",
   "execution_count": null,
   "id": "79d31da0",
   "metadata": {},
   "outputs": [
    {
     "name": "stdout",
     "output_type": "stream",
     "text": [
      "Using device: cpu\n"
     ]
    },
    {
     "name": "stderr",
     "output_type": "stream",
     "text": [
      "C:\\Users\\HP\\AppData\\Local\\Packages\\PythonSoftwareFoundation.Python.3.10_qbz5n2kfra8p0\\LocalCache\\local-packages\\Python310\\site-packages\\torchvision\\models\\_utils.py:208: UserWarning: The parameter 'pretrained' is deprecated since 0.13 and may be removed in the future, please use 'weights' instead.\n",
      "  warnings.warn(\n",
      "C:\\Users\\HP\\AppData\\Local\\Packages\\PythonSoftwareFoundation.Python.3.10_qbz5n2kfra8p0\\LocalCache\\local-packages\\Python310\\site-packages\\torchvision\\models\\_utils.py:223: UserWarning: Arguments other than a weight enum or `None` for 'weights' are deprecated since 0.13 and may be removed in the future. The current behavior is equivalent to passing `weights=ResNet50_Weights.IMAGENET1K_V1`. You can also use `weights=ResNet50_Weights.DEFAULT` to get the most up-to-date weights.\n",
      "  warnings.warn(msg)\n"
     ]
    },
    {
     "name": "stdout",
     "output_type": "stream",
     "text": [
      "Class weights: tensor([1., 1., 1.])\n",
      "\n",
      "Epoch 1/50 - Training\n"
     ]
    },
    {
     "name": "stderr",
     "output_type": "stream",
     "text": [
      "Training Batches:   4%|▍         | 4/91 [00:04<01:41,  1.17s/it]C:\\Users\\HP\\AppData\\Local\\Packages\\PythonSoftwareFoundation.Python.3.10_qbz5n2kfra8p0\\LocalCache\\local-packages\\Python310\\site-packages\\torchmetrics\\utilities\\prints.py:43: UserWarning: No positive samples in targets, true positive value should be meaningless. Returning zero tensor in true positive score\n",
      "  warnings.warn(*args, **kwargs)\n",
      "Training Batches:  79%|███████▉  | 72/91 [01:33<00:26,  1.39s/it]C:\\Users\\HP\\AppData\\Local\\Packages\\PythonSoftwareFoundation.Python.3.10_qbz5n2kfra8p0\\LocalCache\\local-packages\\Python310\\site-packages\\torchmetrics\\utilities\\prints.py:43: UserWarning: No negative samples in targets, false positive value should be meaningless. Returning zero tensor in false positive score\n",
      "  warnings.warn(*args, **kwargs)\n",
      "Training Batches: 100%|██████████| 91/91 [01:58<00:00,  1.30s/it]\n"
     ]
    },
    {
     "name": "stdout",
     "output_type": "stream",
     "text": [
      "\n",
      "Epoch 1/50 - Validation\n"
     ]
    },
    {
     "name": "stderr",
     "output_type": "stream",
     "text": [
      "Validation Batches: 100%|██████████| 31/31 [00:12<00:00,  2.42it/s]\n"
     ]
    },
    {
     "name": "stdout",
     "output_type": "stream",
     "text": [
      "\n",
      "Epoch 1 Summary:\n",
      "Train - Loss: 1.1060, Acc: 0.3683, F1: 0.2986, AUC: 0.5526\n",
      "Val   - Loss: 1.0499, Acc: 0.4504, F1: 0.3383, AUC: 0.6483\n",
      "Saved model: epoch_1_multimodal_mri.pth\n",
      "New best model saved with Val F1: 0.3383\n",
      "Current learning rate: 0.000100\n",
      "\n",
      "Epoch 2/50 - Training\n"
     ]
    },
    {
     "name": "stderr",
     "output_type": "stream",
     "text": [
      "Training Batches: 100%|██████████| 91/91 [03:05<00:00,  2.04s/it]\n"
     ]
    },
    {
     "name": "stdout",
     "output_type": "stream",
     "text": [
      "\n",
      "Epoch 2/50 - Validation\n"
     ]
    },
    {
     "name": "stderr",
     "output_type": "stream",
     "text": [
      "Validation Batches: 100%|██████████| 31/31 [00:27<00:00,  1.13it/s]\n"
     ]
    },
    {
     "name": "stdout",
     "output_type": "stream",
     "text": [
      "\n",
      "Epoch 2 Summary:\n",
      "Train - Loss: 1.0388, Acc: 0.4566, F1: 0.4191, AUC: 0.6563\n",
      "Val   - Loss: 1.0191, Acc: 0.4835, F1: 0.3930, AUC: 0.6528\n",
      "Saved model: epoch_2_multimodal_mri.pth\n",
      "New best model saved with Val F1: 0.3930\n",
      "Current learning rate: 0.000100\n",
      "\n",
      "Epoch 3/50 - Training\n"
     ]
    },
    {
     "name": "stderr",
     "output_type": "stream",
     "text": [
      "Training Batches: 100%|██████████| 91/91 [04:16<00:00,  2.82s/it]\n"
     ]
    },
    {
     "name": "stdout",
     "output_type": "stream",
     "text": [
      "\n",
      "Epoch 3/50 - Validation\n"
     ]
    },
    {
     "name": "stderr",
     "output_type": "stream",
     "text": [
      "Validation Batches: 100%|██████████| 31/31 [00:16<00:00,  1.90it/s]\n"
     ]
    },
    {
     "name": "stdout",
     "output_type": "stream",
     "text": [
      "\n",
      "Epoch 3 Summary:\n",
      "Train - Loss: 1.0194, Acc: 0.4979, F1: 0.4580, AUC: 0.6601\n",
      "Val   - Loss: 1.1214, Acc: 0.4587, F1: 0.3671, AUC: 0.6763\n",
      "Saved model: epoch_3_multimodal_mri.pth\n",
      "Current learning rate: 0.000100\n",
      "\n",
      "Epoch 4/50 - Training\n"
     ]
    },
    {
     "name": "stderr",
     "output_type": "stream",
     "text": [
      "Training Batches: 100%|██████████| 91/91 [02:14<00:00,  1.48s/it]\n"
     ]
    },
    {
     "name": "stdout",
     "output_type": "stream",
     "text": [
      "\n",
      "Epoch 4/50 - Validation\n"
     ]
    },
    {
     "name": "stderr",
     "output_type": "stream",
     "text": [
      "Validation Batches: 100%|██████████| 31/31 [00:13<00:00,  2.28it/s]\n"
     ]
    },
    {
     "name": "stdout",
     "output_type": "stream",
     "text": [
      "\n",
      "Epoch 4 Summary:\n",
      "Train - Loss: 0.9261, Acc: 0.5600, F1: 0.5316, AUC: 0.7348\n",
      "Val   - Loss: 1.0800, Acc: 0.4876, F1: 0.4175, AUC: 0.6798\n",
      "Saved model: epoch_4_multimodal_mri.pth\n",
      "New best model saved with Val F1: 0.4175\n",
      "Current learning rate: 0.000100\n",
      "\n",
      "Epoch 5/50 - Training\n"
     ]
    },
    {
     "name": "stderr",
     "output_type": "stream",
     "text": [
      "Training Batches: 100%|██████████| 91/91 [02:23<00:00,  1.57s/it]\n"
     ]
    },
    {
     "name": "stdout",
     "output_type": "stream",
     "text": [
      "\n",
      "Epoch 5/50 - Validation\n"
     ]
    },
    {
     "name": "stderr",
     "output_type": "stream",
     "text": [
      "Validation Batches: 100%|██████████| 31/31 [00:13<00:00,  2.28it/s]\n"
     ]
    },
    {
     "name": "stdout",
     "output_type": "stream",
     "text": [
      "\n",
      "Epoch 5 Summary:\n",
      "Train - Loss: 0.8716, Acc: 0.5766, F1: 0.5461, AUC: 0.7693\n",
      "Val   - Loss: 0.8469, Acc: 0.5868, F1: 0.5288, AUC: 0.7348\n",
      "Saved model: epoch_5_multimodal_mri.pth\n",
      "New best model saved with Val F1: 0.5288\n",
      "Current learning rate: 0.000100\n",
      "\n",
      "Epoch 6/50 - Training\n"
     ]
    },
    {
     "name": "stderr",
     "output_type": "stream",
     "text": [
      "Training Batches: 100%|██████████| 91/91 [02:37<00:00,  1.73s/it]\n"
     ]
    },
    {
     "name": "stdout",
     "output_type": "stream",
     "text": [
      "\n",
      "Epoch 6/50 - Validation\n"
     ]
    },
    {
     "name": "stderr",
     "output_type": "stream",
     "text": [
      "Validation Batches: 100%|██████████| 31/31 [00:15<00:00,  2.01it/s]\n"
     ]
    },
    {
     "name": "stdout",
     "output_type": "stream",
     "text": [
      "\n",
      "Epoch 6 Summary:\n",
      "Train - Loss: 0.7956, Acc: 0.6428, F1: 0.6176, AUC: 0.8239\n",
      "Val   - Loss: 1.0058, Acc: 0.5413, F1: 0.4630, AUC: 0.7188\n",
      "Saved model: epoch_6_multimodal_mri.pth\n",
      "Current learning rate: 0.000100\n",
      "\n",
      "Epoch 7/50 - Training\n"
     ]
    },
    {
     "name": "stderr",
     "output_type": "stream",
     "text": [
      "Training Batches: 100%|██████████| 91/91 [02:36<00:00,  1.72s/it]\n"
     ]
    },
    {
     "name": "stdout",
     "output_type": "stream",
     "text": [
      "\n",
      "Epoch 7/50 - Validation\n"
     ]
    },
    {
     "name": "stderr",
     "output_type": "stream",
     "text": [
      "Validation Batches: 100%|██████████| 31/31 [00:14<00:00,  2.08it/s]\n"
     ]
    },
    {
     "name": "stdout",
     "output_type": "stream",
     "text": [
      "\n",
      "Epoch 7 Summary:\n",
      "Train - Loss: 0.7615, Acc: 0.6731, F1: 0.6423, AUC: 0.8336\n",
      "Val   - Loss: 0.7343, Acc: 0.6901, F1: 0.6511, AUC: 0.7892\n",
      "Saved model: epoch_7_multimodal_mri.pth\n",
      "New best model saved with Val F1: 0.6511\n",
      "Current learning rate: 0.000100\n",
      "\n",
      "Epoch 8/50 - Training\n"
     ]
    },
    {
     "name": "stderr",
     "output_type": "stream",
     "text": [
      "Training Batches: 100%|██████████| 91/91 [02:26<00:00,  1.61s/it]\n"
     ]
    },
    {
     "name": "stdout",
     "output_type": "stream",
     "text": [
      "\n",
      "Epoch 8/50 - Validation\n"
     ]
    },
    {
     "name": "stderr",
     "output_type": "stream",
     "text": [
      "Validation Batches: 100%|██████████| 31/31 [00:13<00:00,  2.28it/s]\n"
     ]
    },
    {
     "name": "stdout",
     "output_type": "stream",
     "text": [
      "\n",
      "Epoch 8 Summary:\n",
      "Train - Loss: 0.7160, Acc: 0.6869, F1: 0.6578, AUC: 0.8530\n",
      "Val   - Loss: 0.7973, Acc: 0.6488, F1: 0.5849, AUC: 0.8038\n",
      "Saved model: epoch_8_multimodal_mri.pth\n",
      "Current learning rate: 0.000100\n",
      "\n",
      "Epoch 9/50 - Training\n"
     ]
    },
    {
     "name": "stderr",
     "output_type": "stream",
     "text": [
      "Training Batches: 100%|██████████| 91/91 [02:26<00:00,  1.61s/it]\n"
     ]
    },
    {
     "name": "stdout",
     "output_type": "stream",
     "text": [
      "\n",
      "Epoch 9/50 - Validation\n"
     ]
    },
    {
     "name": "stderr",
     "output_type": "stream",
     "text": [
      "Validation Batches: 100%|██████████| 31/31 [00:13<00:00,  2.34it/s]\n"
     ]
    },
    {
     "name": "stdout",
     "output_type": "stream",
     "text": [
      "\n",
      "Epoch 9 Summary:\n",
      "Train - Loss: 0.6124, Acc: 0.7366, F1: 0.7072, AUC: 0.8903\n",
      "Val   - Loss: 0.8572, Acc: 0.6488, F1: 0.5944, AUC: 0.8061\n",
      "Saved model: epoch_9_multimodal_mri.pth\n",
      "Current learning rate: 0.000100\n",
      "\n",
      "Epoch 10/50 - Training\n"
     ]
    },
    {
     "name": "stderr",
     "output_type": "stream",
     "text": [
      "Training Batches: 100%|██████████| 91/91 [02:23<00:00,  1.58s/it]\n"
     ]
    },
    {
     "name": "stdout",
     "output_type": "stream",
     "text": [
      "\n",
      "Epoch 10/50 - Validation\n"
     ]
    },
    {
     "name": "stderr",
     "output_type": "stream",
     "text": [
      "Validation Batches: 100%|██████████| 31/31 [00:14<00:00,  2.14it/s]\n"
     ]
    },
    {
     "name": "stdout",
     "output_type": "stream",
     "text": [
      "\n",
      "Epoch 10 Summary:\n",
      "Train - Loss: 0.6045, Acc: 0.7366, F1: 0.7068, AUC: 0.8854\n",
      "Val   - Loss: 0.7818, Acc: 0.6942, F1: 0.6481, AUC: 0.8330\n",
      "Saved model: epoch_10_multimodal_mri.pth\n",
      "Current learning rate: 0.000100\n",
      "\n",
      "Epoch 11/50 - Training\n"
     ]
    },
    {
     "name": "stderr",
     "output_type": "stream",
     "text": [
      "Training Batches: 100%|██████████| 91/91 [02:33<00:00,  1.69s/it]\n"
     ]
    },
    {
     "name": "stdout",
     "output_type": "stream",
     "text": [
      "\n",
      "Epoch 11/50 - Validation\n"
     ]
    },
    {
     "name": "stderr",
     "output_type": "stream",
     "text": [
      "Validation Batches: 100%|██████████| 31/31 [00:27<00:00,  1.15it/s]\n"
     ]
    },
    {
     "name": "stdout",
     "output_type": "stream",
     "text": [
      "\n",
      "Epoch 11 Summary:\n",
      "Train - Loss: 0.5311, Acc: 0.7862, F1: 0.7611, AUC: 0.9160\n",
      "Val   - Loss: 0.7973, Acc: 0.7107, F1: 0.6706, AUC: 0.8225\n",
      "Saved model: epoch_11_multimodal_mri.pth\n",
      "New best model saved with Val F1: 0.6706\n",
      "Current learning rate: 0.000100\n",
      "\n",
      "Epoch 12/50 - Training\n"
     ]
    },
    {
     "name": "stderr",
     "output_type": "stream",
     "text": [
      "Training Batches: 100%|██████████| 91/91 [05:30<00:00,  3.63s/it]\n"
     ]
    },
    {
     "name": "stdout",
     "output_type": "stream",
     "text": [
      "\n",
      "Epoch 12/50 - Validation\n"
     ]
    },
    {
     "name": "stderr",
     "output_type": "stream",
     "text": [
      "Validation Batches: 100%|██████████| 31/31 [00:35<00:00,  1.15s/it]\n"
     ]
    },
    {
     "name": "stdout",
     "output_type": "stream",
     "text": [
      "\n",
      "Epoch 12 Summary:\n",
      "Train - Loss: 0.5262, Acc: 0.7890, F1: 0.7526, AUC: 0.8848\n",
      "Val   - Loss: 0.6924, Acc: 0.7397, F1: 0.6815, AUC: 0.8526\n",
      "Saved model: epoch_12_multimodal_mri.pth\n",
      "New best model saved with Val F1: 0.6815\n",
      "Current learning rate: 0.000100\n",
      "\n",
      "Epoch 13/50 - Training\n"
     ]
    },
    {
     "name": "stderr",
     "output_type": "stream",
     "text": [
      "Training Batches: 100%|██████████| 91/91 [02:47<00:00,  1.84s/it]\n"
     ]
    },
    {
     "name": "stdout",
     "output_type": "stream",
     "text": [
      "\n",
      "Epoch 13/50 - Validation\n"
     ]
    },
    {
     "name": "stderr",
     "output_type": "stream",
     "text": [
      "Validation Batches: 100%|██████████| 31/31 [00:15<00:00,  2.03it/s]\n"
     ]
    },
    {
     "name": "stdout",
     "output_type": "stream",
     "text": [
      "\n",
      "Epoch 13 Summary:\n",
      "Train - Loss: 0.4687, Acc: 0.8372, F1: 0.8075, AUC: 0.9278\n",
      "Val   - Loss: 0.8061, Acc: 0.6860, F1: 0.6421, AUC: 0.8252\n",
      "Saved model: epoch_13_multimodal_mri.pth\n",
      "Current learning rate: 0.000100\n",
      "\n",
      "Epoch 14/50 - Training\n"
     ]
    },
    {
     "name": "stderr",
     "output_type": "stream",
     "text": [
      "Training Batches: 100%|██████████| 91/91 [03:44<00:00,  2.47s/it]\n"
     ]
    },
    {
     "name": "stdout",
     "output_type": "stream",
     "text": [
      "\n",
      "Epoch 14/50 - Validation\n"
     ]
    },
    {
     "name": "stderr",
     "output_type": "stream",
     "text": [
      "Validation Batches: 100%|██████████| 31/31 [00:42<00:00,  1.37s/it]\n"
     ]
    },
    {
     "name": "stdout",
     "output_type": "stream",
     "text": [
      "\n",
      "Epoch 14 Summary:\n",
      "Train - Loss: 0.3788, Acc: 0.8579, F1: 0.8307, AUC: 0.9445\n",
      "Val   - Loss: 0.6269, Acc: 0.7727, F1: 0.7308, AUC: 0.8508\n",
      "Saved model: epoch_14_multimodal_mri.pth\n",
      "New best model saved with Val F1: 0.7308\n",
      "Current learning rate: 0.000100\n",
      "\n",
      "Epoch 15/50 - Training\n"
     ]
    },
    {
     "name": "stderr",
     "output_type": "stream",
     "text": [
      "Training Batches: 100%|██████████| 91/91 [05:31<00:00,  3.65s/it]\n"
     ]
    },
    {
     "name": "stdout",
     "output_type": "stream",
     "text": [
      "\n",
      "Epoch 15/50 - Validation\n"
     ]
    },
    {
     "name": "stderr",
     "output_type": "stream",
     "text": [
      "Validation Batches: 100%|██████████| 31/31 [00:18<00:00,  1.67it/s]\n"
     ]
    },
    {
     "name": "stdout",
     "output_type": "stream",
     "text": [
      "\n",
      "Epoch 15 Summary:\n",
      "Train - Loss: 0.4180, Acc: 0.8552, F1: 0.8307, AUC: 0.9469\n",
      "Val   - Loss: 0.6923, Acc: 0.7769, F1: 0.7444, AUC: 0.8316\n",
      "Saved model: epoch_15_multimodal_mri.pth\n",
      "New best model saved with Val F1: 0.7444\n",
      "Current learning rate: 0.000100\n",
      "\n",
      "Epoch 16/50 - Training\n"
     ]
    },
    {
     "name": "stderr",
     "output_type": "stream",
     "text": [
      "Training Batches: 100%|██████████| 91/91 [04:28<00:00,  2.95s/it]\n"
     ]
    },
    {
     "name": "stdout",
     "output_type": "stream",
     "text": [
      "\n",
      "Epoch 16/50 - Validation\n"
     ]
    },
    {
     "name": "stderr",
     "output_type": "stream",
     "text": [
      "Validation Batches: 100%|██████████| 31/31 [00:23<00:00,  1.30it/s]\n"
     ]
    },
    {
     "name": "stdout",
     "output_type": "stream",
     "text": [
      "\n",
      "Epoch 16 Summary:\n",
      "Train - Loss: 0.3762, Acc: 0.8538, F1: 0.8291, AUC: 0.9405\n",
      "Val   - Loss: 0.7512, Acc: 0.7521, F1: 0.7097, AUC: 0.8368\n",
      "Saved model: epoch_16_multimodal_mri.pth\n",
      "Current learning rate: 0.000100\n",
      "\n",
      "Epoch 17/50 - Training\n"
     ]
    },
    {
     "name": "stderr",
     "output_type": "stream",
     "text": [
      "Training Batches: 100%|██████████| 91/91 [05:07<00:00,  3.38s/it]\n"
     ]
    },
    {
     "name": "stdout",
     "output_type": "stream",
     "text": [
      "\n",
      "Epoch 17/50 - Validation\n"
     ]
    },
    {
     "name": "stderr",
     "output_type": "stream",
     "text": [
      "Validation Batches: 100%|██████████| 31/31 [00:31<00:00,  1.02s/it]\n"
     ]
    },
    {
     "name": "stdout",
     "output_type": "stream",
     "text": [
      "\n",
      "Epoch 17 Summary:\n",
      "Train - Loss: 0.3392, Acc: 0.8869, F1: 0.8564, AUC: 0.9432\n",
      "Val   - Loss: 0.7004, Acc: 0.7686, F1: 0.7396, AUC: 0.8523\n",
      "Saved model: epoch_17_multimodal_mri.pth\n",
      "Current learning rate: 0.000100\n",
      "\n",
      "Epoch 18/50 - Training\n"
     ]
    },
    {
     "name": "stderr",
     "output_type": "stream",
     "text": [
      "Training Batches: 100%|██████████| 91/91 [05:16<00:00,  3.47s/it]\n"
     ]
    },
    {
     "name": "stdout",
     "output_type": "stream",
     "text": [
      "\n",
      "Epoch 18/50 - Validation\n"
     ]
    },
    {
     "name": "stderr",
     "output_type": "stream",
     "text": [
      "Validation Batches: 100%|██████████| 31/31 [00:29<00:00,  1.04it/s]\n"
     ]
    },
    {
     "name": "stdout",
     "output_type": "stream",
     "text": [
      "\n",
      "Epoch 18 Summary:\n",
      "Train - Loss: 0.3594, Acc: 0.8690, F1: 0.8419, AUC: 0.9456\n",
      "Val   - Loss: 0.7612, Acc: 0.7603, F1: 0.7043, AUC: 0.8609\n",
      "Saved model: epoch_18_multimodal_mri.pth\n",
      "Current learning rate: 0.000100\n",
      "\n",
      "Epoch 19/50 - Training\n"
     ]
    },
    {
     "name": "stderr",
     "output_type": "stream",
     "text": [
      "Training Batches: 100%|██████████| 91/91 [05:02<00:00,  3.32s/it]\n"
     ]
    },
    {
     "name": "stdout",
     "output_type": "stream",
     "text": [
      "\n",
      "Epoch 19/50 - Validation\n"
     ]
    },
    {
     "name": "stderr",
     "output_type": "stream",
     "text": [
      "Validation Batches: 100%|██████████| 31/31 [00:30<00:00,  1.03it/s]\n"
     ]
    },
    {
     "name": "stdout",
     "output_type": "stream",
     "text": [
      "\n",
      "Epoch 19 Summary:\n",
      "Train - Loss: 0.2935, Acc: 0.8910, F1: 0.8575, AUC: 0.9429\n",
      "Val   - Loss: 0.5451, Acc: 0.8182, F1: 0.7840, AUC: 0.8539\n",
      "Saved model: epoch_19_multimodal_mri.pth\n",
      "New best model saved with Val F1: 0.7840\n",
      "Current learning rate: 0.000100\n",
      "\n",
      "Epoch 20/50 - Training\n"
     ]
    },
    {
     "name": "stderr",
     "output_type": "stream",
     "text": [
      "Training Batches: 100%|██████████| 91/91 [05:05<00:00,  3.36s/it]\n"
     ]
    },
    {
     "name": "stdout",
     "output_type": "stream",
     "text": [
      "\n",
      "Epoch 20/50 - Validation\n"
     ]
    },
    {
     "name": "stderr",
     "output_type": "stream",
     "text": [
      "Validation Batches: 100%|██████████| 31/31 [00:30<00:00,  1.01it/s]\n"
     ]
    },
    {
     "name": "stdout",
     "output_type": "stream",
     "text": [
      "\n",
      "Epoch 20 Summary:\n",
      "Train - Loss: 0.3151, Acc: 0.8869, F1: 0.8490, AUC: 0.9299\n",
      "Val   - Loss: 0.6037, Acc: 0.7810, F1: 0.7390, AUC: 0.8700\n",
      "Saved model: epoch_20_multimodal_mri.pth\n",
      "Current learning rate: 0.000100\n",
      "\n",
      "Epoch 21/50 - Training\n"
     ]
    },
    {
     "name": "stderr",
     "output_type": "stream",
     "text": [
      "Training Batches: 100%|██████████| 91/91 [05:04<00:00,  3.35s/it]\n"
     ]
    },
    {
     "name": "stdout",
     "output_type": "stream",
     "text": [
      "\n",
      "Epoch 21/50 - Validation\n"
     ]
    },
    {
     "name": "stderr",
     "output_type": "stream",
     "text": [
      "Validation Batches: 100%|██████████| 31/31 [00:30<00:00,  1.02it/s]\n"
     ]
    },
    {
     "name": "stdout",
     "output_type": "stream",
     "text": [
      "\n",
      "Epoch 21 Summary:\n",
      "Train - Loss: 0.2814, Acc: 0.8979, F1: 0.8814, AUC: 0.9591\n",
      "Val   - Loss: 0.7624, Acc: 0.7975, F1: 0.7541, AUC: 0.8480\n",
      "Saved model: epoch_21_multimodal_mri.pth\n",
      "Current learning rate: 0.000100\n",
      "\n",
      "Epoch 22/50 - Training\n"
     ]
    },
    {
     "name": "stderr",
     "output_type": "stream",
     "text": [
      "Training Batches: 100%|██████████| 91/91 [05:06<00:00,  3.37s/it]\n"
     ]
    },
    {
     "name": "stdout",
     "output_type": "stream",
     "text": [
      "\n",
      "Epoch 22/50 - Validation\n"
     ]
    },
    {
     "name": "stderr",
     "output_type": "stream",
     "text": [
      "Validation Batches: 100%|██████████| 31/31 [00:31<00:00,  1.00s/it]\n"
     ]
    },
    {
     "name": "stdout",
     "output_type": "stream",
     "text": [
      "\n",
      "Epoch 22 Summary:\n",
      "Train - Loss: 0.2514, Acc: 0.9214, F1: 0.8978, AUC: 0.9594\n",
      "Val   - Loss: 0.6169, Acc: 0.7851, F1: 0.7307, AUC: 0.8657\n",
      "Saved model: epoch_22_multimodal_mri.pth\n",
      "Current learning rate: 0.000100\n",
      "\n",
      "Epoch 23/50 - Training\n"
     ]
    },
    {
     "name": "stderr",
     "output_type": "stream",
     "text": [
      "Training Batches: 100%|██████████| 91/91 [05:10<00:00,  3.41s/it]\n"
     ]
    },
    {
     "name": "stdout",
     "output_type": "stream",
     "text": [
      "\n",
      "Epoch 23/50 - Validation\n"
     ]
    },
    {
     "name": "stderr",
     "output_type": "stream",
     "text": [
      "Validation Batches: 100%|██████████| 31/31 [00:32<00:00,  1.04s/it]\n"
     ]
    },
    {
     "name": "stdout",
     "output_type": "stream",
     "text": [
      "\n",
      "Epoch 23 Summary:\n",
      "Train - Loss: 0.2302, Acc: 0.9200, F1: 0.8993, AUC: 0.9579\n",
      "Val   - Loss: 0.5541, Acc: 0.8182, F1: 0.7821, AUC: 0.8786\n",
      "Saved model: epoch_23_multimodal_mri.pth\n",
      "Current learning rate: 0.000100\n",
      "\n",
      "Epoch 24/50 - Training\n"
     ]
    },
    {
     "name": "stderr",
     "output_type": "stream",
     "text": [
      "Training Batches: 100%|██████████| 91/91 [05:12<00:00,  3.44s/it]\n"
     ]
    },
    {
     "name": "stdout",
     "output_type": "stream",
     "text": [
      "\n",
      "Epoch 24/50 - Validation\n"
     ]
    },
    {
     "name": "stderr",
     "output_type": "stream",
     "text": [
      "Validation Batches: 100%|██████████| 31/31 [00:32<00:00,  1.04s/it]\n"
     ]
    },
    {
     "name": "stdout",
     "output_type": "stream",
     "text": [
      "\n",
      "Epoch 24 Summary:\n",
      "Train - Loss: 0.1989, Acc: 0.9352, F1: 0.9136, AUC: 0.9567\n",
      "Val   - Loss: 0.7200, Acc: 0.7851, F1: 0.7407, AUC: 0.8548\n",
      "Saved model: epoch_24_multimodal_mri.pth\n",
      "Current learning rate: 0.000100\n",
      "\n",
      "Epoch 25/50 - Training\n"
     ]
    },
    {
     "name": "stderr",
     "output_type": "stream",
     "text": [
      "Training Batches: 100%|██████████| 91/91 [08:45<00:00,  5.78s/it]\n"
     ]
    },
    {
     "name": "stdout",
     "output_type": "stream",
     "text": [
      "\n",
      "Epoch 25/50 - Validation\n"
     ]
    },
    {
     "name": "stderr",
     "output_type": "stream",
     "text": [
      "Validation Batches: 100%|██████████| 31/31 [00:31<00:00,  1.01s/it]\n"
     ]
    },
    {
     "name": "stdout",
     "output_type": "stream",
     "text": [
      "\n",
      "Epoch 25 Summary:\n",
      "Train - Loss: 0.2449, Acc: 0.9145, F1: 0.8937, AUC: 0.9489\n",
      "Val   - Loss: 0.6786, Acc: 0.7934, F1: 0.7641, AUC: 0.8608\n",
      "Saved model: epoch_25_multimodal_mri.pth\n",
      "Current learning rate: 0.000010\n",
      "\n",
      "Epoch 26/50 - Training\n"
     ]
    },
    {
     "name": "stderr",
     "output_type": "stream",
     "text": [
      "Training Batches: 100%|██████████| 91/91 [05:08<00:00,  3.40s/it]\n"
     ]
    },
    {
     "name": "stdout",
     "output_type": "stream",
     "text": [
      "\n",
      "Epoch 26/50 - Validation\n"
     ]
    },
    {
     "name": "stderr",
     "output_type": "stream",
     "text": [
      "Validation Batches: 100%|██████████| 31/31 [00:30<00:00,  1.00it/s]\n"
     ]
    },
    {
     "name": "stdout",
     "output_type": "stream",
     "text": [
      "\n",
      "Epoch 26 Summary:\n",
      "Train - Loss: 0.1474, Acc: 0.9503, F1: 0.9225, AUC: 0.9523\n",
      "Val   - Loss: 0.6438, Acc: 0.8099, F1: 0.7812, AUC: 0.8765\n",
      "Saved model: epoch_26_multimodal_mri.pth\n",
      "Current learning rate: 0.000010\n",
      "\n",
      "Epoch 27/50 - Training\n"
     ]
    },
    {
     "name": "stderr",
     "output_type": "stream",
     "text": [
      "Training Batches: 100%|██████████| 91/91 [05:06<00:00,  3.37s/it]\n"
     ]
    },
    {
     "name": "stdout",
     "output_type": "stream",
     "text": [
      "\n",
      "Epoch 27/50 - Validation\n"
     ]
    },
    {
     "name": "stderr",
     "output_type": "stream",
     "text": [
      "Validation Batches: 100%|██████████| 31/31 [00:31<00:00,  1.00s/it]\n"
     ]
    },
    {
     "name": "stdout",
     "output_type": "stream",
     "text": [
      "\n",
      "Epoch 27 Summary:\n",
      "Train - Loss: 0.1705, Acc: 0.9503, F1: 0.9236, AUC: 0.9501\n",
      "Val   - Loss: 0.6274, Acc: 0.8140, F1: 0.7885, AUC: 0.8732\n",
      "Saved model: epoch_27_multimodal_mri.pth\n",
      "New best model saved with Val F1: 0.7885\n",
      "Current learning rate: 0.000010\n",
      "\n",
      "Epoch 28/50 - Training\n"
     ]
    },
    {
     "name": "stderr",
     "output_type": "stream",
     "text": [
      "Training Batches: 100%|██████████| 91/91 [05:07<00:00,  3.38s/it]\n"
     ]
    },
    {
     "name": "stdout",
     "output_type": "stream",
     "text": [
      "\n",
      "Epoch 28/50 - Validation\n"
     ]
    },
    {
     "name": "stderr",
     "output_type": "stream",
     "text": [
      "Validation Batches: 100%|██████████| 31/31 [00:31<00:00,  1.01s/it]\n"
     ]
    },
    {
     "name": "stdout",
     "output_type": "stream",
     "text": [
      "\n",
      "Epoch 28 Summary:\n",
      "Train - Loss: 0.1291, Acc: 0.9628, F1: 0.9465, AUC: 0.9556\n",
      "Val   - Loss: 0.6113, Acc: 0.8182, F1: 0.7813, AUC: 0.8747\n",
      "Saved model: epoch_28_multimodal_mri.pth\n",
      "Current learning rate: 0.000010\n",
      "\n",
      "Epoch 29/50 - Training\n"
     ]
    },
    {
     "name": "stderr",
     "output_type": "stream",
     "text": [
      "Training Batches: 100%|██████████| 91/91 [05:07<00:00,  3.37s/it]\n"
     ]
    },
    {
     "name": "stdout",
     "output_type": "stream",
     "text": [
      "\n",
      "Epoch 29/50 - Validation\n"
     ]
    },
    {
     "name": "stderr",
     "output_type": "stream",
     "text": [
      "Validation Batches: 100%|██████████| 31/31 [00:31<00:00,  1.01s/it]\n"
     ]
    },
    {
     "name": "stdout",
     "output_type": "stream",
     "text": [
      "\n",
      "Epoch 29 Summary:\n",
      "Train - Loss: 0.1269, Acc: 0.9641, F1: 0.9441, AUC: 0.9619\n",
      "Val   - Loss: 0.6115, Acc: 0.8306, F1: 0.7998, AUC: 0.8713\n",
      "Saved model: epoch_29_multimodal_mri.pth\n",
      "New best model saved with Val F1: 0.7998\n",
      "Current learning rate: 0.000010\n",
      "\n",
      "Epoch 30/50 - Training\n"
     ]
    },
    {
     "name": "stderr",
     "output_type": "stream",
     "text": [
      "Training Batches: 100%|██████████| 91/91 [05:08<00:00,  3.39s/it]\n"
     ]
    },
    {
     "name": "stdout",
     "output_type": "stream",
     "text": [
      "\n",
      "Epoch 30/50 - Validation\n"
     ]
    },
    {
     "name": "stderr",
     "output_type": "stream",
     "text": [
      "Validation Batches: 100%|██████████| 31/31 [00:31<00:00,  1.02s/it]\n"
     ]
    },
    {
     "name": "stdout",
     "output_type": "stream",
     "text": [
      "\n",
      "Epoch 30 Summary:\n",
      "Train - Loss: 0.1032, Acc: 0.9669, F1: 0.9476, AUC: 0.9663\n",
      "Val   - Loss: 0.6254, Acc: 0.8306, F1: 0.7940, AUC: 0.8757\n",
      "Saved model: epoch_30_multimodal_mri.pth\n",
      "Current learning rate: 0.000010\n",
      "\n",
      "Epoch 31/50 - Training\n"
     ]
    },
    {
     "name": "stderr",
     "output_type": "stream",
     "text": [
      "Training Batches: 100%|██████████| 91/91 [05:09<00:00,  3.40s/it]\n"
     ]
    },
    {
     "name": "stdout",
     "output_type": "stream",
     "text": [
      "\n",
      "Epoch 31/50 - Validation\n"
     ]
    },
    {
     "name": "stderr",
     "output_type": "stream",
     "text": [
      "Validation Batches: 100%|██████████| 31/31 [00:31<00:00,  1.01s/it]\n"
     ]
    },
    {
     "name": "stdout",
     "output_type": "stream",
     "text": [
      "\n",
      "Epoch 31 Summary:\n",
      "Train - Loss: 0.0917, Acc: 0.9752, F1: 0.9623, AUC: 0.9638\n",
      "Val   - Loss: 0.6097, Acc: 0.8306, F1: 0.8006, AUC: 0.8756\n",
      "Saved model: epoch_31_multimodal_mri.pth\n",
      "New best model saved with Val F1: 0.8006\n",
      "Current learning rate: 0.000010\n",
      "\n",
      "Epoch 32/50 - Training\n"
     ]
    },
    {
     "name": "stderr",
     "output_type": "stream",
     "text": [
      "Training Batches: 100%|██████████| 91/91 [05:17<00:00,  3.49s/it]\n"
     ]
    },
    {
     "name": "stdout",
     "output_type": "stream",
     "text": [
      "\n",
      "Epoch 32/50 - Validation\n"
     ]
    },
    {
     "name": "stderr",
     "output_type": "stream",
     "text": [
      "Validation Batches: 100%|██████████| 31/31 [00:31<00:00,  1.02s/it]\n"
     ]
    },
    {
     "name": "stdout",
     "output_type": "stream",
     "text": [
      "\n",
      "Epoch 32 Summary:\n",
      "Train - Loss: 0.0876, Acc: 0.9752, F1: 0.9573, AUC: 0.9530\n",
      "Val   - Loss: 0.6352, Acc: 0.8182, F1: 0.7724, AUC: 0.8755\n",
      "Saved model: epoch_32_multimodal_mri.pth\n",
      "Current learning rate: 0.000010\n",
      "\n",
      "Epoch 33/50 - Training\n"
     ]
    },
    {
     "name": "stderr",
     "output_type": "stream",
     "text": [
      "Training Batches: 100%|██████████| 91/91 [05:09<00:00,  3.40s/it]\n"
     ]
    },
    {
     "name": "stdout",
     "output_type": "stream",
     "text": [
      "\n",
      "Epoch 33/50 - Validation\n"
     ]
    },
    {
     "name": "stderr",
     "output_type": "stream",
     "text": [
      "Validation Batches: 100%|██████████| 31/31 [00:29<00:00,  1.06it/s]\n"
     ]
    },
    {
     "name": "stdout",
     "output_type": "stream",
     "text": [
      "\n",
      "Epoch 33 Summary:\n",
      "Train - Loss: 0.1017, Acc: 0.9710, F1: 0.9547, AUC: 0.9498\n",
      "Val   - Loss: 0.6169, Acc: 0.8306, F1: 0.7946, AUC: 0.8794\n",
      "Saved model: epoch_33_multimodal_mri.pth\n",
      "Current learning rate: 0.000010\n",
      "\n",
      "Epoch 34/50 - Training\n"
     ]
    },
    {
     "name": "stderr",
     "output_type": "stream",
     "text": [
      "Training Batches: 100%|██████████| 91/91 [04:54<00:00,  3.24s/it]\n"
     ]
    },
    {
     "name": "stdout",
     "output_type": "stream",
     "text": [
      "\n",
      "Epoch 34/50 - Validation\n"
     ]
    },
    {
     "name": "stderr",
     "output_type": "stream",
     "text": [
      "Validation Batches: 100%|██████████| 31/31 [00:29<00:00,  1.07it/s]\n"
     ]
    },
    {
     "name": "stdout",
     "output_type": "stream",
     "text": [
      "\n",
      "Epoch 34 Summary:\n",
      "Train - Loss: 0.1010, Acc: 0.9738, F1: 0.9647, AUC: 0.9604\n",
      "Val   - Loss: 0.6064, Acc: 0.8595, F1: 0.8318, AUC: 0.8755\n",
      "Saved model: epoch_34_multimodal_mri.pth\n",
      "New best model saved with Val F1: 0.8318\n",
      "Current learning rate: 0.000010\n",
      "\n",
      "Epoch 35/50 - Training\n"
     ]
    },
    {
     "name": "stderr",
     "output_type": "stream",
     "text": [
      "Training Batches: 100%|██████████| 91/91 [05:13<00:00,  3.45s/it]\n"
     ]
    },
    {
     "name": "stdout",
     "output_type": "stream",
     "text": [
      "\n",
      "Epoch 35/50 - Validation\n"
     ]
    },
    {
     "name": "stderr",
     "output_type": "stream",
     "text": [
      "Validation Batches: 100%|██████████| 31/31 [00:32<00:00,  1.04s/it]\n"
     ]
    },
    {
     "name": "stdout",
     "output_type": "stream",
     "text": [
      "\n",
      "Epoch 35 Summary:\n",
      "Train - Loss: 0.0712, Acc: 0.9807, F1: 0.9721, AUC: 0.9669\n",
      "Val   - Loss: 0.6004, Acc: 0.8430, F1: 0.8119, AUC: 0.8785\n",
      "Saved model: epoch_35_multimodal_mri.pth\n",
      "Current learning rate: 0.000010\n",
      "\n",
      "Epoch 36/50 - Training\n"
     ]
    },
    {
     "name": "stderr",
     "output_type": "stream",
     "text": [
      "Training Batches: 100%|██████████| 91/91 [05:20<00:00,  3.52s/it]\n"
     ]
    },
    {
     "name": "stdout",
     "output_type": "stream",
     "text": [
      "\n",
      "Epoch 36/50 - Validation\n"
     ]
    },
    {
     "name": "stderr",
     "output_type": "stream",
     "text": [
      "Validation Batches: 100%|██████████| 31/31 [00:32<00:00,  1.04s/it]\n"
     ]
    },
    {
     "name": "stdout",
     "output_type": "stream",
     "text": [
      "\n",
      "Epoch 36 Summary:\n",
      "Train - Loss: 0.0724, Acc: 0.9807, F1: 0.9721, AUC: 0.9756\n",
      "Val   - Loss: 0.6189, Acc: 0.8264, F1: 0.7840, AUC: 0.8809\n",
      "Saved model: epoch_36_multimodal_mri.pth\n",
      "Current learning rate: 0.000010\n",
      "\n",
      "Epoch 37/50 - Training\n"
     ]
    },
    {
     "name": "stderr",
     "output_type": "stream",
     "text": [
      "Training Batches: 100%|██████████| 91/91 [05:26<00:00,  3.58s/it]\n"
     ]
    },
    {
     "name": "stdout",
     "output_type": "stream",
     "text": [
      "\n",
      "Epoch 37/50 - Validation\n"
     ]
    },
    {
     "name": "stderr",
     "output_type": "stream",
     "text": [
      "Validation Batches: 100%|██████████| 31/31 [00:32<00:00,  1.05s/it]\n"
     ]
    },
    {
     "name": "stdout",
     "output_type": "stream",
     "text": [
      "\n",
      "Epoch 37 Summary:\n",
      "Train - Loss: 0.0910, Acc: 0.9683, F1: 0.9596, AUC: 0.9663\n",
      "Val   - Loss: 0.6120, Acc: 0.8471, F1: 0.8021, AUC: 0.8818\n",
      "Saved model: epoch_37_multimodal_mri.pth\n",
      "Current learning rate: 0.000010\n",
      "\n",
      "Epoch 38/50 - Training\n"
     ]
    },
    {
     "name": "stderr",
     "output_type": "stream",
     "text": [
      "Training Batches: 100%|██████████| 91/91 [05:23<00:00,  3.55s/it]\n"
     ]
    },
    {
     "name": "stdout",
     "output_type": "stream",
     "text": [
      "\n",
      "Epoch 38/50 - Validation\n"
     ]
    },
    {
     "name": "stderr",
     "output_type": "stream",
     "text": [
      "Validation Batches: 100%|██████████| 31/31 [00:32<00:00,  1.06s/it]\n"
     ]
    },
    {
     "name": "stdout",
     "output_type": "stream",
     "text": [
      "\n",
      "Epoch 38 Summary:\n",
      "Train - Loss: 0.0742, Acc: 0.9766, F1: 0.9657, AUC: 0.9685\n",
      "Val   - Loss: 0.6143, Acc: 0.8554, F1: 0.8296, AUC: 0.8763\n",
      "Saved model: epoch_38_multimodal_mri.pth\n",
      "Current learning rate: 0.000010\n",
      "\n",
      "Epoch 39/50 - Training\n"
     ]
    },
    {
     "name": "stderr",
     "output_type": "stream",
     "text": [
      "Training Batches: 100%|██████████| 91/91 [05:23<00:00,  3.56s/it]\n"
     ]
    },
    {
     "name": "stdout",
     "output_type": "stream",
     "text": [
      "\n",
      "Epoch 39/50 - Validation\n"
     ]
    },
    {
     "name": "stderr",
     "output_type": "stream",
     "text": [
      "Validation Batches: 100%|██████████| 31/31 [00:32<00:00,  1.05s/it]\n"
     ]
    },
    {
     "name": "stdout",
     "output_type": "stream",
     "text": [
      "\n",
      "Epoch 39 Summary:\n",
      "Train - Loss: 0.0662, Acc: 0.9807, F1: 0.9702, AUC: 0.9590\n",
      "Val   - Loss: 0.6578, Acc: 0.8140, F1: 0.7844, AUC: 0.8790\n",
      "Saved model: epoch_39_multimodal_mri.pth\n",
      "Current learning rate: 0.000010\n",
      "\n",
      "Epoch 40/50 - Training\n"
     ]
    },
    {
     "name": "stderr",
     "output_type": "stream",
     "text": [
      "Training Batches: 100%|██████████| 91/91 [05:21<00:00,  3.53s/it]\n"
     ]
    },
    {
     "name": "stdout",
     "output_type": "stream",
     "text": [
      "\n",
      "Epoch 40/50 - Validation\n"
     ]
    },
    {
     "name": "stderr",
     "output_type": "stream",
     "text": [
      "Validation Batches: 100%|██████████| 31/31 [00:32<00:00,  1.06s/it]\n"
     ]
    },
    {
     "name": "stdout",
     "output_type": "stream",
     "text": [
      "\n",
      "Epoch 40 Summary:\n",
      "Train - Loss: 0.0532, Acc: 0.9848, F1: 0.9729, AUC: 0.9663\n",
      "Val   - Loss: 0.6395, Acc: 0.8264, F1: 0.7913, AUC: 0.8777\n",
      "Saved model: epoch_40_multimodal_mri.pth\n",
      "Current learning rate: 0.000001\n",
      "\n",
      "Epoch 41/50 - Training\n"
     ]
    },
    {
     "name": "stderr",
     "output_type": "stream",
     "text": [
      "Training Batches: 100%|██████████| 91/91 [05:23<00:00,  3.55s/it]\n"
     ]
    },
    {
     "name": "stdout",
     "output_type": "stream",
     "text": [
      "\n",
      "Epoch 41/50 - Validation\n"
     ]
    },
    {
     "name": "stderr",
     "output_type": "stream",
     "text": [
      "Validation Batches: 100%|██████████| 31/31 [00:32<00:00,  1.06s/it]\n"
     ]
    },
    {
     "name": "stdout",
     "output_type": "stream",
     "text": [
      "\n",
      "Epoch 41 Summary:\n",
      "Train - Loss: 0.0660, Acc: 0.9779, F1: 0.9627, AUC: 0.9667\n",
      "Val   - Loss: 0.6211, Acc: 0.8595, F1: 0.8323, AUC: 0.8771\n",
      "Saved model: epoch_41_multimodal_mri.pth\n",
      "New best model saved with Val F1: 0.8323\n",
      "Current learning rate: 0.000001\n",
      "\n",
      "Epoch 42/50 - Training\n"
     ]
    },
    {
     "name": "stderr",
     "output_type": "stream",
     "text": [
      "Training Batches: 100%|██████████| 91/91 [05:22<00:00,  3.54s/it]\n"
     ]
    },
    {
     "name": "stdout",
     "output_type": "stream",
     "text": [
      "\n",
      "Epoch 42/50 - Validation\n"
     ]
    },
    {
     "name": "stderr",
     "output_type": "stream",
     "text": [
      "Validation Batches: 100%|██████████| 31/31 [00:32<00:00,  1.06s/it]\n"
     ]
    },
    {
     "name": "stdout",
     "output_type": "stream",
     "text": [
      "\n",
      "Epoch 42 Summary:\n",
      "Train - Loss: 0.0446, Acc: 0.9903, F1: 0.9844, AUC: 0.9703\n",
      "Val   - Loss: 0.6455, Acc: 0.8595, F1: 0.8323, AUC: 0.8779\n",
      "Saved model: epoch_42_multimodal_mri.pth\n",
      "Current learning rate: 0.000001\n",
      "\n",
      "Epoch 43/50 - Training\n"
     ]
    },
    {
     "name": "stderr",
     "output_type": "stream",
     "text": [
      "Training Batches: 100%|██████████| 91/91 [05:23<00:00,  3.56s/it]\n"
     ]
    },
    {
     "name": "stdout",
     "output_type": "stream",
     "text": [
      "\n",
      "Epoch 43/50 - Validation\n"
     ]
    },
    {
     "name": "stderr",
     "output_type": "stream",
     "text": [
      "Validation Batches: 100%|██████████| 31/31 [00:32<00:00,  1.06s/it]\n"
     ]
    },
    {
     "name": "stdout",
     "output_type": "stream",
     "text": [
      "\n",
      "Epoch 43 Summary:\n",
      "Train - Loss: 0.0445, Acc: 0.9890, F1: 0.9792, AUC: 0.9706\n",
      "Val   - Loss: 0.6341, Acc: 0.8512, F1: 0.8251, AUC: 0.8779\n",
      "Saved model: epoch_43_multimodal_mri.pth\n",
      "Current learning rate: 0.000001\n",
      "\n",
      "Epoch 44/50 - Training\n"
     ]
    },
    {
     "name": "stderr",
     "output_type": "stream",
     "text": [
      "Training Batches: 100%|██████████| 91/91 [06:56<00:00,  4.57s/it]\n"
     ]
    },
    {
     "name": "stdout",
     "output_type": "stream",
     "text": [
      "\n",
      "Epoch 44/50 - Validation\n"
     ]
    },
    {
     "name": "stderr",
     "output_type": "stream",
     "text": [
      "Validation Batches: 100%|██████████| 31/31 [01:11<00:00,  2.29s/it]\n"
     ]
    },
    {
     "name": "stdout",
     "output_type": "stream",
     "text": [
      "\n",
      "Epoch 44 Summary:\n",
      "Train - Loss: 0.0519, Acc: 0.9862, F1: 0.9806, AUC: 0.9779\n",
      "Val   - Loss: 0.6349, Acc: 0.8347, F1: 0.8087, AUC: 0.8757\n",
      "Saved model: epoch_44_multimodal_mri.pth\n",
      "Current learning rate: 0.000001\n",
      "\n",
      "Epoch 45/50 - Training\n"
     ]
    },
    {
     "name": "stderr",
     "output_type": "stream",
     "text": [
      "Training Batches: 100%|██████████| 91/91 [09:47<00:00,  6.45s/it]\n"
     ]
    },
    {
     "name": "stdout",
     "output_type": "stream",
     "text": [
      "\n",
      "Epoch 45/50 - Validation\n"
     ]
    },
    {
     "name": "stderr",
     "output_type": "stream",
     "text": [
      "Validation Batches: 100%|██████████| 31/31 [00:32<00:00,  1.05s/it]\n"
     ]
    },
    {
     "name": "stdout",
     "output_type": "stream",
     "text": [
      "\n",
      "Epoch 45 Summary:\n",
      "Train - Loss: 0.0802, Acc: 0.9779, F1: 0.9673, AUC: 0.9590\n",
      "Val   - Loss: 0.6320, Acc: 0.8595, F1: 0.8323, AUC: 0.8764\n",
      "Saved model: epoch_45_multimodal_mri.pth\n",
      "Current learning rate: 0.000001\n",
      "\n",
      "Epoch 46/50 - Training\n"
     ]
    },
    {
     "name": "stderr",
     "output_type": "stream",
     "text": [
      "Training Batches: 100%|██████████| 91/91 [05:24<00:00,  3.57s/it]\n"
     ]
    },
    {
     "name": "stdout",
     "output_type": "stream",
     "text": [
      "\n",
      "Epoch 46/50 - Validation\n"
     ]
    },
    {
     "name": "stderr",
     "output_type": "stream",
     "text": [
      "Validation Batches: 100%|██████████| 31/31 [00:34<00:00,  1.12s/it]\n"
     ]
    },
    {
     "name": "stdout",
     "output_type": "stream",
     "text": [
      "\n",
      "Epoch 46 Summary:\n",
      "Train - Loss: 0.0448, Acc: 0.9876, F1: 0.9843, AUC: 0.9779\n",
      "Val   - Loss: 0.6332, Acc: 0.8264, F1: 0.7993, AUC: 0.8786\n",
      "Saved model: epoch_46_multimodal_mri.pth\n",
      "Current learning rate: 0.000001\n",
      "\n",
      "Epoch 47/50 - Training\n"
     ]
    },
    {
     "name": "stderr",
     "output_type": "stream",
     "text": [
      "Training Batches: 100%|██████████| 91/91 [05:18<00:00,  3.50s/it]\n"
     ]
    },
    {
     "name": "stdout",
     "output_type": "stream",
     "text": [
      "\n",
      "Epoch 47/50 - Validation\n"
     ]
    },
    {
     "name": "stderr",
     "output_type": "stream",
     "text": [
      "Validation Batches: 100%|██████████| 31/31 [00:32<00:00,  1.05s/it]\n"
     ]
    },
    {
     "name": "stdout",
     "output_type": "stream",
     "text": [
      "\n",
      "Epoch 47 Summary:\n",
      "Train - Loss: 0.0620, Acc: 0.9807, F1: 0.9657, AUC: 0.9522\n",
      "Val   - Loss: 0.6254, Acc: 0.8347, F1: 0.8072, AUC: 0.8779\n",
      "Saved model: epoch_47_multimodal_mri.pth\n",
      "Current learning rate: 0.000000\n",
      "\n",
      "Epoch 48/50 - Training\n"
     ]
    },
    {
     "name": "stderr",
     "output_type": "stream",
     "text": [
      "Training Batches: 100%|██████████| 91/91 [05:17<00:00,  3.49s/it]\n"
     ]
    },
    {
     "name": "stdout",
     "output_type": "stream",
     "text": [
      "\n",
      "Epoch 48/50 - Validation\n"
     ]
    },
    {
     "name": "stderr",
     "output_type": "stream",
     "text": [
      "Validation Batches: 100%|██████████| 31/31 [00:32<00:00,  1.04s/it]\n"
     ]
    },
    {
     "name": "stdout",
     "output_type": "stream",
     "text": [
      "\n",
      "Epoch 48 Summary:\n",
      "Train - Loss: 0.0617, Acc: 0.9848, F1: 0.9729, AUC: 0.9632\n",
      "Val   - Loss: 0.6112, Acc: 0.8595, F1: 0.8323, AUC: 0.8781\n",
      "Saved model: epoch_48_multimodal_mri.pth\n",
      "Current learning rate: 0.000000\n",
      "\n",
      "Epoch 49/50 - Training\n"
     ]
    },
    {
     "name": "stderr",
     "output_type": "stream",
     "text": [
      "Training Batches: 100%|██████████| 91/91 [05:18<00:00,  3.49s/it]\n"
     ]
    },
    {
     "name": "stdout",
     "output_type": "stream",
     "text": [
      "\n",
      "Epoch 49/50 - Validation\n"
     ]
    },
    {
     "name": "stderr",
     "output_type": "stream",
     "text": [
      "Validation Batches: 100%|██████████| 31/31 [00:32<00:00,  1.03s/it]\n"
     ]
    },
    {
     "name": "stdout",
     "output_type": "stream",
     "text": [
      "\n",
      "Epoch 49 Summary:\n",
      "Train - Loss: 0.0493, Acc: 0.9876, F1: 0.9782, AUC: 0.9595\n",
      "Val   - Loss: 0.6288, Acc: 0.8306, F1: 0.8027, AUC: 0.8793\n",
      "Saved model: epoch_49_multimodal_mri.pth\n",
      "Current learning rate: 0.000000\n",
      "\n",
      "Epoch 50/50 - Training\n"
     ]
    },
    {
     "name": "stderr",
     "output_type": "stream",
     "text": [
      "Training Batches: 100%|██████████| 91/91 [05:23<00:00,  3.55s/it]\n"
     ]
    },
    {
     "name": "stdout",
     "output_type": "stream",
     "text": [
      "\n",
      "Epoch 50/50 - Validation\n"
     ]
    },
    {
     "name": "stderr",
     "output_type": "stream",
     "text": [
      "Validation Batches: 100%|██████████| 31/31 [00:32<00:00,  1.05s/it]\n"
     ]
    },
    {
     "name": "stdout",
     "output_type": "stream",
     "text": [
      "\n",
      "Epoch 50 Summary:\n",
      "Train - Loss: 0.0571, Acc: 0.9807, F1: 0.9686, AUC: 0.9627\n",
      "Val   - Loss: 0.6276, Acc: 0.8471, F1: 0.8204, AUC: 0.8772\n",
      "Saved model: epoch_50_multimodal_mri.pth\n",
      "Current learning rate: 0.000000\n",
      "Loaded best model weights\n",
      "Classification Report:\n",
      "              precision    recall  f1-score   support\n",
      "\n",
      "          AD     0.9000    0.9000    0.9000        80\n",
      "         MCI     0.8696    0.7407    0.8000        81\n",
      "          CN     0.7957    0.9136    0.8506        81\n",
      "\n",
      "    accuracy                         0.8512       242\n",
      "   macro avg     0.8551    0.8514    0.8502       242\n",
      "weighted avg     0.8549    0.8512    0.8500       242\n",
      "\n",
      "Saved predictions to test_predictions_resnet.csv\n"
     ]
    }
   ],
   "source": [
    "model = MultimodalMRIModel(num_classes=3, clinical_dim=3).to(device)\n",
    "\n",
    "# Class weights (recomputed for balanced dataset)\n",
    "paired_df = pd.read_csv(\"paired_dataset_smote.csv\")\n",
    "class_counts = paired_df['label'].value_counts().sort_index()  \n",
    "class_weights = torch.tensor(1.0 / class_counts, dtype=torch.float32).to(device)\n",
    "class_weights = class_weights / class_weights.sum() * 3\n",
    "print(\"Class weights:\", class_weights)\n",
    "\n",
    "def train_model(model, train_loader, val_loader, criterion, optimizer, num_epochs=50, patience=10):\n",
    "    best_f1 = 0.0\n",
    "    best_model_wts = copy.deepcopy(model.state_dict())\n",
    "    patience_counter = 0\n",
    "    scheduler = optim.lr_scheduler.ReduceLROnPlateau(optimizer, mode='max', factor=0.1, patience=5)\n",
    "    \n",
    "    for epoch in range(num_epochs):\n",
    "        model.train()\n",
    "        train_loss, train_acc, train_f1, train_auc = 0.0, 0.0, 0.0, 0.0\n",
    "        train_samples = 0\n",
    "        print(f\"\\nEpoch {epoch+1}/{num_epochs} - Training\")\n",
    "        for batch_idx, (img, clin, label) in enumerate(tqdm(train_loader, desc=\"Training Batches\")):\n",
    "            img, clin, label = img.to(device), clin.to(device), label.to(device)\n",
    "            optimizer.zero_grad()\n",
    "            pred = model(img, clin)\n",
    "            loss = criterion(pred, label)\n",
    "            loss.backward()\n",
    "            optimizer.step()\n",
    "            \n",
    "            batch_size = img.size(0)\n",
    "            batch_loss = loss.item()\n",
    "            batch_acc = accuracy(pred, label).item()\n",
    "            batch_f1 = f1_score(pred, label).item()\n",
    "            batch_auc = auroc(pred, label).item()\n",
    "            \n",
    "            train_loss += batch_loss * batch_size\n",
    "            train_acc += batch_acc * batch_size\n",
    "            train_f1 += batch_f1 * batch_size\n",
    "            train_auc += batch_auc * batch_size\n",
    "            train_samples += batch_size\n",
    "        \n",
    "        train_loss /= train_samples\n",
    "        train_acc /= train_samples\n",
    "        train_f1 /= train_samples\n",
    "        train_auc /= train_samples\n",
    "        \n",
    "        # Validation\n",
    "        model.eval()\n",
    "        val_loss, val_acc, val_f1, val_auc = 0.0, 0.0, 0.0, 0.0\n",
    "        val_samples = 0\n",
    "        \n",
    "        print(f\"\\nEpoch {epoch+1}/{num_epochs} - Validation\")\n",
    "        with torch.no_grad():\n",
    "            for batch_idx, (img, clin, label) in enumerate(tqdm(val_loader, desc=\"Validation Batches\")):\n",
    "                img, clin, label = img.to(device), clin.to(device), label.to(device)\n",
    "                pred = model(img, clin)\n",
    "                loss = criterion(pred, label)\n",
    "                \n",
    "                batch_size = img.size(0)\n",
    "                batch_loss = loss.item()\n",
    "                batch_acc = accuracy(pred, label).item()\n",
    "                batch_f1 = f1_score(pred, label).item()\n",
    "                batch_auc = auroc(pred, label).item()\n",
    "                \n",
    "                val_loss += batch_loss * batch_size\n",
    "                val_acc += batch_acc * batch_size\n",
    "                val_f1 += batch_f1 * batch_size\n",
    "                val_auc += batch_auc * batch_size\n",
    "                val_samples += batch_size\n",
    "        \n",
    "        val_loss /= val_samples\n",
    "        val_acc /= val_samples\n",
    "        val_f1 /= val_samples\n",
    "        val_auc /= val_samples\n",
    "        \n",
    "        print(f\"\\nEpoch {epoch+1} Summary:\")\n",
    "        print(f\"Train - Loss: {train_loss:.4f}, Acc: {train_acc:.4f}, F1: {train_f1:.4f}, AUC: {train_auc:.4f}\")\n",
    "        print(f\"Val   - Loss: {val_loss:.4f}, Acc: {val_acc:.4f}, F1: {val_f1:.4f}, AUC: {val_auc:.4f}\")\n",
    "        \n",
    "        epoch_save_path = f\"epoch_{epoch+1}_multimodal_mri.pth\"\n",
    "        torch.save(model.state_dict(), epoch_save_path)\n",
    "        print(f\"Saved model: {epoch_save_path}\")\n",
    "        \n",
    "        if val_f1 > best_f1:\n",
    "            best_f1 = val_f1\n",
    "            best_model_wts = copy.deepcopy(model.state_dict())\n",
    "            torch.save(best_model_wts, \"best_multimodal_mri.pth\")\n",
    "            print(f\"New best model saved with Val F1: {best_f1:.4f}\")\n",
    "            patience_counter = 0\n",
    "        else:\n",
    "            patience_counter += 1\n",
    "        \n",
    "        scheduler.step(val_f1)\n",
    "        print(f\"Current learning rate: {optimizer.param_groups[0]['lr']:.6f}\")\n",
    "        \n",
    "        if patience_counter >= patience:\n",
    "            print(\"Early stopping triggered\")\n",
    "            break\n",
    "    \n",
    "    model.load_state_dict(best_model_wts)\n",
    "    print(\"Loaded best model weights\")\n",
    "    return model\n",
    "\n",
    "def generate_classification_report(model, test_loader, device, weights_path=\"best_multimodal_mri.pth\"):\n",
    "    model.load_state_dict(torch.load(weights_path))\n",
    "    model.to(device)\n",
    "    model.eval()\n",
    "    \n",
    "    all_preds = []\n",
    "    all_labels = []\n",
    "    \n",
    "    with torch.no_grad():\n",
    "        for img, clin, label in test_loader:\n",
    "            img, clin, label = img.to(device), clin.to(device), label.to(device)\n",
    "            pred = model(img, clin)\n",
    "            pred_classes = torch.argmax(pred, dim=1)\n",
    "            all_preds.extend(pred_classes.cpu().numpy())\n",
    "            all_labels.extend(label.cpu().numpy())\n",
    "    \n",
    "    report = classification_report(all_labels, all_preds, target_names=['AD', 'MCI', 'CN'], digits=4)\n",
    "    print(\"Classification Report:\")\n",
    "    print(report)\n",
    "    results_df = pd.DataFrame({\n",
    "        'true_label': all_labels,\n",
    "        'predicted_label': all_preds\n",
    "    })\n",
    "    results_df.to_csv(\"test_predictions_resnet.csv\", index=False)\n",
    "    print(\"Saved predictions to test_predictions_resnet.csv\")\n",
    "    return report, results_df\n",
    "\n",
    "model = train_model(model, train_loader, val_loader, criterion, optimizer, num_epochs=50, patience=10)\n",
    "report, results_df = generate_classification_report(model, test_loader, device, weights_path=\"best_multimodal_mri.pth\")"
   ]
  },
  {
   "cell_type": "markdown",
   "id": "734a9add",
   "metadata": {},
   "source": [
    "DenseNet121 MODEL"
   ]
  },
  {
   "cell_type": "code",
   "execution_count": null,
   "id": "e30b0536",
   "metadata": {},
   "outputs": [],
   "source": [
    "from torchvision.models import densenet121, DenseNet121_Weights\n",
    "\n",
    "class MultimodalDenseNet(nn.Module):\n",
    "    def __init__(self, num_classes=3, clinical_dim=3):\n",
    "        super(MultimodalDenseNet, self).__init__()\n",
    "        self.densenet = densenet121(weights=DenseNet121_Weights.DEFAULT)\n",
    "        self.densenet.features.conv0 = nn.Conv2d(1, 64, kernel_size=7, stride=2, padding=3, bias=False)\n",
    "        nn.init.kaiming_normal_(self.densenet.features.conv0.weight, mode='fan_out', nonlinearity='relu')\n",
    "        self.densenet.classifier = nn.Identity()  # Output: 1024D\n",
    "        \n",
    "        self.clinical_mlp = nn.Sequential(\n",
    "            nn.Linear(clinical_dim, 64),\n",
    "            nn.ReLU(),\n",
    "            nn.Dropout(0.3),\n",
    "            nn.Linear(64, 64),\n",
    "            nn.ReLU()\n",
    "        )\n",
    "        # Fusion\n",
    "        self.fc = nn.Sequential(\n",
    "            nn.Linear(1024 + 64, 128),\n",
    "            nn.ReLU(),\n",
    "            nn.Dropout(0.3),\n",
    "            nn.Linear(128, num_classes)\n",
    "        )\n",
    "    \n",
    "    def forward(self, images, clinical):\n",
    "        img_features = self.densenet(images)  \n",
    "        clin_features = self.clinical_mlp(clinical) \n",
    "        combined = torch.cat((img_features, clin_features), dim=1)\n",
    "        output = self.fc(combined)\n",
    "        return output"
   ]
  },
  {
   "cell_type": "markdown",
   "id": "bdb05abf",
   "metadata": {},
   "source": [
    "TRAINING PIPELINE"
   ]
  },
  {
   "cell_type": "code",
   "execution_count": null,
   "id": "b33958c6",
   "metadata": {},
   "outputs": [
    {
     "name": "stdout",
     "output_type": "stream",
     "text": [
      "Using device: cpu\n"
     ]
    },
    {
     "name": "stderr",
     "output_type": "stream",
     "text": [
      "Downloading: \"https://download.pytorch.org/models/densenet121-a639ec97.pth\" to C:\\Users\\HP/.cache\\torch\\hub\\checkpoints\\densenet121-a639ec97.pth\n",
      "100%|██████████| 30.8M/30.8M [00:21<00:00, 1.52MB/s]\n"
     ]
    },
    {
     "name": "stdout",
     "output_type": "stream",
     "text": [
      "Class weights: tensor([1., 1., 1.])\n",
      "\n",
      "Epoch 1/50 - Training\n"
     ]
    },
    {
     "name": "stderr",
     "output_type": "stream",
     "text": [
      "Training Batches:  12%|█▏        | 11/91 [00:16<01:57,  1.47s/it]C:\\Users\\HP\\AppData\\Local\\Packages\\PythonSoftwareFoundation.Python.3.10_qbz5n2kfra8p0\\LocalCache\\local-packages\\Python310\\site-packages\\torchmetrics\\utilities\\prints.py:43: UserWarning: No positive samples in targets, true positive value should be meaningless. Returning zero tensor in true positive score\n",
      "  warnings.warn(*args, **kwargs)\n",
      "Training Batches:  99%|█████████▉| 90/91 [02:07<00:01,  1.38s/it]C:\\Users\\HP\\AppData\\Local\\Packages\\PythonSoftwareFoundation.Python.3.10_qbz5n2kfra8p0\\LocalCache\\local-packages\\Python310\\site-packages\\torchmetrics\\utilities\\prints.py:43: UserWarning: No negative samples in targets, false positive value should be meaningless. Returning zero tensor in false positive score\n",
      "  warnings.warn(*args, **kwargs)\n",
      "Training Batches: 100%|██████████| 91/91 [02:09<00:00,  1.42s/it]\n"
     ]
    },
    {
     "name": "stdout",
     "output_type": "stream",
     "text": [
      "\n",
      "Epoch 1/50 - Validation\n"
     ]
    },
    {
     "name": "stderr",
     "output_type": "stream",
     "text": [
      "Validation Batches: 100%|██████████| 31/31 [00:12<00:00,  2.42it/s]\n"
     ]
    },
    {
     "name": "stdout",
     "output_type": "stream",
     "text": [
      "\n",
      "Epoch 1 Summary:\n",
      "Train - Loss: 1.0861, Acc: 0.4166, F1: 0.3471, AUC: 0.5727\n",
      "Val   - Loss: 1.0714, Acc: 0.4215, F1: 0.3328, AUC: 0.5923\n",
      "Saved model: epoch_1_multimodal_densenet.pth\n",
      "New best model saved with Val F1: 0.3328\n",
      "Current learning rate: 0.000100\n",
      "\n",
      "Epoch 2/50 - Training\n"
     ]
    },
    {
     "name": "stderr",
     "output_type": "stream",
     "text": [
      "Training Batches: 100%|██████████| 91/91 [04:17<00:00,  2.83s/it]\n"
     ]
    },
    {
     "name": "stdout",
     "output_type": "stream",
     "text": [
      "\n",
      "Epoch 2/50 - Validation\n"
     ]
    },
    {
     "name": "stderr",
     "output_type": "stream",
     "text": [
      "Validation Batches: 100%|██████████| 31/31 [00:14<00:00,  2.08it/s]\n"
     ]
    },
    {
     "name": "stdout",
     "output_type": "stream",
     "text": [
      "\n",
      "Epoch 2 Summary:\n",
      "Train - Loss: 1.0323, Acc: 0.4524, F1: 0.4136, AUC: 0.6430\n",
      "Val   - Loss: 0.9676, Acc: 0.5207, F1: 0.4519, AUC: 0.6771\n",
      "Saved model: epoch_2_multimodal_densenet.pth\n",
      "New best model saved with Val F1: 0.4519\n",
      "Current learning rate: 0.000100\n",
      "\n",
      "Epoch 3/50 - Training\n"
     ]
    },
    {
     "name": "stderr",
     "output_type": "stream",
     "text": [
      "Training Batches: 100%|██████████| 91/91 [03:49<00:00,  2.52s/it]\n"
     ]
    },
    {
     "name": "stdout",
     "output_type": "stream",
     "text": [
      "\n",
      "Epoch 3/50 - Validation\n"
     ]
    },
    {
     "name": "stderr",
     "output_type": "stream",
     "text": [
      "Validation Batches: 100%|██████████| 31/31 [00:28<00:00,  1.08it/s]\n"
     ]
    },
    {
     "name": "stdout",
     "output_type": "stream",
     "text": [
      "\n",
      "Epoch 3 Summary:\n",
      "Train - Loss: 0.9437, Acc: 0.5352, F1: 0.5024, AUC: 0.7389\n",
      "Val   - Loss: 0.9622, Acc: 0.5248, F1: 0.4282, AUC: 0.7127\n",
      "Saved model: epoch_3_multimodal_densenet.pth\n",
      "Current learning rate: 0.000100\n",
      "\n",
      "Epoch 4/50 - Training\n"
     ]
    },
    {
     "name": "stderr",
     "output_type": "stream",
     "text": [
      "Training Batches: 100%|██████████| 91/91 [04:31<00:00,  2.99s/it]\n"
     ]
    },
    {
     "name": "stdout",
     "output_type": "stream",
     "text": [
      "\n",
      "Epoch 4/50 - Validation\n"
     ]
    },
    {
     "name": "stderr",
     "output_type": "stream",
     "text": [
      "Validation Batches: 100%|██████████| 31/31 [00:27<00:00,  1.14it/s]\n"
     ]
    },
    {
     "name": "stdout",
     "output_type": "stream",
     "text": [
      "\n",
      "Epoch 4 Summary:\n",
      "Train - Loss: 0.8774, Acc: 0.6138, F1: 0.5839, AUC: 0.7808\n",
      "Val   - Loss: 0.8972, Acc: 0.5702, F1: 0.5116, AUC: 0.7231\n",
      "Saved model: epoch_4_multimodal_densenet.pth\n",
      "New best model saved with Val F1: 0.5116\n",
      "Current learning rate: 0.000100\n",
      "\n",
      "Epoch 5/50 - Training\n"
     ]
    },
    {
     "name": "stderr",
     "output_type": "stream",
     "text": [
      "Training Batches: 100%|██████████| 91/91 [04:27<00:00,  2.94s/it]\n"
     ]
    },
    {
     "name": "stdout",
     "output_type": "stream",
     "text": [
      "\n",
      "Epoch 5/50 - Validation\n"
     ]
    },
    {
     "name": "stderr",
     "output_type": "stream",
     "text": [
      "Validation Batches: 100%|██████████| 31/31 [00:22<00:00,  1.35it/s]\n"
     ]
    },
    {
     "name": "stdout",
     "output_type": "stream",
     "text": [
      "\n",
      "Epoch 5 Summary:\n",
      "Train - Loss: 0.8394, Acc: 0.6179, F1: 0.5886, AUC: 0.7898\n",
      "Val   - Loss: 0.8410, Acc: 0.6240, F1: 0.5542, AUC: 0.7441\n",
      "Saved model: epoch_5_multimodal_densenet.pth\n",
      "New best model saved with Val F1: 0.5542\n",
      "Current learning rate: 0.000100\n",
      "\n",
      "Epoch 6/50 - Training\n"
     ]
    },
    {
     "name": "stderr",
     "output_type": "stream",
     "text": [
      "Training Batches: 100%|██████████| 91/91 [04:21<00:00,  2.88s/it]\n"
     ]
    },
    {
     "name": "stdout",
     "output_type": "stream",
     "text": [
      "\n",
      "Epoch 6/50 - Validation\n"
     ]
    },
    {
     "name": "stderr",
     "output_type": "stream",
     "text": [
      "Validation Batches: 100%|██████████| 31/31 [00:24<00:00,  1.28it/s]\n"
     ]
    },
    {
     "name": "stdout",
     "output_type": "stream",
     "text": [
      "\n",
      "Epoch 6 Summary:\n",
      "Train - Loss: 0.7498, Acc: 0.6676, F1: 0.6292, AUC: 0.8184\n",
      "Val   - Loss: 0.7284, Acc: 0.6942, F1: 0.6345, AUC: 0.8124\n",
      "Saved model: epoch_6_multimodal_densenet.pth\n",
      "New best model saved with Val F1: 0.6345\n",
      "Current learning rate: 0.000100\n",
      "\n",
      "Epoch 7/50 - Training\n"
     ]
    },
    {
     "name": "stderr",
     "output_type": "stream",
     "text": [
      "Training Batches: 100%|██████████| 91/91 [03:58<00:00,  2.62s/it]\n"
     ]
    },
    {
     "name": "stdout",
     "output_type": "stream",
     "text": [
      "\n",
      "Epoch 7/50 - Validation\n"
     ]
    },
    {
     "name": "stderr",
     "output_type": "stream",
     "text": [
      "Validation Batches: 100%|██████████| 31/31 [00:22<00:00,  1.36it/s]\n"
     ]
    },
    {
     "name": "stdout",
     "output_type": "stream",
     "text": [
      "\n",
      "Epoch 7 Summary:\n",
      "Train - Loss: 0.7161, Acc: 0.6979, F1: 0.6610, AUC: 0.8535\n",
      "Val   - Loss: 0.8120, Acc: 0.6570, F1: 0.5872, AUC: 0.8040\n",
      "Saved model: epoch_7_multimodal_densenet.pth\n",
      "Current learning rate: 0.000100\n",
      "\n",
      "Epoch 8/50 - Training\n"
     ]
    },
    {
     "name": "stderr",
     "output_type": "stream",
     "text": [
      "Training Batches: 100%|██████████| 91/91 [04:19<00:00,  2.86s/it]\n"
     ]
    },
    {
     "name": "stdout",
     "output_type": "stream",
     "text": [
      "\n",
      "Epoch 8/50 - Validation\n"
     ]
    },
    {
     "name": "stderr",
     "output_type": "stream",
     "text": [
      "Validation Batches: 100%|██████████| 31/31 [00:23<00:00,  1.34it/s]\n"
     ]
    },
    {
     "name": "stdout",
     "output_type": "stream",
     "text": [
      "\n",
      "Epoch 8 Summary:\n",
      "Train - Loss: 0.6121, Acc: 0.7462, F1: 0.7205, AUC: 0.8879\n",
      "Val   - Loss: 0.7199, Acc: 0.6777, F1: 0.6349, AUC: 0.8279\n",
      "Saved model: epoch_8_multimodal_densenet.pth\n",
      "New best model saved with Val F1: 0.6349\n",
      "Current learning rate: 0.000100\n",
      "\n",
      "Epoch 9/50 - Training\n"
     ]
    },
    {
     "name": "stderr",
     "output_type": "stream",
     "text": [
      "Training Batches: 100%|██████████| 91/91 [04:10<00:00,  2.76s/it]\n"
     ]
    },
    {
     "name": "stdout",
     "output_type": "stream",
     "text": [
      "\n",
      "Epoch 9/50 - Validation\n"
     ]
    },
    {
     "name": "stderr",
     "output_type": "stream",
     "text": [
      "Validation Batches: 100%|██████████| 31/31 [00:25<00:00,  1.23it/s]\n"
     ]
    },
    {
     "name": "stdout",
     "output_type": "stream",
     "text": [
      "\n",
      "Epoch 9 Summary:\n",
      "Train - Loss: 0.5692, Acc: 0.7614, F1: 0.7411, AUC: 0.9051\n",
      "Val   - Loss: 0.6745, Acc: 0.7438, F1: 0.7003, AUC: 0.8194\n",
      "Saved model: epoch_9_multimodal_densenet.pth\n",
      "New best model saved with Val F1: 0.7003\n",
      "Current learning rate: 0.000100\n",
      "\n",
      "Epoch 10/50 - Training\n"
     ]
    },
    {
     "name": "stderr",
     "output_type": "stream",
     "text": [
      "Training Batches: 100%|██████████| 91/91 [03:52<00:00,  2.55s/it]\n"
     ]
    },
    {
     "name": "stdout",
     "output_type": "stream",
     "text": [
      "\n",
      "Epoch 10/50 - Validation\n"
     ]
    },
    {
     "name": "stderr",
     "output_type": "stream",
     "text": [
      "Validation Batches: 100%|██████████| 31/31 [00:24<00:00,  1.25it/s]\n"
     ]
    },
    {
     "name": "stdout",
     "output_type": "stream",
     "text": [
      "\n",
      "Epoch 10 Summary:\n",
      "Train - Loss: 0.4908, Acc: 0.7972, F1: 0.7648, AUC: 0.9185\n",
      "Val   - Loss: 0.6690, Acc: 0.7686, F1: 0.7012, AUC: 0.8417\n",
      "Saved model: epoch_10_multimodal_densenet.pth\n",
      "New best model saved with Val F1: 0.7012\n",
      "Current learning rate: 0.000100\n",
      "\n",
      "Epoch 11/50 - Training\n"
     ]
    },
    {
     "name": "stderr",
     "output_type": "stream",
     "text": [
      "Training Batches: 100%|██████████| 91/91 [03:55<00:00,  2.59s/it]\n"
     ]
    },
    {
     "name": "stdout",
     "output_type": "stream",
     "text": [
      "\n",
      "Epoch 11/50 - Validation\n"
     ]
    },
    {
     "name": "stderr",
     "output_type": "stream",
     "text": [
      "Validation Batches: 100%|██████████| 31/31 [00:26<00:00,  1.17it/s]\n"
     ]
    },
    {
     "name": "stdout",
     "output_type": "stream",
     "text": [
      "\n",
      "Epoch 11 Summary:\n",
      "Train - Loss: 0.4149, Acc: 0.8414, F1: 0.8064, AUC: 0.9299\n",
      "Val   - Loss: 1.1078, Acc: 0.6446, F1: 0.5798, AUC: 0.8053\n",
      "Saved model: epoch_11_multimodal_densenet.pth\n",
      "Current learning rate: 0.000100\n",
      "\n",
      "Epoch 12/50 - Training\n"
     ]
    },
    {
     "name": "stderr",
     "output_type": "stream",
     "text": [
      "Training Batches: 100%|██████████| 91/91 [04:27<00:00,  2.94s/it]\n"
     ]
    },
    {
     "name": "stdout",
     "output_type": "stream",
     "text": [
      "\n",
      "Epoch 12/50 - Validation\n"
     ]
    },
    {
     "name": "stderr",
     "output_type": "stream",
     "text": [
      "Validation Batches: 100%|██████████| 31/31 [00:27<00:00,  1.12it/s]\n"
     ]
    },
    {
     "name": "stdout",
     "output_type": "stream",
     "text": [
      "\n",
      "Epoch 12 Summary:\n",
      "Train - Loss: 0.3854, Acc: 0.8510, F1: 0.8205, AUC: 0.9362\n",
      "Val   - Loss: 0.7175, Acc: 0.7727, F1: 0.7479, AUC: 0.8461\n",
      "Saved model: epoch_12_multimodal_densenet.pth\n",
      "New best model saved with Val F1: 0.7479\n",
      "Current learning rate: 0.000100\n",
      "\n",
      "Epoch 13/50 - Training\n"
     ]
    },
    {
     "name": "stderr",
     "output_type": "stream",
     "text": [
      "Training Batches: 100%|██████████| 91/91 [04:10<00:00,  2.76s/it]\n"
     ]
    },
    {
     "name": "stdout",
     "output_type": "stream",
     "text": [
      "\n",
      "Epoch 13/50 - Validation\n"
     ]
    },
    {
     "name": "stderr",
     "output_type": "stream",
     "text": [
      "Validation Batches: 100%|██████████| 31/31 [00:13<00:00,  2.22it/s]\n"
     ]
    },
    {
     "name": "stdout",
     "output_type": "stream",
     "text": [
      "\n",
      "Epoch 13 Summary:\n",
      "Train - Loss: 0.3775, Acc: 0.8593, F1: 0.8395, AUC: 0.9444\n",
      "Val   - Loss: 0.9469, Acc: 0.6818, F1: 0.6263, AUC: 0.8159\n",
      "Saved model: epoch_13_multimodal_densenet.pth\n",
      "Current learning rate: 0.000100\n",
      "\n",
      "Epoch 14/50 - Training\n"
     ]
    },
    {
     "name": "stderr",
     "output_type": "stream",
     "text": [
      "Training Batches: 100%|██████████| 91/91 [03:34<00:00,  2.36s/it]\n"
     ]
    },
    {
     "name": "stdout",
     "output_type": "stream",
     "text": [
      "\n",
      "Epoch 14/50 - Validation\n"
     ]
    },
    {
     "name": "stderr",
     "output_type": "stream",
     "text": [
      "Validation Batches: 100%|██████████| 31/31 [00:32<00:00,  1.04s/it]\n"
     ]
    },
    {
     "name": "stdout",
     "output_type": "stream",
     "text": [
      "\n",
      "Epoch 14 Summary:\n",
      "Train - Loss: 0.3383, Acc: 0.8566, F1: 0.8384, AUC: 0.9684\n",
      "Val   - Loss: 0.9154, Acc: 0.7851, F1: 0.7438, AUC: 0.8292\n",
      "Saved model: epoch_14_multimodal_densenet.pth\n",
      "Current learning rate: 0.000100\n",
      "\n",
      "Epoch 15/50 - Training\n"
     ]
    },
    {
     "name": "stderr",
     "output_type": "stream",
     "text": [
      "Training Batches: 100%|██████████| 91/91 [04:46<00:00,  3.14s/it]\n"
     ]
    },
    {
     "name": "stdout",
     "output_type": "stream",
     "text": [
      "\n",
      "Epoch 15/50 - Validation\n"
     ]
    },
    {
     "name": "stderr",
     "output_type": "stream",
     "text": [
      "Validation Batches: 100%|██████████| 31/31 [00:16<00:00,  1.83it/s]\n"
     ]
    },
    {
     "name": "stdout",
     "output_type": "stream",
     "text": [
      "\n",
      "Epoch 15 Summary:\n",
      "Train - Loss: 0.3283, Acc: 0.8800, F1: 0.8471, AUC: 0.9489\n",
      "Val   - Loss: 0.8952, Acc: 0.7149, F1: 0.6636, AUC: 0.8400\n",
      "Saved model: epoch_15_multimodal_densenet.pth\n",
      "Current learning rate: 0.000100\n",
      "\n",
      "Epoch 16/50 - Training\n"
     ]
    },
    {
     "name": "stderr",
     "output_type": "stream",
     "text": [
      "Training Batches: 100%|██████████| 91/91 [03:28<00:00,  2.29s/it]\n"
     ]
    },
    {
     "name": "stdout",
     "output_type": "stream",
     "text": [
      "\n",
      "Epoch 16/50 - Validation\n"
     ]
    },
    {
     "name": "stderr",
     "output_type": "stream",
     "text": [
      "Validation Batches: 100%|██████████| 31/31 [00:16<00:00,  1.92it/s]\n"
     ]
    },
    {
     "name": "stdout",
     "output_type": "stream",
     "text": [
      "\n",
      "Epoch 16 Summary:\n",
      "Train - Loss: 0.3315, Acc: 0.8772, F1: 0.8482, AUC: 0.9500\n",
      "Val   - Loss: 0.6275, Acc: 0.7934, F1: 0.7641, AUC: 0.8639\n",
      "Saved model: epoch_16_multimodal_densenet.pth\n",
      "New best model saved with Val F1: 0.7641\n",
      "Current learning rate: 0.000100\n",
      "\n",
      "Epoch 17/50 - Training\n"
     ]
    },
    {
     "name": "stderr",
     "output_type": "stream",
     "text": [
      "Training Batches: 100%|██████████| 91/91 [03:35<00:00,  2.36s/it]\n"
     ]
    },
    {
     "name": "stdout",
     "output_type": "stream",
     "text": [
      "\n",
      "Epoch 17/50 - Validation\n"
     ]
    },
    {
     "name": "stderr",
     "output_type": "stream",
     "text": [
      "Validation Batches: 100%|██████████| 31/31 [00:20<00:00,  1.51it/s]\n"
     ]
    },
    {
     "name": "stdout",
     "output_type": "stream",
     "text": [
      "\n",
      "Epoch 17 Summary:\n",
      "Train - Loss: 0.3175, Acc: 0.8717, F1: 0.8303, AUC: 0.9244\n",
      "Val   - Loss: 0.7357, Acc: 0.7769, F1: 0.7407, AUC: 0.8342\n",
      "Saved model: epoch_17_multimodal_densenet.pth\n",
      "Current learning rate: 0.000100\n",
      "\n",
      "Epoch 18/50 - Training\n"
     ]
    },
    {
     "name": "stderr",
     "output_type": "stream",
     "text": [
      "Training Batches: 100%|██████████| 91/91 [04:12<00:00,  2.77s/it]\n"
     ]
    },
    {
     "name": "stdout",
     "output_type": "stream",
     "text": [
      "\n",
      "Epoch 18/50 - Validation\n"
     ]
    },
    {
     "name": "stderr",
     "output_type": "stream",
     "text": [
      "Validation Batches: 100%|██████████| 31/31 [00:23<00:00,  1.34it/s]\n"
     ]
    },
    {
     "name": "stdout",
     "output_type": "stream",
     "text": [
      "\n",
      "Epoch 18 Summary:\n",
      "Train - Loss: 0.2766, Acc: 0.8979, F1: 0.8760, AUC: 0.9529\n",
      "Val   - Loss: 0.7291, Acc: 0.7727, F1: 0.7419, AUC: 0.8557\n",
      "Saved model: epoch_18_multimodal_densenet.pth\n",
      "Current learning rate: 0.000100\n",
      "\n",
      "Epoch 19/50 - Training\n"
     ]
    },
    {
     "name": "stderr",
     "output_type": "stream",
     "text": [
      "Training Batches: 100%|██████████| 91/91 [04:30<00:00,  2.97s/it]\n"
     ]
    },
    {
     "name": "stdout",
     "output_type": "stream",
     "text": [
      "\n",
      "Epoch 19/50 - Validation\n"
     ]
    },
    {
     "name": "stderr",
     "output_type": "stream",
     "text": [
      "Validation Batches: 100%|██████████| 31/31 [00:24<00:00,  1.27it/s]\n"
     ]
    },
    {
     "name": "stdout",
     "output_type": "stream",
     "text": [
      "\n",
      "Epoch 19 Summary:\n",
      "Train - Loss: 0.2662, Acc: 0.9048, F1: 0.8703, AUC: 0.9526\n",
      "Val   - Loss: 1.1323, Acc: 0.6612, F1: 0.5987, AUC: 0.8145\n",
      "Saved model: epoch_19_multimodal_densenet.pth\n",
      "Current learning rate: 0.000100\n",
      "\n",
      "Epoch 20/50 - Training\n"
     ]
    },
    {
     "name": "stderr",
     "output_type": "stream",
     "text": [
      "Training Batches: 100%|██████████| 91/91 [04:20<00:00,  2.87s/it]\n"
     ]
    },
    {
     "name": "stdout",
     "output_type": "stream",
     "text": [
      "\n",
      "Epoch 20/50 - Validation\n"
     ]
    },
    {
     "name": "stderr",
     "output_type": "stream",
     "text": [
      "Validation Batches: 100%|██████████| 31/31 [00:17<00:00,  1.77it/s]\n"
     ]
    },
    {
     "name": "stdout",
     "output_type": "stream",
     "text": [
      "\n",
      "Epoch 20 Summary:\n",
      "Train - Loss: 0.2925, Acc: 0.9021, F1: 0.8785, AUC: 0.9498\n",
      "Val   - Loss: 0.7489, Acc: 0.7727, F1: 0.7338, AUC: 0.8495\n",
      "Saved model: epoch_20_multimodal_densenet.pth\n",
      "Current learning rate: 0.000100\n",
      "\n",
      "Epoch 21/50 - Training\n"
     ]
    },
    {
     "name": "stderr",
     "output_type": "stream",
     "text": [
      "Training Batches: 100%|██████████| 91/91 [05:17<00:00,  3.49s/it]\n"
     ]
    },
    {
     "name": "stdout",
     "output_type": "stream",
     "text": [
      "\n",
      "Epoch 21/50 - Validation\n"
     ]
    },
    {
     "name": "stderr",
     "output_type": "stream",
     "text": [
      "Validation Batches: 100%|██████████| 31/31 [00:17<00:00,  1.74it/s]\n"
     ]
    },
    {
     "name": "stdout",
     "output_type": "stream",
     "text": [
      "\n",
      "Epoch 21 Summary:\n",
      "Train - Loss: 0.2166, Acc: 0.9283, F1: 0.9131, AUC: 0.9695\n",
      "Val   - Loss: 0.8480, Acc: 0.7727, F1: 0.7554, AUC: 0.8555\n",
      "Saved model: epoch_21_multimodal_densenet.pth\n",
      "Current learning rate: 0.000100\n",
      "\n",
      "Epoch 22/50 - Training\n"
     ]
    },
    {
     "name": "stderr",
     "output_type": "stream",
     "text": [
      "Training Batches: 100%|██████████| 91/91 [04:58<00:00,  3.28s/it]\n"
     ]
    },
    {
     "name": "stdout",
     "output_type": "stream",
     "text": [
      "\n",
      "Epoch 22/50 - Validation\n"
     ]
    },
    {
     "name": "stderr",
     "output_type": "stream",
     "text": [
      "Validation Batches: 100%|██████████| 31/31 [00:17<00:00,  1.75it/s]\n"
     ]
    },
    {
     "name": "stdout",
     "output_type": "stream",
     "text": [
      "\n",
      "Epoch 22 Summary:\n",
      "Train - Loss: 0.2189, Acc: 0.9214, F1: 0.9000, AUC: 0.9571\n",
      "Val   - Loss: 0.7182, Acc: 0.7975, F1: 0.7755, AUC: 0.8663\n",
      "Saved model: epoch_22_multimodal_densenet.pth\n",
      "New best model saved with Val F1: 0.7755\n",
      "Current learning rate: 0.000100\n",
      "\n",
      "Epoch 23/50 - Training\n"
     ]
    },
    {
     "name": "stderr",
     "output_type": "stream",
     "text": [
      "Training Batches: 100%|██████████| 91/91 [04:25<00:00,  2.91s/it]\n"
     ]
    },
    {
     "name": "stdout",
     "output_type": "stream",
     "text": [
      "\n",
      "Epoch 23/50 - Validation\n"
     ]
    },
    {
     "name": "stderr",
     "output_type": "stream",
     "text": [
      "Validation Batches: 100%|██████████| 31/31 [00:21<00:00,  1.43it/s]\n"
     ]
    },
    {
     "name": "stdout",
     "output_type": "stream",
     "text": [
      "\n",
      "Epoch 23 Summary:\n",
      "Train - Loss: 0.2220, Acc: 0.9159, F1: 0.8991, AUC: 0.9518\n",
      "Val   - Loss: 0.7428, Acc: 0.7810, F1: 0.7320, AUC: 0.8446\n",
      "Saved model: epoch_23_multimodal_densenet.pth\n",
      "Current learning rate: 0.000100\n",
      "\n",
      "Epoch 24/50 - Training\n"
     ]
    },
    {
     "name": "stderr",
     "output_type": "stream",
     "text": [
      "Training Batches: 100%|██████████| 91/91 [04:27<00:00,  2.94s/it]\n"
     ]
    },
    {
     "name": "stdout",
     "output_type": "stream",
     "text": [
      "\n",
      "Epoch 24/50 - Validation\n"
     ]
    },
    {
     "name": "stderr",
     "output_type": "stream",
     "text": [
      "Validation Batches: 100%|██████████| 31/31 [00:22<00:00,  1.40it/s]\n"
     ]
    },
    {
     "name": "stdout",
     "output_type": "stream",
     "text": [
      "\n",
      "Epoch 24 Summary:\n",
      "Train - Loss: 0.2200, Acc: 0.9241, F1: 0.9075, AUC: 0.9519\n",
      "Val   - Loss: 0.7121, Acc: 0.7975, F1: 0.7613, AUC: 0.8659\n",
      "Saved model: epoch_24_multimodal_densenet.pth\n",
      "Current learning rate: 0.000100\n",
      "\n",
      "Epoch 25/50 - Training\n"
     ]
    },
    {
     "name": "stderr",
     "output_type": "stream",
     "text": [
      "Training Batches: 100%|██████████| 91/91 [04:26<00:00,  2.93s/it]\n"
     ]
    },
    {
     "name": "stdout",
     "output_type": "stream",
     "text": [
      "\n",
      "Epoch 25/50 - Validation\n"
     ]
    },
    {
     "name": "stderr",
     "output_type": "stream",
     "text": [
      "Validation Batches: 100%|██████████| 31/31 [00:21<00:00,  1.41it/s]\n"
     ]
    },
    {
     "name": "stdout",
     "output_type": "stream",
     "text": [
      "\n",
      "Epoch 25 Summary:\n",
      "Train - Loss: 0.1890, Acc: 0.9310, F1: 0.9040, AUC: 0.9533\n",
      "Val   - Loss: 0.8689, Acc: 0.7810, F1: 0.7393, AUC: 0.8482\n",
      "Saved model: epoch_25_multimodal_densenet.pth\n",
      "Current learning rate: 0.000100\n",
      "\n",
      "Epoch 26/50 - Training\n"
     ]
    },
    {
     "name": "stderr",
     "output_type": "stream",
     "text": [
      "Training Batches: 100%|██████████| 91/91 [04:28<00:00,  2.95s/it]\n"
     ]
    },
    {
     "name": "stdout",
     "output_type": "stream",
     "text": [
      "\n",
      "Epoch 26/50 - Validation\n"
     ]
    },
    {
     "name": "stderr",
     "output_type": "stream",
     "text": [
      "Validation Batches: 100%|██████████| 31/31 [00:22<00:00,  1.39it/s]\n"
     ]
    },
    {
     "name": "stdout",
     "output_type": "stream",
     "text": [
      "\n",
      "Epoch 26 Summary:\n",
      "Train - Loss: 0.1886, Acc: 0.9503, F1: 0.9260, AUC: 0.9471\n",
      "Val   - Loss: 0.7409, Acc: 0.8099, F1: 0.7676, AUC: 0.8605\n",
      "Saved model: epoch_26_multimodal_densenet.pth\n",
      "Current learning rate: 0.000100\n",
      "\n",
      "Epoch 27/50 - Training\n"
     ]
    },
    {
     "name": "stderr",
     "output_type": "stream",
     "text": [
      "Training Batches: 100%|██████████| 91/91 [04:32<00:00,  3.00s/it]\n"
     ]
    },
    {
     "name": "stdout",
     "output_type": "stream",
     "text": [
      "\n",
      "Epoch 27/50 - Validation\n"
     ]
    },
    {
     "name": "stderr",
     "output_type": "stream",
     "text": [
      "Validation Batches: 100%|██████████| 31/31 [00:23<00:00,  1.33it/s]\n"
     ]
    },
    {
     "name": "stdout",
     "output_type": "stream",
     "text": [
      "\n",
      "Epoch 27 Summary:\n",
      "Train - Loss: 0.1592, Acc: 0.9434, F1: 0.9170, AUC: 0.9532\n",
      "Val   - Loss: 0.7352, Acc: 0.7810, F1: 0.7490, AUC: 0.8626\n",
      "Saved model: epoch_27_multimodal_densenet.pth\n",
      "Current learning rate: 0.000100\n",
      "\n",
      "Epoch 28/50 - Training\n"
     ]
    },
    {
     "name": "stderr",
     "output_type": "stream",
     "text": [
      "Training Batches: 100%|██████████| 91/91 [04:29<00:00,  2.96s/it]\n"
     ]
    },
    {
     "name": "stdout",
     "output_type": "stream",
     "text": [
      "\n",
      "Epoch 28/50 - Validation\n"
     ]
    },
    {
     "name": "stderr",
     "output_type": "stream",
     "text": [
      "Validation Batches: 100%|██████████| 31/31 [00:23<00:00,  1.31it/s]\n"
     ]
    },
    {
     "name": "stdout",
     "output_type": "stream",
     "text": [
      "\n",
      "Epoch 28 Summary:\n",
      "Train - Loss: 0.1614, Acc: 0.9434, F1: 0.9251, AUC: 0.9621\n",
      "Val   - Loss: 0.7456, Acc: 0.7851, F1: 0.7566, AUC: 0.8529\n",
      "Saved model: epoch_28_multimodal_densenet.pth\n",
      "Current learning rate: 0.000010\n",
      "\n",
      "Epoch 29/50 - Training\n"
     ]
    },
    {
     "name": "stderr",
     "output_type": "stream",
     "text": [
      "Training Batches: 100%|██████████| 91/91 [04:58<00:00,  3.28s/it]\n"
     ]
    },
    {
     "name": "stdout",
     "output_type": "stream",
     "text": [
      "\n",
      "Epoch 29/50 - Validation\n"
     ]
    },
    {
     "name": "stderr",
     "output_type": "stream",
     "text": [
      "Validation Batches: 100%|██████████| 31/31 [00:23<00:00,  1.30it/s]\n"
     ]
    },
    {
     "name": "stdout",
     "output_type": "stream",
     "text": [
      "\n",
      "Epoch 29 Summary:\n",
      "Train - Loss: 0.1159, Acc: 0.9559, F1: 0.9376, AUC: 0.9735\n",
      "Val   - Loss: 0.7471, Acc: 0.7975, F1: 0.7785, AUC: 0.8671\n",
      "Saved model: epoch_29_multimodal_densenet.pth\n",
      "New best model saved with Val F1: 0.7785\n",
      "Current learning rate: 0.000010\n",
      "\n",
      "Epoch 30/50 - Training\n"
     ]
    },
    {
     "name": "stderr",
     "output_type": "stream",
     "text": [
      "Training Batches: 100%|██████████| 91/91 [04:37<00:00,  3.05s/it]\n"
     ]
    },
    {
     "name": "stdout",
     "output_type": "stream",
     "text": [
      "\n",
      "Epoch 30/50 - Validation\n"
     ]
    },
    {
     "name": "stderr",
     "output_type": "stream",
     "text": [
      "Validation Batches: 100%|██████████| 31/31 [00:22<00:00,  1.36it/s]\n"
     ]
    },
    {
     "name": "stdout",
     "output_type": "stream",
     "text": [
      "\n",
      "Epoch 30 Summary:\n",
      "Train - Loss: 0.0730, Acc: 0.9834, F1: 0.9762, AUC: 0.9743\n",
      "Val   - Loss: 0.7255, Acc: 0.8058, F1: 0.7785, AUC: 0.8695\n",
      "Saved model: epoch_30_multimodal_densenet.pth\n",
      "Current learning rate: 0.000010\n",
      "\n",
      "Epoch 31/50 - Training\n"
     ]
    },
    {
     "name": "stderr",
     "output_type": "stream",
     "text": [
      "Training Batches: 100%|██████████| 91/91 [04:48<00:00,  3.17s/it]\n"
     ]
    },
    {
     "name": "stdout",
     "output_type": "stream",
     "text": [
      "\n",
      "Epoch 31/50 - Validation\n"
     ]
    },
    {
     "name": "stderr",
     "output_type": "stream",
     "text": [
      "Validation Batches: 100%|██████████| 31/31 [00:22<00:00,  1.35it/s]\n"
     ]
    },
    {
     "name": "stdout",
     "output_type": "stream",
     "text": [
      "\n",
      "Epoch 31 Summary:\n",
      "Train - Loss: 0.1099, Acc: 0.9641, F1: 0.9564, AUC: 0.9775\n",
      "Val   - Loss: 0.7199, Acc: 0.7934, F1: 0.7708, AUC: 0.8718\n",
      "Saved model: epoch_31_multimodal_densenet.pth\n",
      "Current learning rate: 0.000010\n",
      "\n",
      "Epoch 32/50 - Training\n"
     ]
    },
    {
     "name": "stderr",
     "output_type": "stream",
     "text": [
      "Training Batches: 100%|██████████| 91/91 [04:27<00:00,  2.94s/it]\n"
     ]
    },
    {
     "name": "stdout",
     "output_type": "stream",
     "text": [
      "\n",
      "Epoch 32/50 - Validation\n"
     ]
    },
    {
     "name": "stderr",
     "output_type": "stream",
     "text": [
      "Validation Batches: 100%|██████████| 31/31 [00:21<00:00,  1.45it/s]\n"
     ]
    },
    {
     "name": "stdout",
     "output_type": "stream",
     "text": [
      "\n",
      "Epoch 32 Summary:\n",
      "Train - Loss: 0.0575, Acc: 0.9848, F1: 0.9757, AUC: 0.9556\n",
      "Val   - Loss: 0.7356, Acc: 0.7810, F1: 0.7422, AUC: 0.8691\n",
      "Saved model: epoch_32_multimodal_densenet.pth\n",
      "Current learning rate: 0.000010\n",
      "\n",
      "Epoch 33/50 - Training\n"
     ]
    },
    {
     "name": "stderr",
     "output_type": "stream",
     "text": [
      "Training Batches: 100%|██████████| 91/91 [04:15<00:00,  2.80s/it]\n"
     ]
    },
    {
     "name": "stdout",
     "output_type": "stream",
     "text": [
      "\n",
      "Epoch 33/50 - Validation\n"
     ]
    },
    {
     "name": "stderr",
     "output_type": "stream",
     "text": [
      "Validation Batches: 100%|██████████| 31/31 [00:19<00:00,  1.61it/s]\n"
     ]
    },
    {
     "name": "stdout",
     "output_type": "stream",
     "text": [
      "\n",
      "Epoch 33 Summary:\n",
      "Train - Loss: 0.0927, Acc: 0.9766, F1: 0.9503, AUC: 0.9315\n",
      "Val   - Loss: 0.7574, Acc: 0.7934, F1: 0.7518, AUC: 0.8703\n",
      "Saved model: epoch_33_multimodal_densenet.pth\n",
      "Current learning rate: 0.000010\n",
      "\n",
      "Epoch 34/50 - Training\n"
     ]
    },
    {
     "name": "stderr",
     "output_type": "stream",
     "text": [
      "Training Batches: 100%|██████████| 91/91 [03:49<00:00,  2.52s/it]\n"
     ]
    },
    {
     "name": "stdout",
     "output_type": "stream",
     "text": [
      "\n",
      "Epoch 34/50 - Validation\n"
     ]
    },
    {
     "name": "stderr",
     "output_type": "stream",
     "text": [
      "Validation Batches: 100%|██████████| 31/31 [00:18<00:00,  1.66it/s]\n"
     ]
    },
    {
     "name": "stdout",
     "output_type": "stream",
     "text": [
      "\n",
      "Epoch 34 Summary:\n",
      "Train - Loss: 0.0654, Acc: 0.9793, F1: 0.9656, AUC: 0.9533\n",
      "Val   - Loss: 0.7407, Acc: 0.8058, F1: 0.7840, AUC: 0.8737\n",
      "Saved model: epoch_34_multimodal_densenet.pth\n",
      "New best model saved with Val F1: 0.7840\n",
      "Current learning rate: 0.000010\n",
      "\n",
      "Epoch 35/50 - Training\n"
     ]
    },
    {
     "name": "stderr",
     "output_type": "stream",
     "text": [
      "Training Batches: 100%|██████████| 91/91 [04:29<00:00,  2.96s/it]\n"
     ]
    },
    {
     "name": "stdout",
     "output_type": "stream",
     "text": [
      "\n",
      "Epoch 35/50 - Validation\n"
     ]
    },
    {
     "name": "stderr",
     "output_type": "stream",
     "text": [
      "Validation Batches: 100%|██████████| 31/31 [00:23<00:00,  1.33it/s]\n"
     ]
    },
    {
     "name": "stdout",
     "output_type": "stream",
     "text": [
      "\n",
      "Epoch 35 Summary:\n",
      "Train - Loss: 0.0585, Acc: 0.9848, F1: 0.9754, AUC: 0.9609\n",
      "Val   - Loss: 0.7378, Acc: 0.7934, F1: 0.7609, AUC: 0.8711\n",
      "Saved model: epoch_35_multimodal_densenet.pth\n",
      "Current learning rate: 0.000010\n",
      "\n",
      "Epoch 36/50 - Training\n"
     ]
    },
    {
     "name": "stderr",
     "output_type": "stream",
     "text": [
      "Training Batches: 100%|██████████| 91/91 [04:55<00:00,  3.25s/it]\n"
     ]
    },
    {
     "name": "stdout",
     "output_type": "stream",
     "text": [
      "\n",
      "Epoch 36/50 - Validation\n"
     ]
    },
    {
     "name": "stderr",
     "output_type": "stream",
     "text": [
      "Validation Batches: 100%|██████████| 31/31 [00:24<00:00,  1.26it/s]\n"
     ]
    },
    {
     "name": "stdout",
     "output_type": "stream",
     "text": [
      "\n",
      "Epoch 36 Summary:\n",
      "Train - Loss: 0.0682, Acc: 0.9834, F1: 0.9731, AUC: 0.9706\n",
      "Val   - Loss: 0.7514, Acc: 0.7893, F1: 0.7563, AUC: 0.8769\n",
      "Saved model: epoch_36_multimodal_densenet.pth\n",
      "Current learning rate: 0.000010\n",
      "\n",
      "Epoch 37/50 - Training\n"
     ]
    },
    {
     "name": "stderr",
     "output_type": "stream",
     "text": [
      "Training Batches: 100%|██████████| 91/91 [04:47<00:00,  3.16s/it]\n"
     ]
    },
    {
     "name": "stdout",
     "output_type": "stream",
     "text": [
      "\n",
      "Epoch 37/50 - Validation\n"
     ]
    },
    {
     "name": "stderr",
     "output_type": "stream",
     "text": [
      "Validation Batches: 100%|██████████| 31/31 [00:23<00:00,  1.32it/s]\n"
     ]
    },
    {
     "name": "stdout",
     "output_type": "stream",
     "text": [
      "\n",
      "Epoch 37 Summary:\n",
      "Train - Loss: 0.0648, Acc: 0.9821, F1: 0.9641, AUC: 0.9559\n",
      "Val   - Loss: 0.7110, Acc: 0.7934, F1: 0.7731, AUC: 0.8742\n",
      "Saved model: epoch_37_multimodal_densenet.pth\n",
      "Current learning rate: 0.000010\n",
      "\n",
      "Epoch 38/50 - Training\n"
     ]
    },
    {
     "name": "stderr",
     "output_type": "stream",
     "text": [
      "Training Batches: 100%|██████████| 91/91 [04:27<00:00,  2.94s/it]\n"
     ]
    },
    {
     "name": "stdout",
     "output_type": "stream",
     "text": [
      "\n",
      "Epoch 38/50 - Validation\n"
     ]
    },
    {
     "name": "stderr",
     "output_type": "stream",
     "text": [
      "Validation Batches: 100%|██████████| 31/31 [00:22<00:00,  1.39it/s]\n"
     ]
    },
    {
     "name": "stdout",
     "output_type": "stream",
     "text": [
      "\n",
      "Epoch 38 Summary:\n",
      "Train - Loss: 0.0654, Acc: 0.9848, F1: 0.9786, AUC: 0.9478\n",
      "Val   - Loss: 0.7283, Acc: 0.7975, F1: 0.7697, AUC: 0.8747\n",
      "Saved model: epoch_38_multimodal_densenet.pth\n",
      "Current learning rate: 0.000010\n",
      "\n",
      "Epoch 39/50 - Training\n"
     ]
    },
    {
     "name": "stderr",
     "output_type": "stream",
     "text": [
      "Training Batches: 100%|██████████| 91/91 [04:58<00:00,  3.28s/it]\n"
     ]
    },
    {
     "name": "stdout",
     "output_type": "stream",
     "text": [
      "\n",
      "Epoch 39/50 - Validation\n"
     ]
    },
    {
     "name": "stderr",
     "output_type": "stream",
     "text": [
      "Validation Batches: 100%|██████████| 31/31 [00:25<00:00,  1.20it/s]\n"
     ]
    },
    {
     "name": "stdout",
     "output_type": "stream",
     "text": [
      "\n",
      "Epoch 39 Summary:\n",
      "Train - Loss: 0.0604, Acc: 0.9834, F1: 0.9674, AUC: 0.9556\n",
      "Val   - Loss: 0.7428, Acc: 0.8058, F1: 0.7826, AUC: 0.8787\n",
      "Saved model: epoch_39_multimodal_densenet.pth\n",
      "Current learning rate: 0.000010\n",
      "\n",
      "Epoch 40/50 - Training\n"
     ]
    },
    {
     "name": "stderr",
     "output_type": "stream",
     "text": [
      "Training Batches: 100%|██████████| 91/91 [04:29<00:00,  2.96s/it]\n"
     ]
    },
    {
     "name": "stdout",
     "output_type": "stream",
     "text": [
      "\n",
      "Epoch 40/50 - Validation\n"
     ]
    },
    {
     "name": "stderr",
     "output_type": "stream",
     "text": [
      "Validation Batches: 100%|██████████| 31/31 [00:24<00:00,  1.28it/s]\n"
     ]
    },
    {
     "name": "stdout",
     "output_type": "stream",
     "text": [
      "\n",
      "Epoch 40 Summary:\n",
      "Train - Loss: 0.0604, Acc: 0.9821, F1: 0.9640, AUC: 0.9457\n",
      "Val   - Loss: 0.7502, Acc: 0.8017, F1: 0.7752, AUC: 0.8773\n",
      "Saved model: epoch_40_multimodal_densenet.pth\n",
      "Current learning rate: 0.000001\n",
      "\n",
      "Epoch 41/50 - Training\n"
     ]
    },
    {
     "name": "stderr",
     "output_type": "stream",
     "text": [
      "Training Batches: 100%|██████████| 91/91 [05:02<00:00,  3.33s/it]\n"
     ]
    },
    {
     "name": "stdout",
     "output_type": "stream",
     "text": [
      "\n",
      "Epoch 41/50 - Validation\n"
     ]
    },
    {
     "name": "stderr",
     "output_type": "stream",
     "text": [
      "Validation Batches: 100%|██████████| 31/31 [00:40<00:00,  1.30s/it]\n"
     ]
    },
    {
     "name": "stdout",
     "output_type": "stream",
     "text": [
      "\n",
      "Epoch 41 Summary:\n",
      "Train - Loss: 0.0352, Acc: 0.9945, F1: 0.9885, AUC: 0.9632\n",
      "Val   - Loss: 0.7176, Acc: 0.8017, F1: 0.7741, AUC: 0.8798\n",
      "Saved model: epoch_41_multimodal_densenet.pth\n",
      "Current learning rate: 0.000001\n",
      "\n",
      "Epoch 42/50 - Training\n"
     ]
    },
    {
     "name": "stderr",
     "output_type": "stream",
     "text": [
      "Training Batches: 100%|██████████| 91/91 [08:02<00:00,  5.30s/it]\n"
     ]
    },
    {
     "name": "stdout",
     "output_type": "stream",
     "text": [
      "\n",
      "Epoch 42/50 - Validation\n"
     ]
    },
    {
     "name": "stderr",
     "output_type": "stream",
     "text": [
      "Validation Batches: 100%|██████████| 31/31 [00:39<00:00,  1.28s/it]\n"
     ]
    },
    {
     "name": "stdout",
     "output_type": "stream",
     "text": [
      "\n",
      "Epoch 42 Summary:\n",
      "Train - Loss: 0.0467, Acc: 0.9876, F1: 0.9790, AUC: 0.9743\n",
      "Val   - Loss: 0.7495, Acc: 0.8099, F1: 0.7870, AUC: 0.8796\n",
      "Saved model: epoch_42_multimodal_densenet.pth\n",
      "New best model saved with Val F1: 0.7870\n",
      "Current learning rate: 0.000001\n",
      "\n",
      "Epoch 43/50 - Training\n"
     ]
    },
    {
     "name": "stderr",
     "output_type": "stream",
     "text": [
      "Training Batches: 100%|██████████| 91/91 [07:58<00:00,  5.26s/it]\n"
     ]
    },
    {
     "name": "stdout",
     "output_type": "stream",
     "text": [
      "\n",
      "Epoch 43/50 - Validation\n"
     ]
    },
    {
     "name": "stderr",
     "output_type": "stream",
     "text": [
      "Validation Batches: 100%|██████████| 31/31 [00:53<00:00,  1.74s/it]\n"
     ]
    },
    {
     "name": "stdout",
     "output_type": "stream",
     "text": [
      "\n",
      "Epoch 43 Summary:\n",
      "Train - Loss: 0.0501, Acc: 0.9862, F1: 0.9755, AUC: 0.9667\n",
      "Val   - Loss: 0.7245, Acc: 0.8017, F1: 0.7718, AUC: 0.8794\n",
      "Saved model: epoch_43_multimodal_densenet.pth\n",
      "Current learning rate: 0.000001\n",
      "\n",
      "Epoch 44/50 - Training\n"
     ]
    },
    {
     "name": "stderr",
     "output_type": "stream",
     "text": [
      "Training Batches: 100%|██████████| 91/91 [08:57<00:00,  5.90s/it]\n"
     ]
    },
    {
     "name": "stdout",
     "output_type": "stream",
     "text": [
      "\n",
      "Epoch 44/50 - Validation\n"
     ]
    },
    {
     "name": "stderr",
     "output_type": "stream",
     "text": [
      "Validation Batches: 100%|██████████| 31/31 [00:18<00:00,  1.70it/s]\n"
     ]
    },
    {
     "name": "stdout",
     "output_type": "stream",
     "text": [
      "\n",
      "Epoch 44 Summary:\n",
      "Train - Loss: 0.0429, Acc: 0.9876, F1: 0.9779, AUC: 0.9669\n",
      "Val   - Loss: 0.7272, Acc: 0.8140, F1: 0.7970, AUC: 0.8803\n",
      "Saved model: epoch_44_multimodal_densenet.pth\n",
      "New best model saved with Val F1: 0.7970\n",
      "Current learning rate: 0.000001\n",
      "\n",
      "Epoch 45/50 - Training\n"
     ]
    },
    {
     "name": "stderr",
     "output_type": "stream",
     "text": [
      "Training Batches: 100%|██████████| 91/91 [03:47<00:00,  2.50s/it]\n"
     ]
    },
    {
     "name": "stdout",
     "output_type": "stream",
     "text": [
      "\n",
      "Epoch 45/50 - Validation\n"
     ]
    },
    {
     "name": "stderr",
     "output_type": "stream",
     "text": [
      "Validation Batches: 100%|██████████| 31/31 [00:18<00:00,  1.68it/s]\n"
     ]
    },
    {
     "name": "stdout",
     "output_type": "stream",
     "text": [
      "\n",
      "Epoch 45 Summary:\n",
      "Train - Loss: 0.0344, Acc: 0.9959, F1: 0.9907, AUC: 0.9779\n",
      "Val   - Loss: 0.7445, Acc: 0.8140, F1: 0.7970, AUC: 0.8810\n",
      "Saved model: epoch_45_multimodal_densenet.pth\n",
      "Current learning rate: 0.000001\n",
      "\n",
      "Epoch 46/50 - Training\n"
     ]
    },
    {
     "name": "stderr",
     "output_type": "stream",
     "text": [
      "Training Batches: 100%|██████████| 91/91 [03:42<00:00,  2.45s/it]\n"
     ]
    },
    {
     "name": "stdout",
     "output_type": "stream",
     "text": [
      "\n",
      "Epoch 46/50 - Validation\n"
     ]
    },
    {
     "name": "stderr",
     "output_type": "stream",
     "text": [
      "Validation Batches: 100%|██████████| 31/31 [00:17<00:00,  1.74it/s]\n"
     ]
    },
    {
     "name": "stdout",
     "output_type": "stream",
     "text": [
      "\n",
      "Epoch 46 Summary:\n",
      "Train - Loss: 0.0413, Acc: 0.9890, F1: 0.9818, AUC: 0.9595\n",
      "Val   - Loss: 0.7414, Acc: 0.8017, F1: 0.7721, AUC: 0.8803\n",
      "Saved model: epoch_46_multimodal_densenet.pth\n",
      "Current learning rate: 0.000001\n",
      "\n",
      "Epoch 47/50 - Training\n"
     ]
    },
    {
     "name": "stderr",
     "output_type": "stream",
     "text": [
      "Training Batches: 100%|██████████| 91/91 [03:41<00:00,  2.43s/it]\n"
     ]
    },
    {
     "name": "stdout",
     "output_type": "stream",
     "text": [
      "\n",
      "Epoch 47/50 - Validation\n"
     ]
    },
    {
     "name": "stderr",
     "output_type": "stream",
     "text": [
      "Validation Batches: 100%|██████████| 31/31 [00:18<00:00,  1.68it/s]\n"
     ]
    },
    {
     "name": "stdout",
     "output_type": "stream",
     "text": [
      "\n",
      "Epoch 47 Summary:\n",
      "Train - Loss: 0.0529, Acc: 0.9876, F1: 0.9757, AUC: 0.9595\n",
      "Val   - Loss: 0.7292, Acc: 0.8182, F1: 0.7976, AUC: 0.8783\n",
      "Saved model: epoch_47_multimodal_densenet.pth\n",
      "New best model saved with Val F1: 0.7976\n",
      "Current learning rate: 0.000001\n",
      "\n",
      "Epoch 48/50 - Training\n"
     ]
    },
    {
     "name": "stderr",
     "output_type": "stream",
     "text": [
      "Training Batches: 100%|██████████| 91/91 [03:42<00:00,  2.45s/it]\n"
     ]
    },
    {
     "name": "stdout",
     "output_type": "stream",
     "text": [
      "\n",
      "Epoch 48/50 - Validation\n"
     ]
    },
    {
     "name": "stderr",
     "output_type": "stream",
     "text": [
      "Validation Batches: 100%|██████████| 31/31 [00:18<00:00,  1.69it/s]\n"
     ]
    },
    {
     "name": "stdout",
     "output_type": "stream",
     "text": [
      "\n",
      "Epoch 48 Summary:\n",
      "Train - Loss: 0.0466, Acc: 0.9821, F1: 0.9706, AUC: 0.9683\n",
      "Val   - Loss: 0.7099, Acc: 0.8058, F1: 0.7883, AUC: 0.8809\n",
      "Saved model: epoch_48_multimodal_densenet.pth\n",
      "Current learning rate: 0.000001\n",
      "\n",
      "Epoch 49/50 - Training\n"
     ]
    },
    {
     "name": "stderr",
     "output_type": "stream",
     "text": [
      "Training Batches: 100%|██████████| 91/91 [03:40<00:00,  2.42s/it]\n"
     ]
    },
    {
     "name": "stdout",
     "output_type": "stream",
     "text": [
      "\n",
      "Epoch 49/50 - Validation\n"
     ]
    },
    {
     "name": "stderr",
     "output_type": "stream",
     "text": [
      "Validation Batches: 100%|██████████| 31/31 [00:18<00:00,  1.71it/s]\n"
     ]
    },
    {
     "name": "stdout",
     "output_type": "stream",
     "text": [
      "\n",
      "Epoch 49 Summary:\n",
      "Train - Loss: 0.0443, Acc: 0.9903, F1: 0.9800, AUC: 0.9559\n",
      "Val   - Loss: 0.7355, Acc: 0.8017, F1: 0.7721, AUC: 0.8810\n",
      "Saved model: epoch_49_multimodal_densenet.pth\n",
      "Current learning rate: 0.000001\n",
      "\n",
      "Epoch 50/50 - Training\n"
     ]
    },
    {
     "name": "stderr",
     "output_type": "stream",
     "text": [
      "Training Batches: 100%|██████████| 91/91 [04:14<00:00,  2.80s/it]\n"
     ]
    },
    {
     "name": "stdout",
     "output_type": "stream",
     "text": [
      "\n",
      "Epoch 50/50 - Validation\n"
     ]
    },
    {
     "name": "stderr",
     "output_type": "stream",
     "text": [
      "Validation Batches: 100%|██████████| 31/31 [00:18<00:00,  1.66it/s]\n"
     ]
    },
    {
     "name": "stdout",
     "output_type": "stream",
     "text": [
      "\n",
      "Epoch 50 Summary:\n",
      "Train - Loss: 0.0645, Acc: 0.9848, F1: 0.9725, AUC: 0.9620\n",
      "Val   - Loss: 0.7407, Acc: 0.8017, F1: 0.7721, AUC: 0.8799\n",
      "Saved model: epoch_50_multimodal_densenet.pth\n",
      "Current learning rate: 0.000001\n",
      "Loaded best model weights\n",
      "DenseNet Classification Report:\n",
      "              precision    recall  f1-score   support\n",
      "\n",
      "          AD     0.8256    0.8875    0.8554        80\n",
      "         MCI     0.8060    0.6667    0.7297        81\n",
      "          CN     0.7640    0.8395    0.8000        81\n",
      "\n",
      "    accuracy                         0.7975       242\n",
      "   macro avg     0.7985    0.7979    0.7951       242\n",
      "weighted avg     0.7984    0.7975    0.7948       242\n",
      "\n",
      "Saved predictions to test_predictions_densenet.csv\n"
     ]
    }
   ],
   "source": [
    "model = MultimodalDenseNet(num_classes=3, clinical_dim=3).to(device)\n",
    "\n",
    "paired_df = pd.read_csv(\"paired_dataset_smote.csv\")\n",
    "class_counts = paired_df['label'].value_counts().sort_index()\n",
    "class_weights = torch.tensor(1.0 / class_counts, dtype=torch.float32).to(device)\n",
    "class_weights = class_weights / class_weights.sum() * 3\n",
    "print(\"Class weights:\", class_weights)\n",
    "\n",
    "def train_model(model, train_loader, val_loader, criterion, optimizer, num_epochs=50, patience=10):\n",
    "    best_f1 = 0.0\n",
    "    best_model_wts = copy.deepcopy(model.state_dict())\n",
    "    patience_counter = 0\n",
    "    scheduler = optim.lr_scheduler.ReduceLROnPlateau(optimizer, mode='max', factor=0.1, patience=5)\n",
    "    for epoch in range(num_epochs):\n",
    "        model.train()\n",
    "        train_loss, train_acc, train_f1, train_auc = 0.0, 0.0, 0.0, 0.0\n",
    "        train_samples = 0\n",
    "        \n",
    "        print(f\"\\nEpoch {epoch+1}/{num_epochs} - Training\")\n",
    "        for batch_idx, (img, clin, label) in enumerate(tqdm(train_loader, desc=\"Training Batches\")):\n",
    "            img, clin, label = img.to(device), clin.to(device), label.to(device)\n",
    "            optimizer.zero_grad()\n",
    "            pred = model(img, clin)\n",
    "            loss = criterion(pred, label)\n",
    "            loss.backward()\n",
    "            optimizer.step()\n",
    "            \n",
    "            batch_size = img.size(0)\n",
    "            batch_loss = loss.item()\n",
    "            batch_acc = accuracy(pred, label).item()\n",
    "            batch_f1 = f1_score(pred, label).item()\n",
    "            batch_auc = auroc(pred, label).item()\n",
    "            \n",
    "            train_loss += batch_loss * batch_size\n",
    "            train_acc += batch_acc * batch_size\n",
    "            train_f1 += batch_f1 * batch_size\n",
    "            train_auc += batch_auc * batch_size\n",
    "            train_samples += batch_size\n",
    "        \n",
    "        train_loss /= train_samples\n",
    "        train_acc /= train_samples\n",
    "        train_f1 /= train_samples\n",
    "        train_auc /= train_samples\n",
    "        \n",
    "        model.eval()\n",
    "        val_loss, val_acc, val_f1, val_auc = 0.0, 0.0, 0.0, 0.0\n",
    "        val_samples = 0\n",
    "        \n",
    "        print(f\"\\nEpoch {epoch+1}/{num_epochs} - Validation\")\n",
    "        with torch.no_grad():\n",
    "            for batch_idx, (img, clin, label) in enumerate(tqdm(val_loader, desc=\"Validation Batches\")):\n",
    "                img, clin, label = img.to(device), clin.to(device), label.to(device)\n",
    "                pred = model(img, clin)\n",
    "                loss = criterion(pred, label)\n",
    "                \n",
    "                batch_size = img.size(0)\n",
    "                batch_loss = loss.item()\n",
    "                batch_acc = accuracy(pred, label).item()\n",
    "                batch_f1 = f1_score(pred, label).item()\n",
    "                batch_auc = auroc(pred, label).item()\n",
    "                \n",
    "                val_loss += batch_loss * batch_size\n",
    "                val_acc += batch_acc * batch_size\n",
    "                val_f1 += batch_f1 * batch_size\n",
    "                val_auc += batch_auc * batch_size\n",
    "                val_samples += batch_size\n",
    "        \n",
    "        val_loss /= val_samples\n",
    "        val_acc /= val_samples\n",
    "        val_f1 /= val_samples\n",
    "        val_auc /= val_samples\n",
    "        \n",
    "        print(f\"\\nEpoch {epoch+1} Summary:\")\n",
    "        print(f\"Train - Loss: {train_loss:.4f}, Acc: {train_acc:.4f}, F1: {train_f1:.4f}, AUC: {train_auc:.4f}\")\n",
    "        print(f\"Val   - Loss: {val_loss:.4f}, Acc: {val_acc:.4f}, F1: {val_f1:.4f}, AUC: {val_auc:.4f}\")\n",
    "        \n",
    "        epoch_save_path = f\"epoch_{epoch+1}_multimodal_densenet.pth\"\n",
    "        torch.save(model.state_dict(), epoch_save_path)\n",
    "        print(f\"Saved model: {epoch_save_path}\")\n",
    "        \n",
    "        if val_f1 > best_f1:\n",
    "            best_f1 = val_f1\n",
    "            best_model_wts = copy.deepcopy(model.state_dict())\n",
    "            torch.save(best_model_wts, \"best_multimodal_densenet.pth\")\n",
    "            print(f\"New best model saved with Val F1: {best_f1:.4f}\")\n",
    "            patience_counter = 0\n",
    "        else:\n",
    "            patience_counter += 1\n",
    "        \n",
    "        scheduler.step(val_f1)\n",
    "        print(f\"Current learning rate: {optimizer.param_groups[0]['lr']:.6f}\")\n",
    "        \n",
    "        if patience_counter >= patience:\n",
    "            print(\"Early stopping triggered\")\n",
    "            break\n",
    "    \n",
    "    model.load_state_dict(best_model_wts)\n",
    "    print(\"Loaded best model weights\")\n",
    "    return model\n",
    "\n",
    "def generate_classification_report(model, test_loader, device, weights_path=\"best_multimodal_densenet.pth\"):\n",
    "    model.load_state_dict(torch.load(weights_path))\n",
    "    model.to(device)\n",
    "    model.eval()\n",
    "    \n",
    "    all_preds = []\n",
    "    all_labels = []\n",
    "    \n",
    "    with torch.no_grad():\n",
    "        for img, clin, label in test_loader:\n",
    "            img, clin, label = img.to(device), clin.to(device), label.to(device)\n",
    "            pred = model(img, clin)\n",
    "            pred_classes = torch.argmax(pred, dim=1)\n",
    "            all_preds.extend(pred_classes.cpu().numpy())\n",
    "            all_labels.extend(label.cpu().numpy())\n",
    "    \n",
    "    report = classification_report(all_labels, all_preds, target_names=['AD', 'MCI', 'CN'], digits=4)\n",
    "    print(\"DenseNet Classification Report:\")\n",
    "    print(report)\n",
    "    \n",
    "    results_df = pd.DataFrame({\n",
    "        'true_label': all_labels,\n",
    "        'predicted_label': all_preds\n",
    "    })\n",
    "    results_df.to_csv(\"test_predictions_densenet.csv\", index=False)\n",
    "    print(\"Saved predictions to test_predictions_densenet.csv\")\n",
    "    \n",
    "    return report, results_df\n",
    "\n",
    "model = train_model(model, train_loader, val_loader, criterion, optimizer, num_epochs=50, patience=10)\n",
    "report, results_df = generate_classification_report(model, test_loader, device)"
   ]
  },
  {
   "cell_type": "markdown",
   "id": "af8c8684",
   "metadata": {},
   "source": [
    "CLASSIFICATION REPORTS"
   ]
  },
  {
   "cell_type": "code",
   "execution_count": null,
   "id": "eb989aa9",
   "metadata": {},
   "outputs": [
    {
     "name": "stderr",
     "output_type": "stream",
     "text": [
      "C:\\Users\\HP\\AppData\\Local\\Packages\\PythonSoftwareFoundation.Python.3.10_qbz5n2kfra8p0\\LocalCache\\local-packages\\Python310\\site-packages\\tqdm\\auto.py:21: TqdmWarning: IProgress not found. Please update jupyter and ipywidgets. See https://ipywidgets.readthedocs.io/en/stable/user_install.html\n",
      "  from .autonotebook import tqdm as notebook_tqdm\n"
     ]
    },
    {
     "name": "stdout",
     "output_type": "stream",
     "text": [
      "Using device: cpu\n"
     ]
    },
    {
     "name": "stderr",
     "output_type": "stream",
     "text": [
      "C:\\Users\\HP\\AppData\\Local\\Packages\\PythonSoftwareFoundation.Python.3.10_qbz5n2kfra8p0\\LocalCache\\local-packages\\Python310\\site-packages\\torchvision\\models\\_utils.py:208: UserWarning: The parameter 'pretrained' is deprecated since 0.13 and may be removed in the future, please use 'weights' instead.\n",
      "  warnings.warn(\n",
      "C:\\Users\\HP\\AppData\\Local\\Packages\\PythonSoftwareFoundation.Python.3.10_qbz5n2kfra8p0\\LocalCache\\local-packages\\Python310\\site-packages\\torchvision\\models\\_utils.py:223: UserWarning: Arguments other than a weight enum or `None` for 'weights' are deprecated since 0.13 and may be removed in the future. The current behavior is equivalent to passing `weights=ResNet50_Weights.IMAGENET1K_V1`. You can also use `weights=ResNet50_Weights.DEFAULT` to get the most up-to-date weights.\n",
      "  warnings.warn(msg)\n"
     ]
    },
    {
     "name": "stdout",
     "output_type": "stream",
     "text": [
      "Loaded model weights from best_multimodal_mri.pth\n",
      "Running inference on test set...\n"
     ]
    },
    {
     "name": "stderr",
     "output_type": "stream",
     "text": [
      "Test Batches: 100%|██████████| 31/31 [00:31<00:00,  1.00s/it]"
     ]
    },
    {
     "name": "stdout",
     "output_type": "stream",
     "text": [
      "\n",
      "Classification Report:\n",
      "              precision    recall  f1-score   support\n",
      "\n",
      "          AD     0.9000    0.9000    0.9000        80\n",
      "         MCI     0.8696    0.7407    0.8000        81\n",
      "          CN     0.7957    0.9136    0.8506        81\n",
      "\n",
      "    accuracy                         0.8512       242\n",
      "   macro avg     0.8551    0.8514    0.8502       242\n",
      "weighted avg     0.8549    0.8512    0.8500       242\n",
      "\n",
      "Saved classification report to classification_report.txt\n",
      "Saved predictions to test_predictions_resnet.csv\n"
     ]
    },
    {
     "name": "stderr",
     "output_type": "stream",
     "text": [
      "\n"
     ]
    }
   ],
   "source": [
    "def generate_classification_report(model, test_loader, device, weights_path=\"best_multimodal_mri.pth\"):\n",
    "    model.load_state_dict(torch.load(weights_path))\n",
    "    print(f\"Loaded model weights from {weights_path}\")\n",
    "    model.to(device)\n",
    "    model.eval()\n",
    "    all_preds = []\n",
    "    all_labels = []\n",
    "    print(\"Running inference on test set...\")\n",
    "    with torch.no_grad():\n",
    "        for img, clin, label in tqdm(test_loader, desc=\"Test Batches\"):\n",
    "            img, clin, label = img.to(device), clin.to(device), label.to(device)\n",
    "            pred = model(img, clin)\n",
    "            pred_classes = torch.argmax(pred, dim=1)\n",
    "            all_preds.extend(pred_classes.cpu().numpy())\n",
    "            all_labels.extend(label.cpu().numpy())\n",
    "    report = classification_report(all_labels, all_preds, target_names=['AD', 'MCI', 'CN'], digits=4)\n",
    "    print(\"\\nClassification Report:\")\n",
    "    print(report)\n",
    "    results_df = pd.DataFrame({\n",
    "        'true_label': all_labels,\n",
    "        'predicted_label': all_preds\n",
    "    })\n",
    "    results_df.to_csv(\"test_predictions_resnet.csv\", index=False)\n",
    "    return report, results_df\n",
    "\n",
    "model = MultimodalMRIModel(num_classes=3, clinical_dim=3)\n",
    "report, results_df = generate_classification_report(model, test_loader, device, weights_path=\"best_multimodal_mri.pth\")"
   ]
  },
  {
   "cell_type": "code",
   "execution_count": null,
   "id": "00a4f04c",
   "metadata": {},
   "outputs": [
    {
     "name": "stdout",
     "output_type": "stream",
     "text": [
      "Using device: cpu\n",
      "Loaded model weights from best_multimodal_densenet.pth\n",
      "Running inference on test set...\n"
     ]
    },
    {
     "name": "stderr",
     "output_type": "stream",
     "text": [
      "Test Batches: 100%|██████████| 31/31 [00:12<00:00,  2.51it/s]"
     ]
    },
    {
     "name": "stdout",
     "output_type": "stream",
     "text": [
      "\n",
      "DenseNet Classification Report:\n",
      "              precision    recall  f1-score   support\n",
      "\n",
      "          AD     0.8256    0.8875    0.8554        80\n",
      "         MCI     0.8060    0.6667    0.7297        81\n",
      "          CN     0.7640    0.8395    0.8000        81\n",
      "\n",
      "    accuracy                         0.7975       242\n",
      "   macro avg     0.7985    0.7979    0.7951       242\n",
      "weighted avg     0.7984    0.7975    0.7948       242\n",
      "\n",
      "Saved classification report to classification_report_densenet.txt\n",
      "Saved predictions to test_predictions_densenet.csv\n"
     ]
    },
    {
     "name": "stderr",
     "output_type": "stream",
     "text": [
      "\n"
     ]
    }
   ],
   "source": [
    "def generate_classification_report(model, test_loader, device, weights_path=\"best_multimodal_densenet.pth\"):\n",
    "    model.load_state_dict(torch.load(weights_path))\n",
    "    print(f\"Loaded model weights from {weights_path}\")\n",
    "    model.to(device)\n",
    "    model.eval()\n",
    "    all_preds = []\n",
    "    all_labels = []\n",
    "    print(\"Running inference on test set...\")\n",
    "    with torch.no_grad():\n",
    "        for img, clin, label in tqdm(test_loader, desc=\"Test Batches\"):\n",
    "            img, clin, label = img.to(device), clin.to(device), label.to(device)\n",
    "            pred = model(img, clin)\n",
    "            pred_classes = torch.argmax(pred, dim=1)\n",
    "            all_preds.extend(pred_classes.cpu().numpy())\n",
    "            all_labels.extend(label.cpu().numpy())\n",
    "    report = classification_report(all_labels, all_preds, target_names=['AD', 'MCI', 'CN'], digits=4)\n",
    "    print(\"\\nDenseNet Classification Report:\")\n",
    "    print(report)\n",
    "    results_df = pd.DataFrame({\n",
    "        'true_label': all_labels,\n",
    "        'predicted_label': all_preds\n",
    "    })\n",
    "    results_df.to_csv(\"test_predictions_densenet.csv\", index=False)\n",
    "    print(\"Saved predictions to test_predictions_densenet.csv\")\n",
    "    return report, results_df\n",
    "\n",
    "model = MultimodalDenseNet(num_classes=3, clinical_dim=3)\n",
    "report, results_df = generate_classification_report(model, test_loader, device, weights_path=\"best_multimodal_densenet.pth\")"
   ]
  },
  {
   "cell_type": "code",
   "execution_count": null,
   "id": "acf048cb",
   "metadata": {},
   "outputs": [],
   "source": [
    "from scipy.stats import mode\n",
    "\n",
    "class MultimodalEfficientNet(nn.Module):\n",
    "    def __init__(self, num_classes=3, clinical_dim=3):\n",
    "        super(MultimodalEfficientNet, self).__init__()\n",
    "        self.efficientnet = timm.create_model('efficientnet_b0', pretrained=True, in_chans=1)\n",
    "        for param in self.efficientnet.conv_stem.parameters():\n",
    "            param.requires_grad = False\n",
    "        for param in self.efficientnet.bn1.parameters():\n",
    "            param.requires_grad = False\n",
    "        self.efficientnet.classifier = nn.Identity()\n",
    "        self.feature_dim = 1280\n",
    "        self.clinical_mlp = nn.Sequential(\n",
    "            nn.Linear(clinical_dim, 64),\n",
    "            nn.ReLU(),\n",
    "            nn.Dropout(0.3),\n",
    "            nn.Linear(64, 64),\n",
    "            nn.ReLU()\n",
    "        )\n",
    "        self.fc = nn.Sequential(\n",
    "            nn.Linear(1280 + 64, 128),\n",
    "            nn.ReLU(),\n",
    "            nn.Dropout(0.3),\n",
    "            nn.Linear(128, num_classes)\n",
    "        )\n",
    "\n",
    "    def forward(self, images, clinical):\n",
    "        img_features = self.efficientnet(images)\n",
    "        clin_features = self.clinical_mlp(clinical)\n",
    "        combined = torch.cat((img_features, clin_features), dim=1)\n",
    "        output = self.fc(combined)\n",
    "        return output\n"
   ]
  },
  {
   "cell_type": "markdown",
   "id": "b8316654",
   "metadata": {},
   "source": [
    "ENSEMBLE CLASSIFICATION"
   ]
  },
  {
   "cell_type": "code",
   "execution_count": null,
   "id": "cab60f24",
   "metadata": {},
   "outputs": [
    {
     "name": "stdout",
     "output_type": "stream",
     "text": [
      "Using device: cpu\n",
      "Test samples: 242\n",
      "Loaded weights: ['best_multimodal_mri.pth', 'best_multimodal_densenet.pth', 'best_multimodal_efficientnet.pth']\n",
      "Running ensemble inference on test set...\n"
     ]
    },
    {
     "name": "stderr",
     "output_type": "stream",
     "text": [
      "Test Batches: 100%|██████████| 31/31 [01:03<00:00,  2.06s/it]"
     ]
    },
    {
     "name": "stdout",
     "output_type": "stream",
     "text": [
      "\n",
      "Ensemble Classification Report (Soft Voting):\n",
      "              precision    recall  f1-score   support\n",
      "\n",
      "          AD     0.8452    0.8875    0.8659        80\n",
      "         MCI     0.8261    0.7037    0.7600        81\n",
      "          CN     0.7416    0.8148    0.7765        81\n",
      "\n",
      "    accuracy                         0.8017       242\n",
      "   macro avg     0.8043    0.8020    0.8008       242\n",
      "weighted avg     0.8041    0.8017    0.8005       242\n",
      "\n",
      "Saved classification report to classification_report_ensemble.txt\n",
      "Saved predictions to test_predictions_ensemble.csv\n"
     ]
    },
    {
     "name": "stderr",
     "output_type": "stream",
     "text": [
      "\n"
     ]
    }
   ],
   "source": [
    "test_df = pd.read_csv(\"test_smote.csv\")\n",
    "print(f\"Test samples: {len(test_df)}\")\n",
    "test_dataset = ADNIDataset(test_df, transform=test_transform)\n",
    "\n",
    "batch_size = 8\n",
    "test_loader = DataLoader(\n",
    "    test_dataset,\n",
    "    batch_size=batch_size,\n",
    "    shuffle=False,\n",
    "    num_workers=0,  \n",
    "    pin_memory=False\n",
    ")\n",
    "\n",
    "def generate_ensemble_classification_report(models, weights_paths, test_loader, device):\n",
    "    resnet_model = models[0]\n",
    "    densenet_model = models[1]\n",
    "    efficientnet_model = models[2]\n",
    "    resnet_model.load_state_dict(torch.load(weights_paths[0], map_location=torch.device('cpu')))\n",
    "    densenet_model.load_state_dict(torch.load(weights_paths[1], map_location=torch.device('cpu')))\n",
    "    efficientnet_model.load_state_dict(torch.load(weights_paths[2], map_location=torch.device('cpu')))\n",
    "    print(f\"Loaded weights: {weights_paths}\")\n",
    "    resnet_model.to(device)\n",
    "    densenet_model.to(device)\n",
    "    efficientnet_model.to(device)\n",
    "    \n",
    "    # Set to evaluation mode\n",
    "    resnet_model.eval()\n",
    "    densenet_model.eval()\n",
    "    efficientnet_model.eval()\n",
    "    all_preds_soft = []\n",
    "    all_labels = []\n",
    "    all_probs = []  \n",
    "    print(\"Running ensemble inference on test set...\")\n",
    "    with torch.no_grad():\n",
    "        for img, clin, label in tqdm(test_loader, desc=\"Test Batches\"):\n",
    "            img, clin, label = img.to(device), clin.to(device), label.to(device) \n",
    "            # Get predictions from each model\n",
    "            pred_resnet = resnet_model(img, clin)\n",
    "            pred_densenet = densenet_model(img, clin)\n",
    "            pred_efficientnet = efficientnet_model(img, clin)\n",
    "            # Converts logits to probabilities via softmax\n",
    "            probs_resnet = torch.softmax(pred_resnet, dim=1)\n",
    "            probs_densenet = torch.softmax(pred_densenet, dim=1)\n",
    "            probs_efficientnet = torch.softmax(pred_efficientnet, dim=1)\n",
    "            #Soft voting: average probabilities\n",
    "            avg_probs = (probs_resnet + probs_densenet + probs_efficientnet) / 3\n",
    "            pred_soft = torch.argmax(avg_probs, dim=1)\n",
    "            all_preds_soft.extend(pred_soft.cpu().numpy())\n",
    "            all_labels.extend(label.cpu().numpy())\n",
    "            all_probs.extend(avg_probs.cpu().numpy())\n",
    "    \n",
    "    report_soft = classification_report(all_labels, all_preds_soft, target_names=['AD', 'MCI', 'CN'], digits=4)\n",
    "    print(\"\\nEnsemble Classification Report (Soft Voting):\")\n",
    "    print(report_soft)\n",
    "    output_report_path = \"classification_report_ensemble.txt\"\n",
    "    with open(output_report_path, \"w\") as f:\n",
    "        f.write(\"Ensemble Classification Report (Soft Voting):\\n\")\n",
    "        f.write(report_soft) \n",
    "    print(f\"Saved classification report to {output_report_path}\")\n",
    "    output_csv_path = \"test_predictions_ensemble.csv\"\n",
    "    results_df = pd.DataFrame({\n",
    "        'true_label': all_labels,\n",
    "        'predicted_label_soft': all_preds_soft,\n",
    "    })\n",
    "    results_df.to_csv(output_csv_path, index=False)\n",
    "    print(f\"Saved predictions to {output_csv_path}\")\n",
    "    \n",
    "    return report_soft,  results_df\n",
    "\n",
    "resnet_model = MultimodalMRIModel(num_classes=3, clinical_dim=3)\n",
    "densenet_model = MultimodalDenseNet(num_classes=3, clinical_dim=3)\n",
    "efficientnet_model = MultimodalEfficientNet(num_classes=3, clinical_dim=3)\n",
    "models = [resnet_model, densenet_model, efficientnet_model]\n",
    "\n",
    "# Model weights paths\n",
    "weights_paths = [\n",
    "    \"best_multimodal_mri.pth\",\n",
    "    \"best_multimodal_densenet.pth\",\n",
    "    \"best_multimodal_efficientnet.pth\"\n",
    "]\n",
    "report_soft,  results_df = generate_ensemble_classification_report(models, weights_paths, test_loader, device)"
   ]
  },
  {
   "cell_type": "code",
   "execution_count": null,
   "id": "8f2752d0",
   "metadata": {},
   "outputs": [],
   "source": []
  }
 ],
 "metadata": {
  "kernelspec": {
   "display_name": "Python 3",
   "language": "python",
   "name": "python3"
  },
  "language_info": {
   "codemirror_mode": {
    "name": "ipython",
    "version": 3
   },
   "file_extension": ".py",
   "mimetype": "text/x-python",
   "name": "python",
   "nbconvert_exporter": "python",
   "pygments_lexer": "ipython3",
   "version": "3.10.11"
  }
 },
 "nbformat": 4,
 "nbformat_minor": 5
}

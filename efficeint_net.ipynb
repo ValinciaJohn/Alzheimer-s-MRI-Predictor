{
  "cells": [
    {
      "cell_type": "code",
      "execution_count": null,
      "metadata": {
        "colab": {
          "base_uri": "https://localhost:8080/"
        },
        "id": "V2vxwDQlDdNZ",
        "outputId": "fbafe15b-3fe2-4a4d-ddec-e7f374b46d9d"
      },
      "outputs": [
        {
          "name": "stdout",
          "output_type": "stream",
          "text": [
            "CSV exists: True\n",
            "CSV rows: 725\n",
            "Columns: ['Image Data ID', 'Subject', 'mri_path', 'clinical', 'label']\n",
            "Sample data:\n",
            "           Image Data ID     Subject             mri_path  \\\n",
            "0                 I40445  032_S_0214  mri_png\\I119084.png   \n",
            "1                 I54651  073_S_0518  mri_png\\I119233.png   \n",
            "2                 I59711  003_S_0907   mri_png\\I52781.png   \n",
            "3                I119135  116_S_0392   mri_png\\I59690.png   \n",
            "4  synthetic_1187_I35841  099_S_0090   mri_png\\I35841.png   \n",
            "\n",
            "                         clinical  label  \n",
            "0  [0.1714285714285714, 0.0, 1.0]      1  \n",
            "1  [0.3714285714285714, 1.0, 0.0]      1  \n",
            "2  [0.4857142857142855, 0.0, 1.0]      2  \n",
            "3                 [0.8, 1.0, 0.0]      0  \n",
            "4  [0.5714285714285714, 0.0, 1.0]      2  \n",
            "Label counts:\n",
            "label\n",
            "2    242\n",
            "0    242\n",
            "1    241\n",
            "Name: count, dtype: int64\n",
            "\n",
            "PNG dir exists: True\n",
            "PNG files: 830\n",
            "Sample PNGs: ['I119175.png', 'I119180.png', 'I119300.png', 'I138912.png', 'I118779.png']\n"
          ]
        }
      ],
      "source": [
        "import pandas as pd\n",
        "import os\n",
        "\n",
        "csv_path = \"train_smote.csv\" \n",
        "png_base_path = \"/content/drive/MyDrive/dl_package/mri_png\"    \n",
        "print(f\"CSV exists: {os.path.exists(csv_path)}\")\n",
        "if os.path.exists(csv_path):\n",
        "    df = pd.read_csv(csv_path)\n",
        "    print(f\"CSV rows: {len(df)}\")\n",
        "    print(f\"Columns: {list(df.columns)}\")\n",
        "    print(f\"Sample data:\\n{df.head()}\")\n",
        "    print(f\"Label counts:\\n{df['label'].value_counts()}\")\n",
        "print(f\"\\nPNG dir exists: {os.path.exists(png_base_path)}\")\n",
        "if os.path.exists(png_base_path):\n",
        "    png_files = os.listdir(png_base_path)\n",
        "    print(f\"PNG files: {len(png_files)}\")\n",
        "    print(f\"Sample PNGs: {png_files[:5]}\")"
      ]
    },
    {
      "cell_type": "markdown",
      "metadata": {},
      "source": [
        "EfficientNet-B0 "
      ]
    },
    {
      "cell_type": "code",
      "execution_count": null,
      "metadata": {},
      "outputs": [],
      "source": [
        "import torch\n",
        "import torch.nn as nn\n",
        "import torch.optim as optim\n",
        "from torch.utils.data import Dataset, DataLoader\n",
        "from torchmetrics import Accuracy, F1Score, AUROC\n",
        "import pandas as pd\n",
        "import cv2\n",
        "import numpy as np\n",
        "from tqdm import tqdm\n",
        "import copy\n",
        "from sklearn.metrics import classification_report\n",
        "import timm\n",
        "import albumentations as A\n",
        "from albumentations.pytorch import ToTensorV2\n",
        "import os\n",
        "\n",
        "class MultimodalEfficientNet(nn.Module):\n",
        "    def __init__(self, num_classes=3, clinical_dim=3):\n",
        "        super(MultimodalEfficientNet, self).__init__()\n",
        "        self.efficientnet = timm.create_model('efficientnet_b0', pretrained=True, in_chans=1)\n",
        "        # Freezes conv_stem and bn1 (early layers) to preserve pretrained features\n",
        "        # Freezing the stem retains generic features, allowing later layers to adapt to MRIs\n",
        "        for param in self.efficientnet.conv_stem.parameters():\n",
        "            param.requires_grad = False\n",
        "        for param in self.efficientnet.bn1.parameters():\n",
        "            param.requires_grad = False\n",
        "        self.efficientnet.classifier = nn.Identity()\n",
        "        self.feature_dim = 1280\n",
        "\n",
        "        self.clinical_mlp = nn.Sequential(\n",
        "            nn.Linear(clinical_dim, 64),\n",
        "            nn.ReLU(),\n",
        "            nn.Dropout(0.3),\n",
        "            nn.Linear(64, 64),\n",
        "            nn.ReLU()\n",
        "        )\n",
        "\n",
        "        self.fc = nn.Sequential(\n",
        "            nn.Linear(1280 + 64, 128),\n",
        "            nn.ReLU(),\n",
        "            nn.Dropout(0.3),\n",
        "            nn.Linear(128, num_classes)\n",
        "        )\n",
        "\n",
        "    def forward(self, images, clinical):\n",
        "        img_features = self.efficientnet(images)\n",
        "        clin_features = self.clinical_mlp(clinical)\n",
        "        combined = torch.cat((img_features, clin_features), dim=1)\n",
        "        output = self.fc(combined)\n",
        "        return output"
      ]
    },
    {
      "cell_type": "markdown",
      "metadata": {},
      "source": [
        "ADNIDataset class, transformations, and dataset loading"
      ]
    },
    {
      "cell_type": "code",
      "execution_count": null,
      "metadata": {},
      "outputs": [],
      "source": [
        "class ADNIDataset(Dataset):\n",
        "    def __init__(self, data_df, base_path=\"/content/drive/MyDrive/dl_package/mri_png\", transform=None):\n",
        "        self.data_df = data_df\n",
        "        self.base_path = base_path\n",
        "        self.transform = transform\n",
        "        if len(self.data_df) == 0:\n",
        "            raise ValueError(f\"Dataset is empty: {len(self.data_df)} rows\")\n",
        "\n",
        "    def __len__(self):\n",
        "        return len(self.data_df)\n",
        "\n",
        "    def __getitem__(self, idx):\n",
        "        rel_path = self.data_df.iloc[idx]['mri_path'].replace('\\\\', '/').split('/')[-1]\n",
        "        img_path = os.path.join(self.base_path, rel_path)\n",
        "        img = cv2.imread(img_path, cv2.IMREAD_GRAYSCALE)\n",
        "        img = cv2.resize(img, (224, 224))\n",
        "        img = img.astype(np.float32) / 255.0\n",
        "        if self.transform:\n",
        "            augmented = self.transform(image=img)\n",
        "            img = augmented['image']\n",
        "        else:\n",
        "            img = torch.tensor(img, dtype=torch.float32).unsqueeze(0)\n",
        "        clinical_str = self.data_df.iloc[idx]['clinical']\n",
        "        clinical = np.array(eval(clinical_str), dtype=np.float32)\n",
        "        clinical = torch.tensor(clinical, dtype=torch.float32)\n",
        "        label = self.data_df.iloc[idx]['label']\n",
        "        label = torch.tensor(label, dtype=torch.long)\n",
        "        return img, clinical, label\n",
        "\n",
        "train_transform = A.Compose([\n",
        "    A.HorizontalFlip(p=0.5),\n",
        "    A.Rotate(limit=15, p=0.6),\n",
        "    A.RandomBrightnessContrast(p=0.4),\n",
        "    A.Affine(scale=(0.9, 1.1), p=0.3),  \n",
        "    A.Normalize(mean=[0.0], std=[1.0]),\n",
        "    ToTensorV2()\n",
        "])\n",
        "\n",
        "val_transform = A.Compose([\n",
        "    A.Normalize(mean=[0.0], std=[1.0]),\n",
        "    ToTensorV2()\n",
        "])\n",
        "\n",
        "train_df = pd.read_csv(\"train_smote.csv\")\n",
        "val_df = pd.read_csv(\"val_smote.csv\")\n",
        "test_df = pd.read_csv(\"test_smote.csv\")\n",
        "print(f\"Train samples: {len(train_df)}\")\n",
        "print(f\"Val samples: {len(val_df)}\")\n",
        "print(f\"Test samples: {len(test_df)}\")\n",
        "train_dataset = ADNIDataset(train_df, transform=train_transform)\n",
        "val_dataset = ADNIDataset(val_df, transform=val_transform)\n",
        "test_dataset = ADNIDataset(test_df, transform=val_transform)\n",
        "\n",
        "batch_size = 8\n",
        "train_loader = DataLoader(train_dataset, batch_size=batch_size, shuffle=True, num_workers=2, pin_memory=True)\n",
        "val_loader = DataLoader(val_dataset, batch_size=batch_size, shuffle=False, num_workers=2, pin_memory=True)\n",
        "test_loader = DataLoader(test_dataset, batch_size=batch_size, shuffle=False, num_workers=2, pin_memory=True)\n"
      ]
    },
    {
      "cell_type": "markdown",
      "metadata": {},
      "source": [
        "TRAINING PIPELINE"
      ]
    },
    {
      "cell_type": "code",
      "execution_count": null,
      "metadata": {},
      "outputs": [],
      "source": [
        "model = MultimodalEfficientNet(num_classes=3, clinical_dim=3).to(device)\n",
        "\n",
        "class_counts = train_df['label'].value_counts().sort_index()\n",
        "class_weights = torch.tensor([1.0 / class_counts[i] for i in range(3)], dtype=torch.float32).to(device)\n",
        "class_weights = class_weights / class_weights.sum() * 3\n",
        "print(\"Class weights:\", class_weights)\n",
        "#MCI is harder to classify due to subtle MRI features\n",
        "# modifies the standard cross-entropy (CE) loss by focusing training on difficult examples and reducing the influence of easy ones\n",
        "def focal_loss(pred, target, gamma=3.0, alpha=class_weights):\n",
        "    ce_loss = nn.functional.cross_entropy(pred, target, reduction='none')\n",
        "    pt = torch.exp(-ce_loss)\n",
        "    focal_loss = alpha[target] * (1 - pt) ** gamma * ce_loss\n",
        "    return focal_loss.mean()\n",
        "\n",
        "optimizer = optim.Adam(filter(lambda p: p.requires_grad, model.parameters()), lr=1e-4, weight_decay=1e-4)\n",
        "accuracy = Accuracy(task=\"multiclass\", num_classes=3).to(device)\n",
        "f1_score = F1Score(task=\"multiclass\", num_classes=3, average=\"macro\").to(device)\n",
        "auroc = AUROC(task=\"multiclass\", num_classes=3, average=\"macro\").to(device)"
      ]
    },
    {
      "cell_type": "code",
      "execution_count": null,
      "metadata": {
        "colab": {
          "base_uri": "https://localhost:8080/"
        },
        "id": "DKeD1MDxBgJV",
        "outputId": "de91f37f-ae09-44ac-8b9c-3c6662a9aa46"
      },
      "outputs": [
        {
          "name": "stdout",
          "output_type": "stream",
          "text": [
            "Using device: cuda\n",
            "Train samples: 725\n",
            "Val samples: 242\n",
            "Test samples: 242\n",
            "Class weights: tensor([0.9986, 1.0028, 0.9986], device='cuda:0')\n",
            "\n",
            "Epoch 1/50 - Training\n"
          ]
        },
        {
          "name": "stderr",
          "output_type": "stream",
          "text": [
            "Training Batches:  23%|██▎       | 21/91 [00:05<00:15,  4.49it/s]/usr/local/lib/python3.11/dist-packages/torchmetrics/utilities/prints.py:43: UserWarning: No positive samples in targets, true positive value should be meaningless. Returning zero tensor in true positive score\n",
            "  warnings.warn(*args, **kwargs)\n",
            "Training Batches: 100%|██████████| 91/91 [00:14<00:00,  6.28it/s]\n"
          ]
        },
        {
          "name": "stdout",
          "output_type": "stream",
          "text": [
            "\n",
            "Epoch 1/50 - Validation\n"
          ]
        },
        {
          "name": "stderr",
          "output_type": "stream",
          "text": [
            "Validation Batches: 100%|██████████| 31/31 [00:02<00:00, 12.85it/s]\n"
          ]
        },
        {
          "name": "stdout",
          "output_type": "stream",
          "text": [
            "\n",
            "Epoch 1 Summary:\n",
            "Train - Loss: 0.3135, Acc: 0.4041, F1: 0.3574, AUC: 0.5780\n",
            "Val   - Loss: 0.3296, Acc: 0.3140, F1: 0.2238, AUC: 0.4330\n",
            "Saved model: /content/drive/MyDrive/dl_package/epoch_1_multimodal_efficientnet.pth\n",
            "New best model saved with Val F1: 0.2238\n",
            "Current learning rate: 0.000100\n",
            "\n",
            "Epoch 2/50 - Training\n"
          ]
        },
        {
          "name": "stderr",
          "output_type": "stream",
          "text": [
            "Training Batches: 100%|██████████| 91/91 [00:08<00:00, 11.08it/s]\n"
          ]
        },
        {
          "name": "stdout",
          "output_type": "stream",
          "text": [
            "\n",
            "Epoch 2/50 - Validation\n"
          ]
        },
        {
          "name": "stderr",
          "output_type": "stream",
          "text": [
            "Validation Batches: 100%|██████████| 31/31 [00:01<00:00, 16.56it/s]\n"
          ]
        },
        {
          "name": "stdout",
          "output_type": "stream",
          "text": [
            "\n",
            "Epoch 2 Summary:\n",
            "Train - Loss: 0.2765, Acc: 0.5283, F1: 0.4709, AUC: 0.7011\n",
            "Val   - Loss: 0.2451, Acc: 0.6405, F1: 0.5583, AUC: 0.7450\n",
            "Saved model: /content/drive/MyDrive/dl_package/epoch_2_multimodal_efficientnet.pth\n",
            "New best model saved with Val F1: 0.5583\n",
            "Current learning rate: 0.000100\n",
            "\n",
            "Epoch 3/50 - Training\n"
          ]
        },
        {
          "name": "stderr",
          "output_type": "stream",
          "text": [
            "Training Batches: 100%|██████████| 91/91 [00:09<00:00,  9.67it/s]\n"
          ]
        },
        {
          "name": "stdout",
          "output_type": "stream",
          "text": [
            "\n",
            "Epoch 3/50 - Validation\n"
          ]
        },
        {
          "name": "stderr",
          "output_type": "stream",
          "text": [
            "Validation Batches: 100%|██████████| 31/31 [00:02<00:00, 11.80it/s]\n"
          ]
        },
        {
          "name": "stdout",
          "output_type": "stream",
          "text": [
            "\n",
            "Epoch 3 Summary:\n",
            "Train - Loss: 0.2262, Acc: 0.6372, F1: 0.5939, AUC: 0.7907\n",
            "Val   - Loss: 0.2142, Acc: 0.6570, F1: 0.5998, AUC: 0.7754\n",
            "Saved model: /content/drive/MyDrive/dl_package/epoch_3_multimodal_efficientnet.pth\n",
            "New best model saved with Val F1: 0.5998\n",
            "Current learning rate: 0.000100\n",
            "\n",
            "Epoch 4/50 - Training\n"
          ]
        },
        {
          "name": "stderr",
          "output_type": "stream",
          "text": [
            "Training Batches: 100%|██████████| 91/91 [00:09<00:00,  9.47it/s]\n"
          ]
        },
        {
          "name": "stdout",
          "output_type": "stream",
          "text": [
            "\n",
            "Epoch 4/50 - Validation\n"
          ]
        },
        {
          "name": "stderr",
          "output_type": "stream",
          "text": [
            "Validation Batches: 100%|██████████| 31/31 [00:02<00:00, 10.84it/s]\n"
          ]
        },
        {
          "name": "stdout",
          "output_type": "stream",
          "text": [
            "\n",
            "Epoch 4 Summary:\n",
            "Train - Loss: 0.1732, Acc: 0.7062, F1: 0.6772, AUC: 0.8771\n",
            "Val   - Loss: 0.1904, Acc: 0.7562, F1: 0.7011, AUC: 0.8069\n",
            "Saved model: /content/drive/MyDrive/dl_package/epoch_4_multimodal_efficientnet.pth\n",
            "New best model saved with Val F1: 0.7011\n",
            "Current learning rate: 0.000100\n",
            "\n",
            "Epoch 5/50 - Training\n"
          ]
        },
        {
          "name": "stderr",
          "output_type": "stream",
          "text": [
            "Training Batches: 100%|██████████| 91/91 [00:10<00:00,  9.07it/s]\n"
          ]
        },
        {
          "name": "stdout",
          "output_type": "stream",
          "text": [
            "\n",
            "Epoch 5/50 - Validation\n"
          ]
        },
        {
          "name": "stderr",
          "output_type": "stream",
          "text": [
            "Validation Batches: 100%|██████████| 31/31 [00:02<00:00, 10.98it/s]\n"
          ]
        },
        {
          "name": "stdout",
          "output_type": "stream",
          "text": [
            "\n",
            "Epoch 5 Summary:\n",
            "Train - Loss: 0.1517, Acc: 0.7779, F1: 0.7399, AUC: 0.8883\n",
            "Val   - Loss: 0.1985, Acc: 0.7190, F1: 0.6750, AUC: 0.8140\n",
            "Saved model: /content/drive/MyDrive/dl_package/epoch_5_multimodal_efficientnet.pth\n",
            "Current learning rate: 0.000100\n",
            "\n",
            "Epoch 6/50 - Training\n"
          ]
        },
        {
          "name": "stderr",
          "output_type": "stream",
          "text": [
            "Training Batches: 100%|██████████| 91/91 [00:10<00:00,  8.75it/s]\n"
          ]
        },
        {
          "name": "stdout",
          "output_type": "stream",
          "text": [
            "\n",
            "Epoch 6/50 - Validation\n"
          ]
        },
        {
          "name": "stderr",
          "output_type": "stream",
          "text": [
            "Validation Batches: 100%|██████████| 31/31 [00:02<00:00, 13.05it/s]\n"
          ]
        },
        {
          "name": "stdout",
          "output_type": "stream",
          "text": [
            "\n",
            "Epoch 6 Summary:\n",
            "Train - Loss: 0.1119, Acc: 0.8014, F1: 0.7737, AUC: 0.9171\n",
            "Val   - Loss: 0.2033, Acc: 0.7769, F1: 0.7340, AUC: 0.8312\n",
            "Saved model: /content/drive/MyDrive/dl_package/epoch_6_multimodal_efficientnet.pth\n",
            "New best model saved with Val F1: 0.7340\n",
            "Current learning rate: 0.000100\n",
            "\n",
            "Epoch 7/50 - Training\n"
          ]
        },
        {
          "name": "stderr",
          "output_type": "stream",
          "text": [
            "Training Batches: 100%|██████████| 91/91 [00:13<00:00,  6.77it/s]\n"
          ]
        },
        {
          "name": "stdout",
          "output_type": "stream",
          "text": [
            "\n",
            "Epoch 7/50 - Validation\n"
          ]
        },
        {
          "name": "stderr",
          "output_type": "stream",
          "text": [
            "Validation Batches: 100%|██████████| 31/31 [00:02<00:00, 12.72it/s]\n"
          ]
        },
        {
          "name": "stdout",
          "output_type": "stream",
          "text": [
            "\n",
            "Epoch 7 Summary:\n",
            "Train - Loss: 0.1120, Acc: 0.8234, F1: 0.7859, AUC: 0.9195\n",
            "Val   - Loss: 0.1942, Acc: 0.7934, F1: 0.7500, AUC: 0.8342\n",
            "Saved model: /content/drive/MyDrive/dl_package/epoch_7_multimodal_efficientnet.pth\n",
            "New best model saved with Val F1: 0.7500\n",
            "Current learning rate: 0.000100\n",
            "\n",
            "Epoch 8/50 - Training\n"
          ]
        },
        {
          "name": "stderr",
          "output_type": "stream",
          "text": [
            "Training Batches: 100%|██████████| 91/91 [00:11<00:00,  7.97it/s]\n"
          ]
        },
        {
          "name": "stdout",
          "output_type": "stream",
          "text": [
            "\n",
            "Epoch 8/50 - Validation\n"
          ]
        },
        {
          "name": "stderr",
          "output_type": "stream",
          "text": [
            "Validation Batches: 100%|██████████| 31/31 [00:02<00:00, 12.12it/s]\n"
          ]
        },
        {
          "name": "stdout",
          "output_type": "stream",
          "text": [
            "\n",
            "Epoch 8 Summary:\n",
            "Train - Loss: 0.1025, Acc: 0.8386, F1: 0.8036, AUC: 0.9110\n",
            "Val   - Loss: 0.2131, Acc: 0.7727, F1: 0.7368, AUC: 0.8347\n",
            "Saved model: /content/drive/MyDrive/dl_package/epoch_8_multimodal_efficientnet.pth\n",
            "Current learning rate: 0.000100\n",
            "\n",
            "Epoch 9/50 - Training\n"
          ]
        },
        {
          "name": "stderr",
          "output_type": "stream",
          "text": [
            "Training Batches: 100%|██████████| 91/91 [00:11<00:00,  7.71it/s]\n"
          ]
        },
        {
          "name": "stdout",
          "output_type": "stream",
          "text": [
            "\n",
            "Epoch 9/50 - Validation\n"
          ]
        },
        {
          "name": "stderr",
          "output_type": "stream",
          "text": [
            "Validation Batches: 100%|██████████| 31/31 [00:02<00:00, 11.17it/s]\n"
          ]
        },
        {
          "name": "stdout",
          "output_type": "stream",
          "text": [
            "\n",
            "Epoch 9 Summary:\n",
            "Train - Loss: 0.0812, Acc: 0.8786, F1: 0.8543, AUC: 0.9465\n",
            "Val   - Loss: 0.2410, Acc: 0.7975, F1: 0.7657, AUC: 0.8454\n",
            "Saved model: /content/drive/MyDrive/dl_package/epoch_9_multimodal_efficientnet.pth\n",
            "New best model saved with Val F1: 0.7657\n",
            "Current learning rate: 0.000100\n",
            "\n",
            "Epoch 10/50 - Training\n"
          ]
        },
        {
          "name": "stderr",
          "output_type": "stream",
          "text": [
            "Training Batches: 100%|██████████| 91/91 [00:12<00:00,  7.32it/s]\n"
          ]
        },
        {
          "name": "stdout",
          "output_type": "stream",
          "text": [
            "\n",
            "Epoch 10/50 - Validation\n"
          ]
        },
        {
          "name": "stderr",
          "output_type": "stream",
          "text": [
            "Validation Batches: 100%|██████████| 31/31 [00:03<00:00,  7.81it/s]\n"
          ]
        },
        {
          "name": "stdout",
          "output_type": "stream",
          "text": [
            "\n",
            "Epoch 10 Summary:\n",
            "Train - Loss: 0.0737, Acc: 0.8772, F1: 0.8529, AUC: 0.9436\n",
            "Val   - Loss: 0.2143, Acc: 0.8058, F1: 0.7642, AUC: 0.8426\n",
            "Saved model: /content/drive/MyDrive/dl_package/epoch_10_multimodal_efficientnet.pth\n",
            "Current learning rate: 0.000100\n",
            "\n",
            "Epoch 11/50 - Training\n"
          ]
        },
        {
          "name": "stderr",
          "output_type": "stream",
          "text": [
            "Training Batches: 100%|██████████| 91/91 [00:12<00:00,  7.36it/s]\n"
          ]
        },
        {
          "name": "stdout",
          "output_type": "stream",
          "text": [
            "\n",
            "Epoch 11/50 - Validation\n"
          ]
        },
        {
          "name": "stderr",
          "output_type": "stream",
          "text": [
            "Validation Batches: 100%|██████████| 31/31 [00:03<00:00,  9.87it/s]\n"
          ]
        },
        {
          "name": "stdout",
          "output_type": "stream",
          "text": [
            "\n",
            "Epoch 11 Summary:\n",
            "Train - Loss: 0.0588, Acc: 0.8966, F1: 0.8696, AUC: 0.9518\n",
            "Val   - Loss: 0.2388, Acc: 0.7975, F1: 0.7511, AUC: 0.8531\n",
            "Saved model: /content/drive/MyDrive/dl_package/epoch_11_multimodal_efficientnet.pth\n",
            "Current learning rate: 0.000100\n",
            "\n",
            "Epoch 12/50 - Training\n"
          ]
        },
        {
          "name": "stderr",
          "output_type": "stream",
          "text": [
            "Training Batches: 100%|██████████| 91/91 [00:12<00:00,  7.06it/s]\n"
          ]
        },
        {
          "name": "stdout",
          "output_type": "stream",
          "text": [
            "\n",
            "Epoch 12/50 - Validation\n"
          ]
        },
        {
          "name": "stderr",
          "output_type": "stream",
          "text": [
            "Validation Batches: 100%|██████████| 31/31 [00:02<00:00, 10.35it/s]\n"
          ]
        },
        {
          "name": "stdout",
          "output_type": "stream",
          "text": [
            "\n",
            "Epoch 12 Summary:\n",
            "Train - Loss: 0.0692, Acc: 0.9021, F1: 0.8803, AUC: 0.9360\n",
            "Val   - Loss: 0.2879, Acc: 0.7893, F1: 0.7523, AUC: 0.8353\n",
            "Saved model: /content/drive/MyDrive/dl_package/epoch_12_multimodal_efficientnet.pth\n",
            "Current learning rate: 0.000100\n",
            "\n",
            "Epoch 13/50 - Training\n"
          ]
        },
        {
          "name": "stderr",
          "output_type": "stream",
          "text": [
            "Training Batches: 100%|██████████| 91/91 [00:13<00:00,  6.89it/s]\n"
          ]
        },
        {
          "name": "stdout",
          "output_type": "stream",
          "text": [
            "\n",
            "Epoch 13/50 - Validation\n"
          ]
        },
        {
          "name": "stderr",
          "output_type": "stream",
          "text": [
            "Validation Batches: 100%|██████████| 31/31 [00:03<00:00,  8.64it/s]\n"
          ]
        },
        {
          "name": "stdout",
          "output_type": "stream",
          "text": [
            "\n",
            "Epoch 13 Summary:\n",
            "Train - Loss: 0.0509, Acc: 0.9090, F1: 0.8832, AUC: 0.9538\n",
            "Val   - Loss: 0.2530, Acc: 0.7893, F1: 0.7671, AUC: 0.8505\n",
            "Saved model: /content/drive/MyDrive/dl_package/epoch_13_multimodal_efficientnet.pth\n",
            "New best model saved with Val F1: 0.7671\n",
            "Current learning rate: 0.000100\n",
            "\n",
            "Epoch 14/50 - Training\n"
          ]
        },
        {
          "name": "stderr",
          "output_type": "stream",
          "text": [
            "Training Batches:  23%|██▎       | 21/91 [00:03<00:13,  5.24it/s]/usr/local/lib/python3.11/dist-packages/torchmetrics/utilities/prints.py:43: UserWarning: No negative samples in targets, false positive value should be meaningless. Returning zero tensor in false positive score\n",
            "  warnings.warn(*args, **kwargs)\n",
            "Training Batches: 100%|██████████| 91/91 [00:13<00:00,  6.60it/s]\n"
          ]
        },
        {
          "name": "stdout",
          "output_type": "stream",
          "text": [
            "\n",
            "Epoch 14/50 - Validation\n"
          ]
        },
        {
          "name": "stderr",
          "output_type": "stream",
          "text": [
            "Validation Batches: 100%|██████████| 31/31 [00:04<00:00,  7.38it/s]\n"
          ]
        },
        {
          "name": "stdout",
          "output_type": "stream",
          "text": [
            "\n",
            "Epoch 14 Summary:\n",
            "Train - Loss: 0.0666, Acc: 0.8993, F1: 0.8629, AUC: 0.9281\n",
            "Val   - Loss: 0.2585, Acc: 0.7851, F1: 0.7587, AUC: 0.8489\n",
            "Saved model: /content/drive/MyDrive/dl_package/epoch_14_multimodal_efficientnet.pth\n",
            "Current learning rate: 0.000100\n",
            "\n",
            "Epoch 15/50 - Training\n"
          ]
        },
        {
          "name": "stderr",
          "output_type": "stream",
          "text": [
            "Training Batches: 100%|██████████| 91/91 [00:14<00:00,  6.27it/s]\n"
          ]
        },
        {
          "name": "stdout",
          "output_type": "stream",
          "text": [
            "\n",
            "Epoch 15/50 - Validation\n"
          ]
        },
        {
          "name": "stderr",
          "output_type": "stream",
          "text": [
            "Validation Batches: 100%|██████████| 31/31 [00:03<00:00,  9.32it/s]\n"
          ]
        },
        {
          "name": "stdout",
          "output_type": "stream",
          "text": [
            "\n",
            "Epoch 15 Summary:\n",
            "Train - Loss: 0.0556, Acc: 0.9048, F1: 0.8816, AUC: 0.9419\n",
            "Val   - Loss: 0.2832, Acc: 0.8058, F1: 0.7784, AUC: 0.8541\n",
            "Saved model: /content/drive/MyDrive/dl_package/epoch_15_multimodal_efficientnet.pth\n",
            "New best model saved with Val F1: 0.7784\n",
            "Current learning rate: 0.000100\n",
            "\n",
            "Epoch 16/50 - Training\n"
          ]
        },
        {
          "name": "stderr",
          "output_type": "stream",
          "text": [
            "Training Batches: 100%|██████████| 91/91 [00:14<00:00,  6.14it/s]\n"
          ]
        },
        {
          "name": "stdout",
          "output_type": "stream",
          "text": [
            "\n",
            "Epoch 16/50 - Validation\n"
          ]
        },
        {
          "name": "stderr",
          "output_type": "stream",
          "text": [
            "Validation Batches: 100%|██████████| 31/31 [00:03<00:00,  8.95it/s]\n"
          ]
        },
        {
          "name": "stdout",
          "output_type": "stream",
          "text": [
            "\n",
            "Epoch 16 Summary:\n",
            "Train - Loss: 0.0457, Acc: 0.9269, F1: 0.9008, AUC: 0.9540\n",
            "Val   - Loss: 0.2599, Acc: 0.8058, F1: 0.7731, AUC: 0.8610\n",
            "Saved model: /content/drive/MyDrive/dl_package/epoch_16_multimodal_efficientnet.pth\n",
            "Current learning rate: 0.000100\n",
            "\n",
            "Epoch 17/50 - Training\n"
          ]
        },
        {
          "name": "stderr",
          "output_type": "stream",
          "text": [
            "Training Batches: 100%|██████████| 91/91 [00:14<00:00,  6.15it/s]\n"
          ]
        },
        {
          "name": "stdout",
          "output_type": "stream",
          "text": [
            "\n",
            "Epoch 17/50 - Validation\n"
          ]
        },
        {
          "name": "stderr",
          "output_type": "stream",
          "text": [
            "Validation Batches: 100%|██████████| 31/31 [00:04<00:00,  6.39it/s]\n"
          ]
        },
        {
          "name": "stdout",
          "output_type": "stream",
          "text": [
            "\n",
            "Epoch 17 Summary:\n",
            "Train - Loss: 0.0395, Acc: 0.9338, F1: 0.9107, AUC: 0.9586\n",
            "Val   - Loss: 0.2734, Acc: 0.7975, F1: 0.7727, AUC: 0.8527\n",
            "Saved model: /content/drive/MyDrive/dl_package/epoch_17_multimodal_efficientnet.pth\n",
            "Current learning rate: 0.000100\n",
            "\n",
            "Epoch 18/50 - Training\n"
          ]
        },
        {
          "name": "stderr",
          "output_type": "stream",
          "text": [
            "Training Batches: 100%|██████████| 91/91 [00:15<00:00,  6.02it/s]\n"
          ]
        },
        {
          "name": "stdout",
          "output_type": "stream",
          "text": [
            "\n",
            "Epoch 18/50 - Validation\n"
          ]
        },
        {
          "name": "stderr",
          "output_type": "stream",
          "text": [
            "Validation Batches: 100%|██████████| 31/31 [00:04<00:00,  7.57it/s]\n"
          ]
        },
        {
          "name": "stdout",
          "output_type": "stream",
          "text": [
            "\n",
            "Epoch 18 Summary:\n",
            "Train - Loss: 0.0337, Acc: 0.9531, F1: 0.9291, AUC: 0.9555\n",
            "Val   - Loss: 0.3036, Acc: 0.7934, F1: 0.7621, AUC: 0.8544\n",
            "Saved model: /content/drive/MyDrive/dl_package/epoch_18_multimodal_efficientnet.pth\n",
            "Current learning rate: 0.000100\n",
            "\n",
            "Epoch 19/50 - Training\n"
          ]
        },
        {
          "name": "stderr",
          "output_type": "stream",
          "text": [
            "Training Batches: 100%|██████████| 91/91 [00:15<00:00,  5.96it/s]\n"
          ]
        },
        {
          "name": "stdout",
          "output_type": "stream",
          "text": [
            "\n",
            "Epoch 19/50 - Validation\n"
          ]
        },
        {
          "name": "stderr",
          "output_type": "stream",
          "text": [
            "Validation Batches: 100%|██████████| 31/31 [00:05<00:00,  5.78it/s]\n"
          ]
        },
        {
          "name": "stdout",
          "output_type": "stream",
          "text": [
            "\n",
            "Epoch 19 Summary:\n",
            "Train - Loss: 0.0447, Acc: 0.9297, F1: 0.9071, AUC: 0.9680\n",
            "Val   - Loss: 0.2965, Acc: 0.7934, F1: 0.7736, AUC: 0.8466\n",
            "Saved model: /content/drive/MyDrive/dl_package/epoch_19_multimodal_efficientnet.pth\n",
            "Current learning rate: 0.000100\n",
            "\n",
            "Epoch 20/50 - Training\n"
          ]
        },
        {
          "name": "stderr",
          "output_type": "stream",
          "text": [
            "Training Batches: 100%|██████████| 91/91 [00:18<00:00,  5.04it/s]\n"
          ]
        },
        {
          "name": "stdout",
          "output_type": "stream",
          "text": [
            "\n",
            "Epoch 20/50 - Validation\n"
          ]
        },
        {
          "name": "stderr",
          "output_type": "stream",
          "text": [
            "Validation Batches: 100%|██████████| 31/31 [00:05<00:00,  5.91it/s]\n"
          ]
        },
        {
          "name": "stdout",
          "output_type": "stream",
          "text": [
            "\n",
            "Epoch 20 Summary:\n",
            "Train - Loss: 0.0311, Acc: 0.9324, F1: 0.9164, AUC: 0.9697\n",
            "Val   - Loss: 0.2695, Acc: 0.8182, F1: 0.7829, AUC: 0.8564\n",
            "Saved model: /content/drive/MyDrive/dl_package/epoch_20_multimodal_efficientnet.pth\n",
            "New best model saved with Val F1: 0.7829\n",
            "Current learning rate: 0.000100\n",
            "\n",
            "Epoch 21/50 - Training\n"
          ]
        },
        {
          "name": "stderr",
          "output_type": "stream",
          "text": [
            "Training Batches: 100%|██████████| 91/91 [00:23<00:00,  3.80it/s]\n"
          ]
        },
        {
          "name": "stdout",
          "output_type": "stream",
          "text": [
            "\n",
            "Epoch 21/50 - Validation\n"
          ]
        },
        {
          "name": "stderr",
          "output_type": "stream",
          "text": [
            "Validation Batches: 100%|██████████| 31/31 [00:05<00:00,  5.83it/s]\n"
          ]
        },
        {
          "name": "stdout",
          "output_type": "stream",
          "text": [
            "\n",
            "Epoch 21 Summary:\n",
            "Train - Loss: 0.0336, Acc: 0.9352, F1: 0.9146, AUC: 0.9581\n",
            "Val   - Loss: 0.3270, Acc: 0.8058, F1: 0.7793, AUC: 0.8438\n",
            "Saved model: /content/drive/MyDrive/dl_package/epoch_21_multimodal_efficientnet.pth\n",
            "Current learning rate: 0.000100\n",
            "\n",
            "Epoch 22/50 - Training\n"
          ]
        },
        {
          "name": "stderr",
          "output_type": "stream",
          "text": [
            "Training Batches: 100%|██████████| 91/91 [00:16<00:00,  5.38it/s]\n"
          ]
        },
        {
          "name": "stdout",
          "output_type": "stream",
          "text": [
            "\n",
            "Epoch 22/50 - Validation\n"
          ]
        },
        {
          "name": "stderr",
          "output_type": "stream",
          "text": [
            "Validation Batches: 100%|██████████| 31/31 [00:04<00:00,  6.62it/s]\n"
          ]
        },
        {
          "name": "stdout",
          "output_type": "stream",
          "text": [
            "\n",
            "Epoch 22 Summary:\n",
            "Train - Loss: 0.0223, Acc: 0.9462, F1: 0.9139, AUC: 0.9424\n",
            "Val   - Loss: 0.4035, Acc: 0.7893, F1: 0.7516, AUC: 0.8512\n",
            "Saved model: /content/drive/MyDrive/dl_package/epoch_22_multimodal_efficientnet.pth\n",
            "Current learning rate: 0.000100\n",
            "\n",
            "Epoch 23/50 - Training\n"
          ]
        },
        {
          "name": "stderr",
          "output_type": "stream",
          "text": [
            "Training Batches: 100%|██████████| 91/91 [00:17<00:00,  5.17it/s]\n"
          ]
        },
        {
          "name": "stdout",
          "output_type": "stream",
          "text": [
            "\n",
            "Epoch 23/50 - Validation\n"
          ]
        },
        {
          "name": "stderr",
          "output_type": "stream",
          "text": [
            "Validation Batches: 100%|██████████| 31/31 [00:04<00:00,  6.37it/s]\n"
          ]
        },
        {
          "name": "stdout",
          "output_type": "stream",
          "text": [
            "\n",
            "Epoch 23 Summary:\n",
            "Train - Loss: 0.0439, Acc: 0.9421, F1: 0.9149, AUC: 0.9479\n",
            "Val   - Loss: 0.4217, Acc: 0.8223, F1: 0.7835, AUC: 0.8412\n",
            "Saved model: /content/drive/MyDrive/dl_package/epoch_23_multimodal_efficientnet.pth\n",
            "New best model saved with Val F1: 0.7835\n",
            "Current learning rate: 0.000100\n",
            "\n",
            "Epoch 24/50 - Training\n"
          ]
        },
        {
          "name": "stderr",
          "output_type": "stream",
          "text": [
            "Training Batches: 100%|██████████| 91/91 [00:18<00:00,  5.04it/s]\n"
          ]
        },
        {
          "name": "stdout",
          "output_type": "stream",
          "text": [
            "\n",
            "Epoch 24/50 - Validation\n"
          ]
        },
        {
          "name": "stderr",
          "output_type": "stream",
          "text": [
            "Validation Batches: 100%|██████████| 31/31 [00:05<00:00,  5.29it/s]\n"
          ]
        },
        {
          "name": "stdout",
          "output_type": "stream",
          "text": [
            "\n",
            "Epoch 24 Summary:\n",
            "Train - Loss: 0.0349, Acc: 0.9462, F1: 0.9294, AUC: 0.9554\n",
            "Val   - Loss: 0.4202, Acc: 0.8017, F1: 0.7795, AUC: 0.8518\n",
            "Saved model: /content/drive/MyDrive/dl_package/epoch_24_multimodal_efficientnet.pth\n",
            "Current learning rate: 0.000100\n",
            "\n",
            "Epoch 25/50 - Training\n"
          ]
        },
        {
          "name": "stderr",
          "output_type": "stream",
          "text": [
            "Training Batches: 100%|██████████| 91/91 [00:17<00:00,  5.08it/s]\n"
          ]
        },
        {
          "name": "stdout",
          "output_type": "stream",
          "text": [
            "\n",
            "Epoch 25/50 - Validation\n"
          ]
        },
        {
          "name": "stderr",
          "output_type": "stream",
          "text": [
            "Validation Batches: 100%|██████████| 31/31 [00:05<00:00,  5.93it/s]\n"
          ]
        },
        {
          "name": "stdout",
          "output_type": "stream",
          "text": [
            "\n",
            "Epoch 25 Summary:\n",
            "Train - Loss: 0.0438, Acc: 0.9338, F1: 0.9081, AUC: 0.9550\n",
            "Val   - Loss: 0.3598, Acc: 0.8017, F1: 0.7723, AUC: 0.8498\n",
            "Saved model: /content/drive/MyDrive/dl_package/epoch_25_multimodal_efficientnet.pth\n",
            "Current learning rate: 0.000100\n",
            "\n",
            "Epoch 26/50 - Training\n"
          ]
        },
        {
          "name": "stderr",
          "output_type": "stream",
          "text": [
            "Training Batches: 100%|██████████| 91/91 [00:18<00:00,  4.81it/s]\n"
          ]
        },
        {
          "name": "stdout",
          "output_type": "stream",
          "text": [
            "\n",
            "Epoch 26/50 - Validation\n"
          ]
        },
        {
          "name": "stderr",
          "output_type": "stream",
          "text": [
            "Validation Batches: 100%|██████████| 31/31 [00:05<00:00,  6.20it/s]\n"
          ]
        },
        {
          "name": "stdout",
          "output_type": "stream",
          "text": [
            "\n",
            "Epoch 26 Summary:\n",
            "Train - Loss: 0.0300, Acc: 0.9572, F1: 0.9445, AUC: 0.9555\n",
            "Val   - Loss: 0.3285, Acc: 0.7975, F1: 0.7705, AUC: 0.8480\n",
            "Saved model: /content/drive/MyDrive/dl_package/epoch_26_multimodal_efficientnet.pth\n",
            "Current learning rate: 0.000100\n",
            "\n",
            "Epoch 27/50 - Training\n"
          ]
        },
        {
          "name": "stderr",
          "output_type": "stream",
          "text": [
            "Training Batches: 100%|██████████| 91/91 [00:20<00:00,  4.36it/s]\n"
          ]
        },
        {
          "name": "stdout",
          "output_type": "stream",
          "text": [
            "\n",
            "Epoch 27/50 - Validation\n"
          ]
        },
        {
          "name": "stderr",
          "output_type": "stream",
          "text": [
            "Validation Batches: 100%|██████████| 31/31 [00:05<00:00,  6.14it/s]\n"
          ]
        },
        {
          "name": "stdout",
          "output_type": "stream",
          "text": [
            "\n",
            "Epoch 27 Summary:\n",
            "Train - Loss: 0.0249, Acc: 0.9669, F1: 0.9554, AUC: 0.9767\n",
            "Val   - Loss: 0.3361, Acc: 0.8264, F1: 0.7935, AUC: 0.8677\n",
            "Saved model: /content/drive/MyDrive/dl_package/epoch_27_multimodal_efficientnet.pth\n",
            "New best model saved with Val F1: 0.7935\n",
            "Current learning rate: 0.000100\n",
            "\n",
            "Epoch 28/50 - Training\n"
          ]
        },
        {
          "name": "stderr",
          "output_type": "stream",
          "text": [
            "Training Batches: 100%|██████████| 91/91 [00:19<00:00,  4.56it/s]\n"
          ]
        },
        {
          "name": "stdout",
          "output_type": "stream",
          "text": [
            "\n",
            "Epoch 28/50 - Validation\n"
          ]
        },
        {
          "name": "stderr",
          "output_type": "stream",
          "text": [
            "Validation Batches: 100%|██████████| 31/31 [00:05<00:00,  6.01it/s]\n"
          ]
        },
        {
          "name": "stdout",
          "output_type": "stream",
          "text": [
            "\n",
            "Epoch 28 Summary:\n",
            "Train - Loss: 0.0372, Acc: 0.9545, F1: 0.9274, AUC: 0.9500\n",
            "Val   - Loss: 0.3653, Acc: 0.8058, F1: 0.7637, AUC: 0.8636\n",
            "Saved model: /content/drive/MyDrive/dl_package/epoch_28_multimodal_efficientnet.pth\n",
            "Current learning rate: 0.000100\n",
            "\n",
            "Epoch 29/50 - Training\n"
          ]
        },
        {
          "name": "stderr",
          "output_type": "stream",
          "text": [
            "Training Batches: 100%|██████████| 91/91 [00:20<00:00,  4.48it/s]\n"
          ]
        },
        {
          "name": "stdout",
          "output_type": "stream",
          "text": [
            "\n",
            "Epoch 29/50 - Validation\n"
          ]
        },
        {
          "name": "stderr",
          "output_type": "stream",
          "text": [
            "Validation Batches: 100%|██████████| 31/31 [00:05<00:00,  5.94it/s]\n"
          ]
        },
        {
          "name": "stdout",
          "output_type": "stream",
          "text": [
            "\n",
            "Epoch 29 Summary:\n",
            "Train - Loss: 0.0354, Acc: 0.9434, F1: 0.9168, AUC: 0.9442\n",
            "Val   - Loss: 0.3296, Acc: 0.7934, F1: 0.7625, AUC: 0.8601\n",
            "Saved model: /content/drive/MyDrive/dl_package/epoch_29_multimodal_efficientnet.pth\n",
            "Current learning rate: 0.000100\n",
            "\n",
            "Epoch 30/50 - Training\n"
          ]
        },
        {
          "name": "stderr",
          "output_type": "stream",
          "text": [
            "Training Batches: 100%|██████████| 91/91 [00:19<00:00,  4.56it/s]\n"
          ]
        },
        {
          "name": "stdout",
          "output_type": "stream",
          "text": [
            "\n",
            "Epoch 30/50 - Validation\n"
          ]
        },
        {
          "name": "stderr",
          "output_type": "stream",
          "text": [
            "Validation Batches: 100%|██████████| 31/31 [00:06<00:00,  5.14it/s]\n"
          ]
        },
        {
          "name": "stdout",
          "output_type": "stream",
          "text": [
            "\n",
            "Epoch 30 Summary:\n",
            "Train - Loss: 0.0202, Acc: 0.9641, F1: 0.9510, AUC: 0.9566\n",
            "Val   - Loss: 0.3302, Acc: 0.8017, F1: 0.7852, AUC: 0.8537\n",
            "Saved model: /content/drive/MyDrive/dl_package/epoch_30_multimodal_efficientnet.pth\n",
            "Current learning rate: 0.000100\n",
            "\n",
            "Epoch 31/50 - Training\n"
          ]
        },
        {
          "name": "stderr",
          "output_type": "stream",
          "text": [
            "Training Batches: 100%|██████████| 91/91 [00:20<00:00,  4.41it/s]\n"
          ]
        },
        {
          "name": "stdout",
          "output_type": "stream",
          "text": [
            "\n",
            "Epoch 31/50 - Validation\n"
          ]
        },
        {
          "name": "stderr",
          "output_type": "stream",
          "text": [
            "Validation Batches: 100%|██████████| 31/31 [00:05<00:00,  5.30it/s]\n"
          ]
        },
        {
          "name": "stdout",
          "output_type": "stream",
          "text": [
            "\n",
            "Epoch 31 Summary:\n",
            "Train - Loss: 0.0205, Acc: 0.9641, F1: 0.9466, AUC: 0.9409\n",
            "Val   - Loss: 0.3048, Acc: 0.8223, F1: 0.7875, AUC: 0.8638\n",
            "Saved model: /content/drive/MyDrive/dl_package/epoch_31_multimodal_efficientnet.pth\n",
            "Current learning rate: 0.000100\n",
            "\n",
            "Epoch 32/50 - Training\n"
          ]
        },
        {
          "name": "stderr",
          "output_type": "stream",
          "text": [
            "Training Batches: 100%|██████████| 91/91 [00:21<00:00,  4.30it/s]\n"
          ]
        },
        {
          "name": "stdout",
          "output_type": "stream",
          "text": [
            "\n",
            "Epoch 32/50 - Validation\n"
          ]
        },
        {
          "name": "stderr",
          "output_type": "stream",
          "text": [
            "Validation Batches: 100%|██████████| 31/31 [00:05<00:00,  5.29it/s]\n"
          ]
        },
        {
          "name": "stdout",
          "output_type": "stream",
          "text": [
            "\n",
            "Epoch 32 Summary:\n",
            "Train - Loss: 0.0168, Acc: 0.9697, F1: 0.9533, AUC: 0.9522\n",
            "Val   - Loss: 0.3706, Acc: 0.8182, F1: 0.7909, AUC: 0.8572\n",
            "Saved model: /content/drive/MyDrive/dl_package/epoch_32_multimodal_efficientnet.pth\n",
            "Current learning rate: 0.000100\n",
            "\n",
            "Epoch 33/50 - Training\n"
          ]
        },
        {
          "name": "stderr",
          "output_type": "stream",
          "text": [
            "Training Batches: 100%|██████████| 91/91 [00:21<00:00,  4.22it/s]\n"
          ]
        },
        {
          "name": "stdout",
          "output_type": "stream",
          "text": [
            "\n",
            "Epoch 33/50 - Validation\n"
          ]
        },
        {
          "name": "stderr",
          "output_type": "stream",
          "text": [
            "Validation Batches: 100%|██████████| 31/31 [00:05<00:00,  5.28it/s]\n"
          ]
        },
        {
          "name": "stdout",
          "output_type": "stream",
          "text": [
            "\n",
            "Epoch 33 Summary:\n",
            "Train - Loss: 0.0143, Acc: 0.9779, F1: 0.9726, AUC: 0.9593\n",
            "Val   - Loss: 0.3642, Acc: 0.8140, F1: 0.7717, AUC: 0.8663\n",
            "Saved model: /content/drive/MyDrive/dl_package/epoch_33_multimodal_efficientnet.pth\n",
            "Current learning rate: 0.000010\n",
            "\n",
            "Epoch 34/50 - Training\n"
          ]
        },
        {
          "name": "stderr",
          "output_type": "stream",
          "text": [
            "Training Batches: 100%|██████████| 91/91 [00:22<00:00,  4.13it/s]\n"
          ]
        },
        {
          "name": "stdout",
          "output_type": "stream",
          "text": [
            "\n",
            "Epoch 34/50 - Validation\n"
          ]
        },
        {
          "name": "stderr",
          "output_type": "stream",
          "text": [
            "Validation Batches: 100%|██████████| 31/31 [00:05<00:00,  5.24it/s]\n"
          ]
        },
        {
          "name": "stdout",
          "output_type": "stream",
          "text": [
            "\n",
            "Epoch 34 Summary:\n",
            "Train - Loss: 0.0103, Acc: 0.9821, F1: 0.9732, AUC: 0.9776\n",
            "Val   - Loss: 0.3624, Acc: 0.8223, F1: 0.7872, AUC: 0.8675\n",
            "Saved model: /content/drive/MyDrive/dl_package/epoch_34_multimodal_efficientnet.pth\n",
            "Current learning rate: 0.000010\n",
            "\n",
            "Epoch 35/50 - Training\n"
          ]
        },
        {
          "name": "stderr",
          "output_type": "stream",
          "text": [
            "Training Batches: 100%|██████████| 91/91 [00:22<00:00,  4.09it/s]\n"
          ]
        },
        {
          "name": "stdout",
          "output_type": "stream",
          "text": [
            "\n",
            "Epoch 35/50 - Validation\n"
          ]
        },
        {
          "name": "stderr",
          "output_type": "stream",
          "text": [
            "Validation Batches: 100%|██████████| 31/31 [00:05<00:00,  5.26it/s]\n"
          ]
        },
        {
          "name": "stdout",
          "output_type": "stream",
          "text": [
            "\n",
            "Epoch 35 Summary:\n",
            "Train - Loss: 0.0076, Acc: 0.9890, F1: 0.9857, AUC: 0.9609\n",
            "Val   - Loss: 0.3419, Acc: 0.8264, F1: 0.8098, AUC: 0.8636\n",
            "Saved model: /content/drive/MyDrive/dl_package/epoch_35_multimodal_efficientnet.pth\n",
            "New best model saved with Val F1: 0.8098\n",
            "Current learning rate: 0.000010\n",
            "\n",
            "Epoch 36/50 - Training\n"
          ]
        },
        {
          "name": "stderr",
          "output_type": "stream",
          "text": [
            "Training Batches: 100%|██████████| 91/91 [00:23<00:00,  3.92it/s]\n"
          ]
        },
        {
          "name": "stdout",
          "output_type": "stream",
          "text": [
            "\n",
            "Epoch 36/50 - Validation\n"
          ]
        },
        {
          "name": "stderr",
          "output_type": "stream",
          "text": [
            "Validation Batches: 100%|██████████| 31/31 [00:06<00:00,  4.56it/s]\n"
          ]
        },
        {
          "name": "stdout",
          "output_type": "stream",
          "text": [
            "\n",
            "Epoch 36 Summary:\n",
            "Train - Loss: 0.0138, Acc: 0.9848, F1: 0.9740, AUC: 0.9632\n",
            "Val   - Loss: 0.3419, Acc: 0.8140, F1: 0.7941, AUC: 0.8655\n",
            "Saved model: /content/drive/MyDrive/dl_package/epoch_36_multimodal_efficientnet.pth\n",
            "Current learning rate: 0.000010\n",
            "\n",
            "Epoch 37/50 - Training\n"
          ]
        },
        {
          "name": "stderr",
          "output_type": "stream",
          "text": [
            "Training Batches: 100%|██████████| 91/91 [00:21<00:00,  4.14it/s]\n"
          ]
        },
        {
          "name": "stdout",
          "output_type": "stream",
          "text": [
            "\n",
            "Epoch 37/50 - Validation\n"
          ]
        },
        {
          "name": "stderr",
          "output_type": "stream",
          "text": [
            "Validation Batches: 100%|██████████| 31/31 [00:07<00:00,  4.18it/s]\n"
          ]
        },
        {
          "name": "stdout",
          "output_type": "stream",
          "text": [
            "\n",
            "Epoch 37 Summary:\n",
            "Train - Loss: 0.0113, Acc: 0.9834, F1: 0.9717, AUC: 0.9669\n",
            "Val   - Loss: 0.3522, Acc: 0.8264, F1: 0.7934, AUC: 0.8688\n",
            "Saved model: /content/drive/MyDrive/dl_package/epoch_37_multimodal_efficientnet.pth\n",
            "Current learning rate: 0.000010\n",
            "\n",
            "Epoch 38/50 - Training\n"
          ]
        },
        {
          "name": "stderr",
          "output_type": "stream",
          "text": [
            "Training Batches: 100%|██████████| 91/91 [00:22<00:00,  4.08it/s]\n"
          ]
        },
        {
          "name": "stdout",
          "output_type": "stream",
          "text": [
            "\n",
            "Epoch 38/50 - Validation\n"
          ]
        },
        {
          "name": "stderr",
          "output_type": "stream",
          "text": [
            "Validation Batches: 100%|██████████| 31/31 [00:07<00:00,  4.27it/s]\n"
          ]
        },
        {
          "name": "stdout",
          "output_type": "stream",
          "text": [
            "\n",
            "Epoch 38 Summary:\n",
            "Train - Loss: 0.0074, Acc: 0.9931, F1: 0.9902, AUC: 0.9515\n",
            "Val   - Loss: 0.3487, Acc: 0.8264, F1: 0.7936, AUC: 0.8696\n",
            "Saved model: /content/drive/MyDrive/dl_package/epoch_38_multimodal_efficientnet.pth\n",
            "Current learning rate: 0.000010\n",
            "\n",
            "Epoch 39/50 - Training\n"
          ]
        },
        {
          "name": "stderr",
          "output_type": "stream",
          "text": [
            "Training Batches: 100%|██████████| 91/91 [00:23<00:00,  3.83it/s]\n"
          ]
        },
        {
          "name": "stdout",
          "output_type": "stream",
          "text": [
            "\n",
            "Epoch 39/50 - Validation\n"
          ]
        },
        {
          "name": "stderr",
          "output_type": "stream",
          "text": [
            "Validation Batches: 100%|██████████| 31/31 [00:06<00:00,  4.75it/s]\n"
          ]
        },
        {
          "name": "stdout",
          "output_type": "stream",
          "text": [
            "\n",
            "Epoch 39 Summary:\n",
            "Train - Loss: 0.0101, Acc: 0.9862, F1: 0.9805, AUC: 0.9572\n",
            "Val   - Loss: 0.3561, Acc: 0.8264, F1: 0.7940, AUC: 0.8717\n",
            "Saved model: /content/drive/MyDrive/dl_package/epoch_39_multimodal_efficientnet.pth\n",
            "Current learning rate: 0.000010\n",
            "\n",
            "Epoch 40/50 - Training\n"
          ]
        },
        {
          "name": "stderr",
          "output_type": "stream",
          "text": [
            "Training Batches: 100%|██████████| 91/91 [00:26<00:00,  3.40it/s]\n"
          ]
        },
        {
          "name": "stdout",
          "output_type": "stream",
          "text": [
            "\n",
            "Epoch 40/50 - Validation\n"
          ]
        },
        {
          "name": "stderr",
          "output_type": "stream",
          "text": [
            "Validation Batches: 100%|██████████| 31/31 [00:07<00:00,  4.03it/s]\n"
          ]
        },
        {
          "name": "stdout",
          "output_type": "stream",
          "text": [
            "\n",
            "Epoch 40 Summary:\n",
            "Train - Loss: 0.0085, Acc: 0.9890, F1: 0.9818, AUC: 0.9669\n",
            "Val   - Loss: 0.3551, Acc: 0.8182, F1: 0.7874, AUC: 0.8649\n",
            "Saved model: /content/drive/MyDrive/dl_package/epoch_40_multimodal_efficientnet.pth\n",
            "Current learning rate: 0.000010\n",
            "\n",
            "Epoch 41/50 - Training\n"
          ]
        },
        {
          "name": "stderr",
          "output_type": "stream",
          "text": [
            "Training Batches: 100%|██████████| 91/91 [00:24<00:00,  3.72it/s]\n"
          ]
        },
        {
          "name": "stdout",
          "output_type": "stream",
          "text": [
            "\n",
            "Epoch 41/50 - Validation\n"
          ]
        },
        {
          "name": "stderr",
          "output_type": "stream",
          "text": [
            "Validation Batches: 100%|██████████| 31/31 [00:06<00:00,  4.43it/s]\n"
          ]
        },
        {
          "name": "stdout",
          "output_type": "stream",
          "text": [
            "\n",
            "Epoch 41 Summary:\n",
            "Train - Loss: 0.0060, Acc: 0.9876, F1: 0.9853, AUC: 0.9926\n",
            "Val   - Loss: 0.3649, Acc: 0.8223, F1: 0.7922, AUC: 0.8646\n",
            "Saved model: /content/drive/MyDrive/dl_package/epoch_41_multimodal_efficientnet.pth\n",
            "Current learning rate: 0.000001\n",
            "\n",
            "Epoch 42/50 - Training\n"
          ]
        },
        {
          "name": "stderr",
          "output_type": "stream",
          "text": [
            "Training Batches: 100%|██████████| 91/91 [00:24<00:00,  3.67it/s]\n"
          ]
        },
        {
          "name": "stdout",
          "output_type": "stream",
          "text": [
            "\n",
            "Epoch 42/50 - Validation\n"
          ]
        },
        {
          "name": "stderr",
          "output_type": "stream",
          "text": [
            "Validation Batches: 100%|██████████| 31/31 [00:07<00:00,  3.91it/s]\n"
          ]
        },
        {
          "name": "stdout",
          "output_type": "stream",
          "text": [
            "\n",
            "Epoch 42 Summary:\n",
            "Train - Loss: 0.0073, Acc: 0.9903, F1: 0.9889, AUC: 0.9572\n",
            "Val   - Loss: 0.3666, Acc: 0.8182, F1: 0.7872, AUC: 0.8628\n",
            "Saved model: /content/drive/MyDrive/dl_package/epoch_42_multimodal_efficientnet.pth\n",
            "Current learning rate: 0.000001\n",
            "\n",
            "Epoch 43/50 - Training\n"
          ]
        },
        {
          "name": "stderr",
          "output_type": "stream",
          "text": [
            "Training Batches: 100%|██████████| 91/91 [00:24<00:00,  3.66it/s]\n"
          ]
        },
        {
          "name": "stdout",
          "output_type": "stream",
          "text": [
            "\n",
            "Epoch 43/50 - Validation\n"
          ]
        },
        {
          "name": "stderr",
          "output_type": "stream",
          "text": [
            "Validation Batches: 100%|██████████| 31/31 [00:07<00:00,  4.06it/s]\n"
          ]
        },
        {
          "name": "stdout",
          "output_type": "stream",
          "text": [
            "\n",
            "Epoch 43 Summary:\n",
            "Train - Loss: 0.0062, Acc: 0.9862, F1: 0.9708, AUC: 0.9595\n",
            "Val   - Loss: 0.3593, Acc: 0.8182, F1: 0.7933, AUC: 0.8657\n",
            "Saved model: /content/drive/MyDrive/dl_package/epoch_43_multimodal_efficientnet.pth\n",
            "Current learning rate: 0.000001\n",
            "\n",
            "Epoch 44/50 - Training\n"
          ]
        },
        {
          "name": "stderr",
          "output_type": "stream",
          "text": [
            "Training Batches: 100%|██████████| 91/91 [00:25<00:00,  3.53it/s]\n"
          ]
        },
        {
          "name": "stdout",
          "output_type": "stream",
          "text": [
            "\n",
            "Epoch 44/50 - Validation\n"
          ]
        },
        {
          "name": "stderr",
          "output_type": "stream",
          "text": [
            "Validation Batches: 100%|██████████| 31/31 [00:08<00:00,  3.74it/s]\n"
          ]
        },
        {
          "name": "stdout",
          "output_type": "stream",
          "text": [
            "\n",
            "Epoch 44 Summary:\n",
            "Train - Loss: 0.0185, Acc: 0.9766, F1: 0.9694, AUC: 0.9485\n",
            "Val   - Loss: 0.3481, Acc: 0.8223, F1: 0.7936, AUC: 0.8640\n",
            "Saved model: /content/drive/MyDrive/dl_package/epoch_44_multimodal_efficientnet.pth\n",
            "Current learning rate: 0.000001\n",
            "\n",
            "Epoch 45/50 - Training\n"
          ]
        },
        {
          "name": "stderr",
          "output_type": "stream",
          "text": [
            "Training Batches: 100%|██████████| 91/91 [00:25<00:00,  3.57it/s]\n"
          ]
        },
        {
          "name": "stdout",
          "output_type": "stream",
          "text": [
            "\n",
            "Epoch 45/50 - Validation\n"
          ]
        },
        {
          "name": "stderr",
          "output_type": "stream",
          "text": [
            "Validation Batches: 100%|██████████| 31/31 [00:07<00:00,  4.11it/s]\n"
          ]
        },
        {
          "name": "stdout",
          "output_type": "stream",
          "text": [
            "\n",
            "Epoch 45 Summary:\n",
            "Train - Loss: 0.0056, Acc: 0.9917, F1: 0.9804, AUC: 0.9632\n",
            "Val   - Loss: 0.3712, Acc: 0.8223, F1: 0.7913, AUC: 0.8686\n",
            "Saved model: /content/drive/MyDrive/dl_package/epoch_45_multimodal_efficientnet.pth\n",
            "Current learning rate: 0.000001\n",
            "Early stopping triggered\n",
            "Loaded best model weights\n",
            "EfficientNet Classification Report:\n",
            "              precision    recall  f1-score   support\n",
            "\n",
            "          AD     0.7957    0.9250    0.8555        80\n",
            "         MCI     0.8596    0.6049    0.7101        81\n",
            "          CN     0.7283    0.8272    0.7746        81\n",
            "\n",
            "    accuracy                         0.7851       242\n",
            "   macro avg     0.7945    0.7857    0.7801       242\n",
            "weighted avg     0.7945    0.7851    0.7798       242\n",
            "\n",
            "Saved predictions to /content/drive/MyDrive/dl_package/test_predictions_efficientnet.csv\n"
          ]
        }
      ],
      "source": [
        "def train_model(model, train_loader, val_loader, optimizer, num_epochs=50, patience=10):\n",
        "    best_f1 = 0.0\n",
        "    best_model_wts = copy.deepcopy(model.state_dict())\n",
        "    patience_counter = 0\n",
        "    scheduler = optim.lr_scheduler.ReduceLROnPlateau(optimizer, mode='max', factor=0.1, patience=5)\n",
        "\n",
        "    for epoch in range(num_epochs):\n",
        "        model.train()\n",
        "        train_loss, train_acc, train_f1, train_auc = 0.0, 0.0, 0.0, 0.0\n",
        "        train_samples = 0\n",
        "\n",
        "        print(f\"\\nEpoch {epoch+1}/{num_epochs} - Training\")\n",
        "        for batch_idx, (img, clin, label) in enumerate(tqdm(train_loader, desc=\"Training Batches\")):\n",
        "            img, clin, label = img.to(device), clin.to(device), label.to(device)\n",
        "            optimizer.zero_grad()\n",
        "            pred = model(img, clin)\n",
        "            loss = focal_loss(pred, label)\n",
        "            loss.backward()\n",
        "            optimizer.step()\n",
        "\n",
        "            batch_size = img.size(0)\n",
        "            batch_loss = loss.item()\n",
        "            batch_acc = accuracy(pred, label).item()\n",
        "            batch_f1 = f1_score(pred, label).item()\n",
        "            batch_auc = auroc(pred, label).item()\n",
        "\n",
        "            train_loss += batch_loss * batch_size\n",
        "            train_acc += batch_acc * batch_size\n",
        "            train_f1 += batch_f1 * batch_size\n",
        "            train_auc += batch_auc * batch_size\n",
        "            train_samples += batch_size\n",
        "\n",
        "        train_loss /= train_samples\n",
        "        train_acc /= train_samples\n",
        "        train_f1 /= train_samples\n",
        "        train_auc /= train_samples\n",
        "\n",
        "        model.eval()\n",
        "        val_loss, val_acc, val_f1, val_auc = 0.0, 0.0, 0.0, 0.0\n",
        "        val_samples = 0\n",
        "\n",
        "        print(f\"\\nEpoch {epoch+1}/{num_epochs} - Validation\")\n",
        "        with torch.no_grad():\n",
        "            for batch_idx, (img, clin, label) in enumerate(tqdm(val_loader, desc=\"Validation Batches\")):\n",
        "                img, clin, label = img.to(device), clin.to(device), label.to(device)\n",
        "                pred = model(img, clin)\n",
        "                loss = focal_loss(pred, label)\n",
        "\n",
        "                batch_size = img.size(0)\n",
        "                batch_loss = loss.item()\n",
        "                batch_acc = accuracy(pred, label).item()\n",
        "                batch_f1 = f1_score(pred, label).item()\n",
        "                batch_auc = auroc(pred, label).item()\n",
        "\n",
        "                val_loss += batch_loss * batch_size\n",
        "                val_acc += batch_acc * batch_size\n",
        "                val_f1 += batch_f1 * batch_size\n",
        "                val_auc += batch_auc * batch_size\n",
        "                val_samples += batch_size\n",
        "\n",
        "        val_loss /= val_samples\n",
        "        val_acc /= val_samples\n",
        "        val_f1 /= val_samples\n",
        "        val_auc /= val_samples\n",
        "\n",
        "        print(f\"\\nEpoch {epoch+1} Summary:\")\n",
        "        print(f\"Train - Loss: {train_loss:.4f}, Acc: {train_acc:.4f}, F1: {train_f1:.4f}, AUC: {train_auc:.4f}\")\n",
        "        print(f\"Val   - Loss: {val_loss:.4f}, Acc: {val_acc:.4f}, F1: {val_f1:.4f}, AUC: {val_auc:.4f}\")\n",
        "\n",
        "        epoch_save_path = f\"/content/drive/MyDrive/dl_package/epoch_{epoch+1}_multimodal_efficientnet.pth\"\n",
        "        torch.save(model.state_dict(), epoch_save_path)\n",
        "        print(f\"Saved model: {epoch_save_path}\")\n",
        "\n",
        "        if val_f1 > best_f1:\n",
        "            best_f1 = val_f1\n",
        "            best_model_wts = copy.deepcopy(model.state_dict())\n",
        "            torch.save(best_model_wts, \"/content/drive/MyDrive/dl_package/best_multimodal_efficientnet.pth\")\n",
        "            print(f\"New best model saved with Val F1: {best_f1:.4f}\")\n",
        "            patience_counter = 0\n",
        "        else:\n",
        "            patience_counter += 1\n",
        "\n",
        "        scheduler.step(val_f1)\n",
        "        print(f\"Current learning rate: {optimizer.param_groups[0]['lr']:.6f}\")\n",
        "\n",
        "        if patience_counter >= patience:\n",
        "            print(\"Early stopping triggered\")\n",
        "            break\n",
        "\n",
        "    model.load_state_dict(best_model_wts)\n",
        "    print(\"Loaded best model weights\")\n",
        "    return model\n",
        "\n",
        "# Classification Report\n",
        "def generate_classification_report(model, test_loader, device, weights_path=\"/content/drive/MyDrive/dl_package/best_multimodal_efficientnet.pth\"):\n",
        "    model.load_state_dict(torch.load(weights_path))\n",
        "    model.to(device)\n",
        "    model.eval()\n",
        "\n",
        "    all_preds = []\n",
        "    all_labels = []\n",
        "\n",
        "    with torch.no_grad():\n",
        "        for img, clin, label in test_loader:\n",
        "            img, clin, label = img.to(device), clin.to(device), label.to(device)\n",
        "            pred = model(img, clin)\n",
        "            pred_classes = torch.argmax(pred, dim=1)\n",
        "            all_preds.extend(pred_classes.cpu().numpy())\n",
        "            all_labels.extend(label.cpu().numpy())\n",
        "\n",
        "    report = classification_report(all_labels, all_preds, target_names=['AD', 'MCI', 'CN'], digits=4)\n",
        "    print(\"EfficientNet Classification Report:\")\n",
        "    print(report)\n",
        "\n",
        "    results_df = pd.DataFrame({\n",
        "        'true_label': all_labels,\n",
        "        'predicted_label': all_preds\n",
        "    })\n",
        "    results_df.to_csv(\"/content/drive/MyDrive/dl_package/test_predictions_efficientnet.csv\", index=False)\n",
        "    print(\"Saved predictions to /content/drive/MyDrive/dl_package/test_predictions_efficientnet.csv\")\n",
        "\n",
        "    return report, results_df\n",
        "\n",
        "model = train_model(model, train_loader, val_loader, optimizer, num_epochs=50, patience=10)\n",
        "report, results_df = generate_classification_report(model, test_loader, device)"
      ]
    },
    {
      "cell_type": "code",
      "execution_count": null,
      "metadata": {},
      "outputs": [],
      "source": []
    },
    {
      "cell_type": "code",
      "execution_count": null,
      "metadata": {
        "id": "EqbkLs2olZnC"
      },
      "outputs": [],
      "source": []
    }
  ],
  "metadata": {
    "accelerator": "GPU",
    "colab": {
      "gpuType": "T4",
      "provenance": []
    },
    "kernelspec": {
      "display_name": "Python 3",
      "name": "python3"
    },
    "language_info": {
      "name": "python"
    }
  },
  "nbformat": 4,
  "nbformat_minor": 0
}
